{
  "cells": [
    {
      "cell_type": "markdown",
      "id": "9babf270-65da-4866-be1d-1a2a53f7ba7d",
      "metadata": {},
      "source": [
        "# Intro to Python and Numpy\n",
        "\n",
        "Welcome to the first notebook of this course! In this notebook, we are\n",
        "going to learn how to represent different kinds of data in Python. We\n",
        "are also taking our first look at creating arrays in Numpy and we are\n",
        "going to analyze some actual neuroscience data. Finally, we are going to\n",
        "explore the differences in performance between Numpy and built-in Python\n",
        "functions.\n",
        "\n",
        "Execute the cell below to install the packages required for this\n",
        "notebook."
      ]
    },
    {
      "cell_type": "code",
      "execution_count": null,
      "id": "08a3c659",
      "metadata": {},
      "outputs": [],
      "source": [
        "%pip install numpy"
      ]
    },
    {
      "cell_type": "markdown",
      "id": "05ccb8fa-a09f-4e09-9ced-1700242bee41",
      "metadata": {},
      "source": [
        "## 1 Storing Data in Variables\n",
        "\n",
        "In the first section, we are going to learn how to represent different\n",
        "kinds of data and store them in variables. We are going to encounter\n",
        "four basic data types: integers, floating-point numbers, Boolean values\n",
        "and text strings. We are also going to use lists which are collections\n",
        "of data. Data can be assigned to a variable using the `=` operator which\n",
        "takes the value on the right and assigns it to the variable on the left.\n",
        "In this sense, a variable is simply a container that we can use to store\n",
        "and access data. The data type of a variable can be determined with the\n",
        "`type()` function. We can also convert variables from one type to\n",
        "another - for example, the `int()` function will try to convert a\n",
        "variable to an integer. Finally, Python provides operators for the\n",
        "arithmetic operations like addition `+`, subtraction `-`, multiplication\n",
        "`*` and division `/`. Let’s test how this works!\n",
        "\n",
        "| Code | Description |\n",
        "|------------------------------------|------------------------------------|\n",
        "| `x = 3.14` | Assign the floating-point number `3.14` to the variable `x` |\n",
        "| `x = True` | Assign the boolean value `True` to the variable `x` |\n",
        "| `x = \"hello\"` | Assign the string `\"hello\"` to the variable `x` |\n",
        "| `x = [1,2,3]` | Assign the list of integers `[1,2,3]` to the variable `x` |\n",
        "| `type(x)` | Get the data type of variable `x` |\n",
        "| `int(x)` | Convert the variable `x` to an integer, if possible |\n",
        "| `+`, `-`, `*`, `/` | Add, subtract, multiply, divide values |\n",
        "\n",
        "------------------------------------------------------------------------\n",
        "\n",
        "<span class=\"theorem-title\">**Example 1**</span> Assign the integer\n",
        "value `1` to a variable called `one` and print its `type()`."
      ]
    },
    {
      "cell_type": "code",
      "execution_count": 11,
      "id": "99593862",
      "metadata": {},
      "outputs": [
        {
          "data": {
            "text/plain": [
              "int"
            ]
          },
          "execution_count": 11,
          "metadata": {},
          "output_type": "execute_result"
        }
      ],
      "source": [
        "one = 1\n",
        "type(one)"
      ]
    },
    {
      "cell_type": "markdown",
      "id": "3852377d-0757-4354-ba34-62a195907220",
      "metadata": {},
      "source": [
        "<span class=\"theorem-title\">**Exercise 1**</span> Subtract 0.5 from the\n",
        "variable `one`"
      ]
    },
    {
      "cell_type": "code",
      "execution_count": 12,
      "id": "25e66e24",
      "metadata": {},
      "outputs": [
        {
          "data": {
            "text/plain": [
              "0.5"
            ]
          },
          "execution_count": 12,
          "metadata": {},
          "output_type": "execute_result"
        }
      ],
      "source": [
        "one - 0.5"
      ]
    },
    {
      "cell_type": "markdown",
      "id": "043c609c-2d2d-4e10-b330-a42c0640d3c5",
      "metadata": {},
      "source": [
        "<span class=\"theorem-title\">**Exercise 2**</span> Assign the floating\n",
        "value `0.001` to a variable called `small` and print its type."
      ]
    },
    {
      "cell_type": "code",
      "execution_count": 14,
      "id": "d66f7ce9",
      "metadata": {},
      "outputs": [
        {
          "data": {
            "text/plain": [
              "float"
            ]
          },
          "execution_count": 14,
          "metadata": {},
          "output_type": "execute_result"
        }
      ],
      "source": [
        "small = 0.001\n",
        "type(small)"
      ]
    },
    {
      "cell_type": "code",
      "execution_count": 15,
      "id": "52cbe010",
      "metadata": {},
      "outputs": [
        {
          "data": {
            "text/plain": [
              "float"
            ]
          },
          "execution_count": 15,
          "metadata": {},
          "output_type": "execute_result"
        }
      ],
      "source": [
        "one = 1.0\n",
        "type(one)"
      ]
    },
    {
      "cell_type": "markdown",
      "id": "269bbe02-26df-455e-8c5d-5f28def58133",
      "metadata": {},
      "source": [
        "<span class=\"theorem-title\">**Exercise 3**</span> Assign the Boolean\n",
        "value `False` to a variable called `this_is_false` and convert it to an\n",
        "integer."
      ]
    },
    {
      "cell_type": "code",
      "execution_count": 17,
      "id": "aa13a7f8",
      "metadata": {},
      "outputs": [
        {
          "data": {
            "text/plain": [
              "0"
            ]
          },
          "execution_count": 17,
          "metadata": {},
          "output_type": "execute_result"
        }
      ],
      "source": [
        "this_is_false = False\n",
        "int(this_is_false)"
      ]
    },
    {
      "cell_type": "markdown",
      "id": "83cc439a-a065-495f-a763-0e8958c4cdf8",
      "metadata": {},
      "source": [
        "<span class=\"theorem-title\">**Exercise 4**</span> Assign the Boolean\n",
        "value `True` to a variable called `this_is_true` and convert it to an\n",
        "integer."
      ]
    },
    {
      "cell_type": "code",
      "execution_count": 5,
      "id": "a562e230",
      "metadata": {},
      "outputs": [
        {
          "data": {
            "text/plain": [
              "1"
            ]
          },
          "execution_count": 5,
          "metadata": {},
          "output_type": "execute_result"
        }
      ],
      "source": [
        "this_is_true = True\n",
        "int(this_is_true)"
      ]
    },
    {
      "cell_type": "markdown",
      "id": "5a4298c6-5ef9-4e8b-a75c-c2bda79ab945",
      "metadata": {},
      "source": [
        "<span class=\"theorem-title\">**Exercise 5**</span> Assign the string\n",
        "value `\"goodbye\"` to a variable called `goodbye` and print its type"
      ]
    },
    {
      "cell_type": "code",
      "execution_count": 27,
      "id": "7c8b4cf8",
      "metadata": {},
      "outputs": [
        {
          "data": {
            "text/plain": [
              "str"
            ]
          },
          "execution_count": 27,
          "metadata": {},
          "output_type": "execute_result"
        }
      ],
      "source": [
        "goodbye = 'goodbye'\n",
        "type(goodbye)"
      ]
    },
    {
      "cell_type": "markdown",
      "id": "a14481de-f295-4726-9b63-cebccba46fff",
      "metadata": {},
      "source": [
        "<span class=\"theorem-title\">**Exercise 6**</span> Add the string\n",
        "`\"hello\"` to the variable `goodbye`"
      ]
    },
    {
      "cell_type": "code",
      "execution_count": 28,
      "id": "45a8f3da",
      "metadata": {},
      "outputs": [
        {
          "data": {
            "text/plain": [
              "'goodbyehello'"
            ]
          },
          "execution_count": 28,
          "metadata": {},
          "output_type": "execute_result"
        }
      ],
      "source": [
        "goodbye = goodbye + 'hello'\n",
        "goodbye"
      ]
    },
    {
      "cell_type": "markdown",
      "id": "3e78fd88-e7fd-42ce-a601-48c9d07663f5",
      "metadata": {},
      "source": [
        "<span class=\"theorem-title\">**Exercise 7**</span> Create a list with the\n",
        "numbers 1 through 6 to a variable called `dice` and print its type"
      ]
    },
    {
      "cell_type": "code",
      "execution_count": 34,
      "id": "1631a9fa",
      "metadata": {},
      "outputs": [
        {
          "data": {
            "text/plain": [
              "[1, 2, 3, 4, 5, 6]"
            ]
          },
          "execution_count": 34,
          "metadata": {},
          "output_type": "execute_result"
        }
      ],
      "source": [
        "dice = [1,2,3,4,5,6]\n",
        "dice"
      ]
    },
    {
      "cell_type": "markdown",
      "id": "c9b4bcf0",
      "metadata": {},
      "source": [
        "<span class=\"theorem-title\">**Exercise 8**</span> Multiply the list\n",
        "`dice` by 2. What happens?"
      ]
    },
    {
      "cell_type": "code",
      "execution_count": 35,
      "id": "488f8a82",
      "metadata": {},
      "outputs": [
        {
          "data": {
            "text/plain": [
              "[1, 2, 3, 4, 5, 6, 1, 2, 3, 4, 5, 6]"
            ]
          },
          "execution_count": 35,
          "metadata": {},
          "output_type": "execute_result"
        }
      ],
      "source": [
        "dice*2"
      ]
    },
    {
      "cell_type": "markdown",
      "id": "ba6bed8b",
      "metadata": {},
      "source": [
        "<span class=\"theorem-title\">**Exercise 9**</span> Try to add 1 to the list. What error message do you observe?"
      ]
    },
    {
      "cell_type": "code",
      "execution_count": 36,
      "id": "a974a296",
      "metadata": {},
      "outputs": [
        {
          "ename": "TypeError",
          "evalue": "can only concatenate list (not \"int\") to list",
          "output_type": "error",
          "traceback": [
            "\u001b[31m---------------------------------------------------------------------------\u001b[39m",
            "\u001b[31mTypeError\u001b[39m                                 Traceback (most recent call last)",
            "\u001b[36mCell\u001b[39m\u001b[36m \u001b[39m\u001b[32mIn[36]\u001b[39m\u001b[32m, line 1\u001b[39m\n\u001b[32m----> \u001b[39m\u001b[32m1\u001b[39m \u001b[43mdice\u001b[49m\u001b[43m \u001b[49m\u001b[43m+\u001b[49m\u001b[43m \u001b[49m\u001b[32;43m1\u001b[39;49m\n",
            "\u001b[31mTypeError\u001b[39m: can only concatenate list (not \"int\") to list"
          ]
        }
      ],
      "source": [
        "dice + 1"
      ]
    },
    {
      "cell_type": "markdown",
      "id": "0247ea38-1264-430c-8a11-adbc05c9f52d",
      "metadata": {},
      "source": [
        "## 2 Analyzing Neural Spiking Data with Numpy\n",
        "\n",
        "Numpy offers many useful functions for data analysis - let’s test them\n",
        "on some actual neuroscience data! In this section, we are going to load\n",
        "and analyze the spiking of a neuron in the primary visual cortex of a\n",
        "mouse. The spikes are represented as a sorted list of time points where\n",
        "spikes were observed. For example, `[0.05, 0.24, 1.5]` indicates that a\n",
        "spike was observed 50, 240 and 1500 milliseconds after the start of the\n",
        "recording. Using the functions below, we can answer some interesting\n",
        "questions about the firing behavior of a given neuron.\n",
        "\n",
        "| Code | Description |\n",
        "|------------------------------------|------------------------------------|\n",
        "| `import numpy as np` | Import the module `numpy` under the alias `np` |\n",
        "| `x = np.load(\"data.npy\")` | Load the file `\"data.npy\"` into an array and assign it to the variable `x` |\n",
        "| `np.size(x)` | Get the total number of element stored in the array `x` |\n",
        "| `np.min(x)` | Get the minimum value of the array `x` |\n",
        "| `np.max(x)` | Get the maximum value of the array `x` |\n",
        "| `np.mean(x)` | Compute the mean of all values in the array `x` |\n",
        "| `np.std(x)` | Compute the standard deviation of all values in the array `x` |\n",
        "| `np.diff(x)` | Compute the difference between consecutive elements in the array `x` |\n",
        "\n",
        "------------------------------------------------------------------------"
      ]
    },
    {
      "cell_type": "markdown",
      "id": "70673036",
      "metadata": {},
      "source": [
        "<span class=\"theorem-title\">**Exercise 10**</span> Import the Numpy\n",
        "module under the alias `np`."
      ]
    },
    {
      "cell_type": "code",
      "execution_count": 37,
      "id": "4f781a78",
      "metadata": {},
      "outputs": [],
      "source": [
        "import numpy as np"
      ]
    },
    {
      "cell_type": "markdown",
      "id": "ed491d38-ca59-482d-bea9-e9b235603dcf",
      "metadata": {},
      "source": [
        "<span class=\"theorem-title\">**Exercise 11**</span> Load the file\n",
        "`\"spikes.npy\"` into a Numpy array."
      ]
    },
    {
      "cell_type": "code",
      "execution_count": 38,
      "id": "8817b057",
      "metadata": {},
      "outputs": [],
      "source": [
        "spikes = np.load('spikes.npy')"
      ]
    },
    {
      "cell_type": "code",
      "execution_count": 42,
      "id": "94fe88ec",
      "metadata": {},
      "outputs": [
        {
          "data": {
            "text/plain": [
              "array([0.05400352, 0.10857034, 0.26107077, 0.5307382 , 0.56383829,\n",
              "       0.83653906, 1.21854014, 1.30070704, 2.12090935, 2.26177641])"
            ]
          },
          "execution_count": 42,
          "metadata": {},
          "output_type": "execute_result"
        }
      ],
      "source": [
        "spikes[:10]"
      ]
    },
    {
      "cell_type": "markdown",
      "id": "d8ccf3f2-95f7-4aa2-8750-0f67bedb315c",
      "metadata": {},
      "source": [
        "<span class=\"theorem-title\">**Exercise 12**</span> What is the total\n",
        "number of spikes in this recording?"
      ]
    },
    {
      "cell_type": "code",
      "execution_count": 39,
      "id": "4de65e60",
      "metadata": {},
      "outputs": [
        {
          "data": {
            "text/plain": [
              "721"
            ]
          },
          "execution_count": 39,
          "metadata": {},
          "output_type": "execute_result"
        }
      ],
      "source": [
        "np.size(spikes)"
      ]
    },
    {
      "cell_type": "markdown",
      "id": "0fb41eda-4076-4941-b9c6-eb7e5382096b",
      "metadata": {},
      "source": [
        "<span class=\"theorem-title\">**Exercise 13**</span> What is the duration\n",
        "of the recording (assuming the recording stopped after the last spike\n",
        "was recorded)?"
      ]
    },
    {
      "cell_type": "code",
      "execution_count": 40,
      "id": "e655aea5",
      "metadata": {},
      "outputs": [
        {
          "data": {
            "text/plain": [
              "np.float64(298.4843451836275)"
            ]
          },
          "execution_count": 40,
          "metadata": {},
          "output_type": "execute_result"
        }
      ],
      "source": [
        "spikes.max()"
      ]
    },
    {
      "cell_type": "markdown",
      "id": "6de38c43-747c-464a-97d4-c554260c212d",
      "metadata": {},
      "source": [
        "<span class=\"theorem-title\">**Exercise 14**</span> Compute the neuron’s\n",
        "average firing rate (the total number of spikes divided by the duration\n",
        "of the recording)."
      ]
    },
    {
      "cell_type": "code",
      "execution_count": 43,
      "id": "21207f26",
      "metadata": {},
      "outputs": [],
      "source": [
        "np.set_printoptions(legacy='1.25')"
      ]
    },
    {
      "cell_type": "code",
      "execution_count": 44,
      "id": "2eab7a44",
      "metadata": {},
      "outputs": [
        {
          "data": {
            "text/plain": [
              "2.415537067970653"
            ]
          },
          "execution_count": 44,
          "metadata": {},
          "output_type": "execute_result"
        }
      ],
      "source": [
        "np.size(spikes)/spikes.max()"
      ]
    },
    {
      "cell_type": "markdown",
      "id": "9ff9ba25-191a-4a9f-9919-a17c7a685957",
      "metadata": {},
      "source": [
        "<span class=\"theorem-title\">**Exercise 14**</span> Compute the\n",
        "inter-spike intervals (i.e. the time differences between subsequent\n",
        "spikes)."
      ]
    },
    {
      "cell_type": "code",
      "execution_count": null,
      "id": "da0129e1",
      "metadata": {},
      "outputs": [
        {
          "data": {
            "text/plain": [
              "array([5.45668206e-02, 1.52500430e-01, 2.69667427e-01, 3.31000934e-02,\n",
              "       2.72700769e-01, 3.82001077e-01, 8.21668984e-02, 8.20202313e-01,\n",
              "       1.40867064e-01, 5.27234820e-01, 1.28067028e-01, 1.42000400e-01,\n",
              "       1.48433752e-01, 7.44468766e-01, 4.85234702e-01, 9.23469271e-01,\n",
              "       1.14633657e-01, 2.14933940e-01, 2.31833987e-01, 1.33067042e-01,\n",
              "       8.11102288e-01, 1.93367212e-01, 5.40334857e-02, 2.30433983e-01,\n",
              "       1.16866996e-01, 1.00566950e-01, 3.59667681e-02, 7.12702010e-01,\n",
              "       3.39734291e-01, 1.78000502e+00, 8.98369200e-01, 4.10801159e-01,\n",
              "       6.40335139e-01, 4.96501400e-01, 1.27600360e-01, 1.45180409e+00,\n",
              "       6.80735253e-01, 6.49868499e-01, 1.13300320e-01, 2.46667362e-01,\n",
              "       1.29233698e-01, 7.74435517e-01, 1.20443673e+00, 2.88034146e-01,\n",
              "       1.49060420e+00, 1.80567176e-01, 3.03467523e-01, 1.12310317e+00,\n",
              "       2.69567427e-01, 9.76002753e-02, 2.34933996e-01, 5.25801483e-01,\n",
              "       1.39460393e+00, 1.12130316e+00, 8.93702521e-01, 2.91967490e-01,\n",
              "       4.86601372e-01, 9.35402638e-01, 4.36134563e-01, 3.44200971e-01,\n",
              "       1.31600371e-01, 1.04896963e+00, 1.36633719e-01, 2.01800569e-01,\n",
              "       9.14335912e-02, 4.04367807e-01, 2.84900804e-01, 1.00976951e+00,\n",
              "       4.61001300e-02, 1.40530396e+00, 1.62933793e-01, 1.06706968e+00,\n",
              "       8.13368961e-01, 3.41067629e-01, 3.82434412e-01, 3.97734455e-01,\n",
              "       1.03556959e+00, 1.69800479e-01, 7.81335537e-01, 7.90002228e-03,\n",
              "       2.31033985e-01, 4.57634624e-01, 1.59840451e+00, 1.33670377e+00,\n",
              "       3.26567588e-01, 9.41669322e-02, 4.42201247e-01, 6.44335151e-02,\n",
              "       2.58934064e-01, 2.13200601e-01, 6.61268532e-01, 6.43968483e-01,\n",
              "       1.82900516e-01, 3.95601116e-01, 3.21334240e-01, 9.42669325e-02,\n",
              "       1.17000330e-01, 1.04033627e-01, 8.48102392e-01, 1.11800315e-01,\n",
              "       1.99087228e+00, 7.12668677e-02, 1.35533716e-01, 5.00334744e-02,\n",
              "       1.19667004e-02, 2.03633908e-01, 6.09235052e-01, 1.79967174e-01,\n",
              "       4.41667912e-02, 1.04723629e+00, 1.31233703e+00, 9.87669452e-02,\n",
              "       4.96668067e-02, 9.63769385e-01, 1.42533735e-01, 1.60250452e+00,\n",
              "       9.10002566e-02, 1.04133627e-01, 8.34435687e-01, 2.20523955e+00,\n",
              "       4.45301256e-01, 1.27270359e+00, 2.27133974e-01, 3.34867611e-01,\n",
              "       2.16167276e-01, 6.92001952e-02, 1.09333642e-01, 1.06066966e+00,\n",
              "       4.42101247e-01, 1.24857019e+00, 3.50434322e-01, 2.32333989e+00,\n",
              "       9.43669328e-02, 3.73034385e-01, 7.34135404e-01, 9.15669249e-02,\n",
              "       4.00501130e-01, 4.90868051e-01, 1.95533885e-01, 9.54669359e-02,\n",
              "       9.67802729e-01, 1.94900550e-01, 8.70102454e-01, 1.00650284e+00,\n",
              "       6.85035265e-01, 7.11502007e-01, 1.11266980e-01, 1.89633868e-01,\n",
              "       1.87000527e-02, 8.08068946e-01, 4.23667862e-01, 8.16668970e-02,\n",
              "       8.97002530e-01, 3.01600851e-01, 2.28200644e-01, 5.74434953e-01,\n",
              "       3.09667540e-02, 1.59333783e-01, 4.46767927e-01, 1.28000361e-02,\n",
              "       1.35667049e-02, 1.30767035e-01, 7.89602227e-01, 8.21668984e-01,\n",
              "       3.85767755e-01, 6.91001949e-02, 2.04600577e+00, 5.23934811e-01,\n",
              "       9.57936035e-01, 8.35669024e-02, 1.70333814e-02, 1.86067191e-01,\n",
              "       1.31897039e+00, 1.18367000e-01, 2.30200649e-01, 4.55667952e-02,\n",
              "       8.94002521e-02, 2.17400613e-01, 9.31769295e-01, 1.80853843e+00,\n",
              "       7.74335517e-02, 7.45802103e-01, 2.78934120e-01, 4.10801159e-01,\n",
              "       2.14897273e+00, 1.71910485e+00, 6.94668626e-02, 8.23002321e-01,\n",
              "       2.92800826e-01, 3.48300982e-01, 2.81267460e-01, 2.96667503e-02,\n",
              "       8.55769080e-01, 5.99635024e-01, 6.75768573e-01, 6.30968446e-01,\n",
              "       8.16668970e-03, 1.07466970e-01, 1.94933883e-01, 3.45500974e-01,\n",
              "       8.13702295e-01, 2.62267406e-01, 3.00867515e-01, 9.56202697e-01,\n",
              "       6.13001729e-02, 2.85567472e-01, 5.77134961e-01, 2.81934128e-01,\n",
              "       2.19767286e-01, 6.04235037e-01, 6.34968457e-01, 5.66668265e-01,\n",
              "       4.97601403e-01, 3.48467649e-01, 7.24668710e-02, 3.50200988e-01,\n",
              "       2.38600673e-01, 3.75001058e-01, 3.55701003e-01, 3.58567678e-01,\n",
              "       6.61668533e-02, 3.51800992e-01, 1.03466958e-01, 4.34967893e-01,\n",
              "       3.60667684e-02, 3.16947561e+00, 1.75733829e-01, 9.62036047e-01,\n",
              "       2.25247302e+00, 4.63334640e-02, 1.68533809e-01, 1.69033810e-01,\n",
              "       3.36667616e-03, 5.77868296e-01, 2.46000694e-02, 1.53533766e-01,\n",
              "       9.23669272e-01, 3.06667532e-02, 7.35535408e-01, 3.72967719e-01,\n",
              "       8.36669026e-03, 1.13206986e+00, 4.83368030e-01, 3.72067716e-01,\n",
              "       1.19790338e+00, 2.26400639e-01, 3.79834405e-01, 5.30068162e-01,\n",
              "       6.88668609e-01, 8.65069106e-01, 1.17303664e+00, 1.06873635e+00,\n",
              "       1.42667069e-02, 4.27667873e-01, 2.12633933e-01, 1.07373636e+00,\n",
              "       4.26201202e-01, 6.32535117e-01, 2.37067335e-01, 2.00500565e-01,\n",
              "       1.50127090e+00, 3.15467556e-01, 2.13353935e+00, 3.18900899e-01,\n",
              "       1.69500478e-01, 3.01000849e-02, 4.09367821e-01, 3.14567554e-01,\n",
              "       1.57200443e-01, 2.58700730e-01, 2.00633899e-01, 4.34467892e-01,\n",
              "       7.52702123e-01, 1.13356986e+00, 2.32867323e-01, 1.21567010e-01,\n",
              "       6.14601733e-01, 2.11573930e+00, 5.53968229e-01, 8.67335779e-02,\n",
              "       5.10434773e-01, 9.10669235e-02, 1.53400433e-01, 7.18502026e-01,\n",
              "       1.44800408e-01, 1.05133630e-01, 3.71834382e-01, 4.43901252e-01,\n",
              "       4.77701347e-01, 3.21000905e-01, 8.05235604e-01, 1.92067208e-01,\n",
              "       7.26368715e-01, 1.01316952e+00, 6.88101941e-01, 2.24933968e-01,\n",
              "       7.27868719e-01, 5.55334900e-02, 6.47001825e-02, 2.41367347e-01,\n",
              "       8.84269161e-01, 1.82843849e+00, 3.68367706e-01, 4.27201205e-01,\n",
              "       7.10368670e-01, 2.21560625e+00, 8.14868965e-01, 1.79443839e+00,\n",
              "       3.51900992e-01, 2.78000784e-01, 1.80300509e-01, 3.67634370e-01,\n",
              "       1.43133737e-01, 4.23434528e-01, 7.66468828e-01, 4.27134538e-01,\n",
              "       1.63000460e-02, 4.13934501e-01, 8.98602534e-01, 6.73601900e-01,\n",
              "       5.65101594e-01, 1.18567001e-01, 1.45983745e+00, 2.44034022e+00,\n",
              "       7.30735394e-01, 1.19110336e+00, 1.02280288e+00, 2.28150643e+00,\n",
              "       1.11966982e-01, 7.42768761e-01, 3.95667783e-02, 6.75601905e-01,\n",
              "       6.25668431e-02, 3.74334389e-01, 3.19234234e-01, 2.10967262e-01,\n",
              "       3.61234352e-01, 3.06667532e-02, 5.14001450e-02, 4.89668048e-02,\n",
              "       8.58002420e-02, 9.44302663e-01, 5.35301510e-01, 9.67402728e-01,\n",
              "       3.12000880e-02, 2.90667486e-01, 2.41200680e+00, 2.33933993e-01,\n",
              "       3.74601056e-01, 4.60001297e-02, 1.69400478e-01, 9.02735879e-01,\n",
              "       1.12273650e+00, 2.70367429e-01, 1.95333884e-02, 1.66933804e-01,\n",
              "       4.66434649e-01, 1.68390475e+00, 3.54367666e-01, 4.58067959e-01,\n",
              "       1.33333709e-02, 5.96135015e-01, 1.76233830e-01, 1.56300441e-01,\n",
              "       2.84400802e-01, 2.98000840e-02, 6.61268532e-01, 6.28268439e-01,\n",
              "       1.57200443e-01, 1.60027118e+00, 4.97301403e-01, 1.34547046e+00,\n",
              "       1.84567187e-01, 5.12168111e-01, 5.57634906e-01, 1.01666953e-01,\n",
              "       1.15100325e-01, 6.29801776e-01, 2.92067490e-01, 8.78002476e-02,\n",
              "       2.33133991e-01, 1.71247150e+00, 8.89569176e-01, 9.03302548e-01,\n",
              "       1.05300297e-01, 8.58335754e-01, 2.94667498e-02, 2.04267243e-01,\n",
              "       5.38868186e-01, 2.21300624e-01, 1.28657030e+00, 3.26067586e-01,\n",
              "       3.35500946e-01, 6.22768423e-01, 2.88800815e-01, 2.39100674e-01,\n",
              "       1.63543795e+00, 2.20500622e-01, 2.52610712e+00, 3.10200875e-01,\n",
              "       1.13300320e-01, 3.97167787e-01, 4.37234566e-01, 1.32767041e-01,\n",
              "       6.10001720e-02, 5.21801472e-01, 6.07068379e-01, 2.82634130e-01,\n",
              "       9.17269254e-01, 1.48953753e+00, 3.37367618e-01, 3.37200951e-01,\n",
              "       1.28623696e+00, 4.42567915e-01, 4.66001314e-02, 2.56000722e-01,\n",
              "       1.10526978e+00, 3.76567729e-01, 2.96300836e-01, 8.09068948e-01,\n",
              "       1.24000350e-02, 6.71568561e-01, 1.79400506e-01, 6.73301899e-01,\n",
              "       3.52234327e-01, 1.26733691e-01, 8.66569111e-01, 1.17296997e+00,\n",
              "       1.59400450e-01, 1.30597035e+00, 3.99701127e-01, 1.13836988e+00,\n",
              "       3.50334321e-01, 4.66901317e-01, 4.35034560e-01, 3.18734232e-01,\n",
              "       1.92200542e-01, 1.29133698e-01, 1.88833866e-01, 2.04867244e-01,\n",
              "       9.86702783e-01, 1.31890372e+00, 6.83335261e-03, 1.19900338e-01,\n",
              "       6.86668603e-02, 8.77335808e-02, 8.80935818e-01, 2.96300836e-01,\n",
              "       7.55668798e-02, 6.22468422e-01, 1.73800490e-01, 3.90667768e-02,\n",
              "       1.46667080e-02, 2.71867433e-01, 1.10730312e+00, 1.20830341e+00,\n",
              "       1.65233799e-01, 3.61607687e+00, 1.20833674e-01, 2.86700809e-01,\n",
              "       8.52335737e-02, 1.07066969e-01, 5.36668180e-01, 6.59668527e-01,\n",
              "       1.02400289e-01, 5.83034978e-01, 4.22134524e-01, 1.71633817e-01,\n",
              "       6.07135046e-01, 1.73600490e-01, 1.93333879e-02, 3.29067595e-01,\n",
              "       9.38335980e-02, 1.31033703e-01, 1.14016988e+00, 9.59336039e-02,\n",
              "       7.13435345e-01, 1.73567156e-01, 6.46001822e-02, 8.78335811e-02,\n",
              "       1.49400421e-01, 5.37568183e-01, 5.43301532e-01, 1.66887137e+00,\n",
              "       9.53336022e-02, 1.62600459e-01, 9.54336025e-02, 3.35334279e-02,\n",
              "       7.37002079e-02, 1.30957036e+00, 1.03833626e-01, 7.56702134e-01,\n",
              "       4.61601302e-01, 3.45700975e-01, 1.39000392e-02, 1.31660371e+00,\n",
              "       2.18333949e-02, 4.95268063e-01, 1.32367040e-01, 4.69334657e-02,\n",
              "       1.14133655e-01, 5.59668245e-02, 7.23335373e-03, 2.70667430e-02,\n",
              "       5.57568239e-01, 2.36434000e-01, 7.83435543e-01, 1.28033694e-01,\n",
              "       1.13700321e-01, 4.71667997e-02, 4.81968026e-01, 1.10766979e-01,\n",
              "       1.38967059e-01, 1.95400551e-01, 1.43800406e-01, 2.96667503e-03,\n",
              "       7.02668648e-02, 6.85668600e-02, 2.54667385e-02, 6.23335091e-02,\n",
              "       4.73601336e-01, 4.92034721e-01, 1.54267102e-01, 3.25367584e-01,\n",
              "       2.35667331e-02, 2.67934089e-01, 6.61335198e-01, 1.11266980e-01,\n",
              "       1.26433690e-01, 6.15668403e-02, 1.09366975e-01, 3.03667523e-02,\n",
              "       1.36233718e-01, 7.05001988e-02, 2.92667492e-02, 1.23867016e-01,\n",
              "       7.18335359e-02, 1.32533707e-01, 1.10033644e-01, 4.86401372e-01,\n",
              "       3.72334383e-02, 2.16800611e-01, 3.62334355e-02, 1.83900519e-01,\n",
              "       3.05834196e-01, 4.14734503e-01, 3.84334417e-02, 8.30335675e-02,\n",
              "       2.29400647e-01, 3.89134431e-01, 1.72133819e-01, 1.01400286e-01,\n",
              "       5.48668214e-02, 2.72334101e-02, 6.77935245e-01, 1.67200472e-01,\n",
              "       2.14667272e-02, 3.59334347e-01, 8.52969072e-01, 6.92668620e-02,\n",
              "       3.85667754e-02, 2.29500647e-01, 2.00767233e-01, 1.48267085e-01,\n",
              "       3.59034346e-01, 1.14666990e-02, 6.41335142e-02, 8.20102313e-01,\n",
              "       1.37000386e-02, 3.10200875e-01, 1.42567069e-01, 7.65468826e-01,\n",
              "       2.15133940e-01, 2.77634116e-01, 8.50002397e-02, 2.68634091e-01,\n",
              "       1.00706951e+00, 1.17833666e-01, 6.68001884e-02, 5.19934800e-01,\n",
              "       2.31433986e-01, 1.18367000e-01, 1.37033720e-01, 1.38200390e-01,\n",
              "       3.01267516e-01, 6.38335134e-02, 2.40100677e-01, 1.39533727e-01,\n",
              "       7.08668665e-02, 2.36667334e-02, 4.58001292e-02, 1.12400317e-01,\n",
              "       3.64834362e-01, 9.68002730e-02, 2.29700648e-01, 1.08433639e-01,\n",
              "       1.76667165e-02, 5.02668084e-02, 6.16668406e-02, 3.55067668e-01,\n",
              "       1.46267079e-01, 2.56034055e-01, 6.89635278e-01, 1.56000440e-02,\n",
              "       2.69000759e-02, 4.00001128e-03, 5.73668285e-02, 1.40700397e-01,\n",
              "       4.01001131e-02, 1.48467085e-01, 2.02867239e-01, 7.51668787e-02,\n",
              "       1.06933635e-01, 6.34001788e-02, 7.67668832e-02, 2.32000654e-02,\n",
              "       2.18333949e-02, 6.34335122e-02, 5.46001540e-02, 5.15668121e-01,\n",
              "       4.78568016e-01, 1.80600509e-01, 2.68367424e-01, 4.12667831e-02,\n",
              "       3.96334451e-02, 1.53800434e-01, 2.48667368e-02, 2.05700580e-01,\n",
              "       1.42933736e-01, 1.05633631e-01, 4.96001399e-02, 1.94667216e-02,\n",
              "       7.66335495e-02, 1.05666965e-01, 2.04800578e-01, 1.75400495e-01,\n",
              "       7.53668792e-02, 4.72668000e-02, 1.28933697e-01, 8.29335672e-02,\n",
              "       4.38334570e-02, 4.37001232e-02, 7.50002115e-03, 9.18335923e-02,\n",
              "       4.58667960e-02, 1.03733626e-01, 1.59267116e-01, 5.11334775e-02,\n",
              "       2.63000742e-02, 1.12476984e+00, 1.92100542e-01, 8.12668959e-02,\n",
              "       7.57768804e-01, 4.57101289e-01, 9.12669241e-01, 1.38033723e-01,\n",
              "       4.08001151e-02, 2.32800657e-01, 1.81133844e-01, 5.69668273e-02,\n",
              "       1.56000440e-02, 9.05002552e-01, 4.84001365e-02, 4.28501209e-01,\n",
              "       3.02000852e-01, 1.26567024e-01, 4.80001354e-03, 1.98467226e-01,\n",
              "       2.57200725e-01, 4.33501223e-01, 3.98101123e-01, 9.03335881e-02,\n",
              "       1.62433791e-01, 3.46667644e-02, 1.41333732e-01, 4.27667873e-01,\n",
              "       5.66668265e-04, 6.84335263e-02, 3.37567619e-01, 1.25000353e-02,\n",
              "       5.86668321e-03, 3.87767760e-01, 2.03300573e-01, 4.17767845e-01,\n",
              "       1.51167093e-01, 9.26335946e-02, 4.95001396e-02, 4.07001148e-01,\n",
              "       1.66667137e-03, 6.71001892e-02, 1.81167178e-01, 1.97600557e-01,\n",
              "       2.17533947e-01, 2.83667467e-02, 7.24135376e-01, 6.49001830e-02,\n",
              "       6.70668558e-02, 3.29400929e-01, 2.05667247e-02, 1.22700346e-01,\n",
              "       2.21000623e-01, 7.76668857e-03, 4.70667994e-01, 3.40067626e-01,\n",
              "       5.70668276e-01, 1.02666956e-02, 2.57067392e-01, 1.26667024e-02,\n",
              "       8.73669131e-02, 1.96833888e-01, 3.54134332e-01, 7.88668891e-02,\n",
              "       1.83533851e-01, 5.58668242e-02, 6.80668586e-02, 5.90668333e-02,\n",
              "       2.72900770e-01, 2.00833900e-01, 3.04267525e-01, 1.70400481e-01])"
            ]
          },
          "execution_count": 21,
          "metadata": {},
          "output_type": "execute_result"
        }
      ],
      "source": [
        "np.diff(spikes)"
      ]
    },
    {
      "cell_type": "markdown",
      "id": "009561d6-a40d-4deb-80fa-3213ef455cd2",
      "metadata": {},
      "source": [
        "<span class=\"theorem-title\">**Exercise 16**</span> What is the average\n",
        "inter-spike interval for this neuron?"
      ]
    },
    {
      "cell_type": "code",
      "execution_count": 47,
      "id": "f4ce1a50",
      "metadata": {},
      "outputs": [
        {
          "data": {
            "text/plain": [
              "0.4144865856420776"
            ]
          },
          "execution_count": 47,
          "metadata": {},
          "output_type": "execute_result"
        }
      ],
      "source": [
        "isi = np.diff(spikes)\n",
        "isi.mean()"
      ]
    },
    {
      "cell_type": "markdown",
      "id": "189c6e4c-6f7e-416b-8398-1b90cab30d0c",
      "metadata": {},
      "source": [
        "<span class=\"theorem-title\">**Exercise 17**</span> What is the standard\n",
        "deviation of inter-spike intervals for this neuron?"
      ]
    },
    {
      "cell_type": "code",
      "execution_count": null,
      "id": "b0812524",
      "metadata": {},
      "outputs": [
        {
          "data": {
            "text/plain": [
              "np.float64(0.47663480650055273)"
            ]
          },
          "execution_count": 23,
          "metadata": {},
          "output_type": "execute_result"
        }
      ],
      "source": [
        "np.diff(spikes).std()"
      ]
    },
    {
      "cell_type": "markdown",
      "id": "b7963c17-56a3-42c3-8f22-3e8eb2dba25d",
      "metadata": {},
      "source": [
        "<span class=\"theorem-title\">**Exercise 18**</span> What is the shortest\n",
        "time between two spikes?"
      ]
    },
    {
      "cell_type": "code",
      "execution_count": null,
      "id": "2a59773c",
      "metadata": {},
      "outputs": [
        {
          "data": {
            "text/plain": [
              "np.float64(0.0005666682648097776)"
            ]
          },
          "execution_count": 24,
          "metadata": {},
          "output_type": "execute_result"
        }
      ],
      "source": [
        "np.diff(spikes).min()"
      ]
    },
    {
      "cell_type": "markdown",
      "id": "7e0ab5f6-e93a-4a03-abb2-bd2a29b3177c",
      "metadata": {},
      "source": [
        "## 3 Creating Arrays in Numpy\n",
        "\n",
        "Numpy also offers many functions for generating arrays. The simplest way\n",
        "to create an array is to convert a list but there are other functions\n",
        "for specific purposes like generating arrays of random numbers or\n",
        "numbers within a certain range. Like variables, Numpy arrays can have\n",
        "different data types. The type of an array is stored in the `.dtype`\n",
        "attribute. In this section, we are going to create and explore different\n",
        "kinds of arrays.\n",
        "\n",
        "| Code | Description |\n",
        "|------------------------------------|------------------------------------|\n",
        "| `x = np.array([2,5,3])` | Create an array from the list `[2,5,3]` and assign it to the variable `x` |\n",
        "| `x = np.random.randn(100)` | Create an array with 100 normally-distributed random numbers and assign it to the variable `x` |\n",
        "| `x = np.arange(2,7)` | Create an array with all integers between 2 and (not including) 7 and assign it to the variable `x` |\n",
        "| `x = np.arange(2,7,0.3)` | Create an array with evenly spaced values between 2 and 7 with a step size of 0.3 and assign it to the variable `x` |\n",
        "| `x = np.linspace(2,3,10)` | Create an array with 10 evenly spaced values between 2 and 3 and assign it to the variable `x` |\n",
        "| `x.dtype` | Get the data type of the numpy array `x` |\n",
        "\n",
        "------------------------------------------------------------------------\n",
        "\n",
        "<span class=\"theorem-title\">**Example 2**</span> Create an array from\n",
        "the list `[1, 2, 3]`, assign it to the variable `a` and display its type."
      ]
    },
    {
      "cell_type": "code",
      "execution_count": 54,
      "id": "0640d10a",
      "metadata": {},
      "outputs": [
        {
          "data": {
            "text/plain": [
              "array([1, 2, 3])"
            ]
          },
          "execution_count": 54,
          "metadata": {},
          "output_type": "execute_result"
        }
      ],
      "source": [
        "a = np.array([1,2,3])\n",
        "a"
      ]
    },
    {
      "cell_type": "markdown",
      "id": "eb2ac4a9-dbed-4e61-b7fa-e680b6b037e0",
      "metadata": {},
      "source": [
        "<span class=\"theorem-title\">**Exercise 19**</span> Multiply the array\n",
        "`a` by 2 and add 1 to it"
      ]
    },
    {
      "cell_type": "code",
      "execution_count": 55,
      "id": "d8a9f21d",
      "metadata": {},
      "outputs": [
        {
          "data": {
            "text/plain": [
              "array([2, 3, 4])"
            ]
          },
          "execution_count": 55,
          "metadata": {},
          "output_type": "execute_result"
        }
      ],
      "source": [
        "a + 1"
      ]
    },
    {
      "cell_type": "markdown",
      "id": "1b865ec7-4f71-468a-8ce4-a0de4ce788c3",
      "metadata": {},
      "source": [
        "<span class=\"theorem-title\">**Exercise 20**</span> Create an array from\n",
        "the list `[0.1, 0.2, 0.3]`, assign it to the variable `b` and display its\n",
        "type."
      ]
    },
    {
      "cell_type": "code",
      "execution_count": 56,
      "id": "589e7515",
      "metadata": {},
      "outputs": [
        {
          "data": {
            "text/plain": [
              "numpy.ndarray"
            ]
          },
          "execution_count": 56,
          "metadata": {},
          "output_type": "execute_result"
        }
      ],
      "source": [
        "b = np.array([0.1,0.2,0.3])\n",
        "type(b)"
      ]
    },
    {
      "cell_type": "markdown",
      "id": "c25b6152-13bd-40e0-a998-faa6ae4f20fa",
      "metadata": {},
      "source": [
        "<span class=\"theorem-title\">**Exercise 21**</span> Create an array with\n",
        "from the list `[1, True, \"a\"]`, assign it to the variable `c` and display\n",
        "its type."
      ]
    },
    {
      "cell_type": "code",
      "execution_count": 58,
      "id": "ec28a605",
      "metadata": {},
      "outputs": [
        {
          "data": {
            "text/plain": [
              "[1, 1.5, 'text', False]"
            ]
          },
          "execution_count": 58,
          "metadata": {},
          "output_type": "execute_result"
        }
      ],
      "source": [
        "list_of_different_elements = [1, 1.5, 'text', False]\n",
        "list_of_different_elements"
      ]
    },
    {
      "cell_type": "code",
      "execution_count": 59,
      "id": "116ac994",
      "metadata": {},
      "outputs": [
        {
          "data": {
            "text/plain": [
              "array(['1', 'True', 'text'], dtype='<U21')"
            ]
          },
          "execution_count": 59,
          "metadata": {},
          "output_type": "execute_result"
        }
      ],
      "source": [
        "c = np.array([1, True, \"text\"])\n",
        "c"
      ]
    },
    {
      "cell_type": "code",
      "execution_count": 61,
      "id": "00a57a39",
      "metadata": {},
      "outputs": [
        {
          "data": {
            "text/plain": [
              "numpy.str_"
            ]
          },
          "execution_count": 61,
          "metadata": {},
          "output_type": "execute_result"
        }
      ],
      "source": [
        "type(c[0])"
      ]
    },
    {
      "cell_type": "markdown",
      "id": "fa7bf821",
      "metadata": {},
      "source": [
        "<span class=\"theorem-title\">**Exercise 22**</span> Try to add 1 to the variable `c`. What error message do you observe?"
      ]
    },
    {
      "cell_type": "code",
      "execution_count": 62,
      "id": "892ad113",
      "metadata": {},
      "outputs": [
        {
          "ename": "UFuncTypeError",
          "evalue": "ufunc 'add' did not contain a loop with signature matching types (dtype('<U21'), dtype('int64')) -> None",
          "output_type": "error",
          "traceback": [
            "\u001b[31m---------------------------------------------------------------------------\u001b[39m",
            "\u001b[31mUFuncTypeError\u001b[39m                            Traceback (most recent call last)",
            "\u001b[36mCell\u001b[39m\u001b[36m \u001b[39m\u001b[32mIn[62]\u001b[39m\u001b[32m, line 1\u001b[39m\n\u001b[32m----> \u001b[39m\u001b[32m1\u001b[39m \u001b[43mc\u001b[49m\u001b[43m+\u001b[49m\u001b[32;43m1\u001b[39;49m\n",
            "\u001b[31mUFuncTypeError\u001b[39m: ufunc 'add' did not contain a loop with signature matching types (dtype('<U21'), dtype('int64')) -> None"
          ]
        }
      ],
      "source": [
        "c+1"
      ]
    },
    {
      "cell_type": "markdown",
      "id": "07014608-3acd-4876-82c2-17e9f18dba9d",
      "metadata": {},
      "source": [
        "<span class=\"theorem-title\">**Exercise 23**</span> Make an array\n",
        "containing the integers from 1 to 15."
      ]
    },
    {
      "cell_type": "code",
      "execution_count": 63,
      "id": "8a2058c7",
      "metadata": {},
      "outputs": [
        {
          "data": {
            "text/plain": [
              "array([ 1,  2,  3,  4,  5,  6,  7,  8,  9, 10, 11, 12, 13, 14])"
            ]
          },
          "execution_count": 63,
          "metadata": {},
          "output_type": "execute_result"
        }
      ],
      "source": [
        "array_of_numbers = np.arange(1,15,1)\n",
        "array_of_numbers"
      ]
    },
    {
      "cell_type": "markdown",
      "id": "5e7b1531-216f-400a-a947-2e1996321c59",
      "metadata": {},
      "source": [
        "<span class=\"theorem-title\">**Exercise 24**</span> Create an array that\n",
        "contains all even numbers up to and including 100."
      ]
    },
    {
      "cell_type": "code",
      "execution_count": null,
      "id": "cff06820",
      "metadata": {},
      "outputs": [
        {
          "data": {
            "text/plain": [
              "array([  0,  20,  40,  60,  80, 100])"
            ]
          },
          "execution_count": 65,
          "metadata": {},
          "output_type": "execute_result"
        }
      ],
      "source": [
        "np.arange(0,100+2,2)"
      ]
    },
    {
      "cell_type": "markdown",
      "id": "f78b00d9-a207-4dd7-95c8-c373f95f573b",
      "metadata": {},
      "source": [
        "<span class=\"theorem-title\">**Exercise 23**</span> Make an array of only\n",
        "6 evenly-spaced numbers between 1 and 10."
      ]
    },
    {
      "cell_type": "code",
      "execution_count": 67,
      "id": "15cc616a",
      "metadata": {},
      "outputs": [
        {
          "data": {
            "text/plain": [
              "array([ 1.,  2.,  3.,  4.,  5.,  6.,  7.,  8.,  9., 10., 11., 12., 13.,\n",
              "       14., 15.])"
            ]
          },
          "execution_count": 67,
          "metadata": {},
          "output_type": "execute_result"
        }
      ],
      "source": [
        "np.linspace(1,15,15)"
      ]
    },
    {
      "cell_type": "markdown",
      "id": "2f3ef31d-41f5-4406-b46e-5edcc6ce7441",
      "metadata": {},
      "source": [
        "<span class=\"theorem-title\">**Exercise 24**</span> Create an array of 10\n",
        "normally-distributed random numbers and compute its mean and standard\n",
        "deviation."
      ]
    },
    {
      "cell_type": "code",
      "execution_count": null,
      "id": "ef669cee",
      "metadata": {},
      "outputs": [
        {
          "data": {
            "text/plain": [
              "(array([ 2.34795829,  0.52005694,  1.36875553, -0.66261736,  0.04160531,\n",
              "        -2.35199175,  0.16371802,  0.66095843,  0.34011498,  0.56342371]),\n",
              " np.float64(0.2991982080817157),\n",
              " np.float64(1.1675236800496918))"
            ]
          },
          "execution_count": 33,
          "metadata": {},
          "output_type": "execute_result"
        }
      ],
      "source": [
        "x = np.random.randn(10)\n",
        "x, x.mean(), x.std()"
      ]
    },
    {
      "cell_type": "code",
      "execution_count": 71,
      "id": "d83009a9",
      "metadata": {},
      "outputs": [
        {
          "data": {
            "text/plain": [
              "1.1873709433638768"
            ]
          },
          "execution_count": 71,
          "metadata": {},
          "output_type": "execute_result"
        }
      ],
      "source": [
        "np.random.randn()"
      ]
    },
    {
      "cell_type": "markdown",
      "id": "f85685ee-b8d7-4bdf-b555-a2c6e7d58379",
      "metadata": {},
      "source": [
        "<span class=\"theorem-title\">**Exercise 25**</span> Now, create arrays\n",
        "with of 100 and 1000 normally-distributed random numbers and compute\n",
        "their means and standard deviations."
      ]
    },
    {
      "cell_type": "code",
      "execution_count": 72,
      "id": "22545a75",
      "metadata": {},
      "outputs": [
        {
          "data": {
            "text/plain": [
              "array([ 0.09995222, -0.79858309, -0.58740017,  0.67346384, -0.87992126,\n",
              "        0.13992849,  0.8490937 , -0.21670657,  0.26340046,  1.16125726,\n",
              "       -0.71996176, -0.32060423, -0.21888624, -1.75468802,  0.07823674,\n",
              "        0.59847714, -1.44610935, -0.14909564, -0.1903433 , -0.67847888,\n",
              "       -1.08933325, -0.10057422,  1.10417093,  0.67961533,  1.91178015,\n",
              "       -0.22458347,  2.18035083,  0.23734406, -1.24812332,  0.70920045,\n",
              "       -1.13351337, -1.23826799,  0.55232649, -0.4131826 ,  0.73582418,\n",
              "       -1.29748587,  0.47273285,  1.2661954 , -1.04886771,  0.3175788 ,\n",
              "       -0.07841847, -0.0024405 , -1.08314188, -0.46205594,  1.25205768,\n",
              "       -0.27237946,  0.30808409, -0.01569304, -1.09751897, -0.33345094,\n",
              "       -1.10208373, -1.75513551,  1.53234599,  0.73935623,  0.33808026,\n",
              "       -2.21620997,  0.80615859,  0.19841355, -0.29090015,  0.02971049,\n",
              "        0.36636089, -0.69211102, -0.79704694, -0.87200123, -1.16067853,\n",
              "        0.25867737,  0.89035821, -1.78806491, -0.82810299, -0.76071516,\n",
              "       -1.05409604,  0.08669156, -0.08241744,  1.5589055 , -0.12369408,\n",
              "        1.8381078 , -0.8166671 , -0.43158328, -1.65996038, -0.24573266,\n",
              "        0.52913276, -0.24220442,  1.14730608,  0.82340797,  0.58790497,\n",
              "       -0.69345997, -1.56294533,  1.98773682, -0.10188841, -1.70570577,\n",
              "        0.57025664,  0.48950146, -0.63966817,  0.79522058, -0.59249771,\n",
              "       -0.79236739,  0.04058701,  1.99915246,  1.28883976, -1.9862515 ])"
            ]
          },
          "execution_count": 72,
          "metadata": {},
          "output_type": "execute_result"
        }
      ],
      "source": [
        "x = np.random.randn(100)\n",
        "x"
      ]
    },
    {
      "cell_type": "code",
      "execution_count": 73,
      "id": "fb688784",
      "metadata": {},
      "outputs": [
        {
          "data": {
            "text/plain": [
              "-0.09600715263400218"
            ]
          },
          "execution_count": 73,
          "metadata": {},
          "output_type": "execute_result"
        }
      ],
      "source": [
        "mean_of_x = np.mean(x)\n",
        "mean_of_x"
      ]
    },
    {
      "cell_type": "code",
      "execution_count": 74,
      "id": "c052892b",
      "metadata": {},
      "outputs": [
        {
          "data": {
            "text/plain": [
              "-0.09600715263400218"
            ]
          },
          "execution_count": 74,
          "metadata": {},
          "output_type": "execute_result"
        }
      ],
      "source": [
        "x.mean()"
      ]
    },
    {
      "cell_type": "code",
      "execution_count": null,
      "id": "05c7ac92",
      "metadata": {},
      "outputs": [
        {
          "data": {
            "text/plain": [
              "(np.float64(-0.023275449006644897), np.float64(0.9564360001195195))"
            ]
          },
          "execution_count": 35,
          "metadata": {},
          "output_type": "execute_result"
        }
      ],
      "source": [
        "x = np.random.randn(1000)\n",
        "x.mean(), x.std()"
      ]
    },
    {
      "cell_type": "markdown",
      "id": "ad3c32e1-089c-4494-b2a3-cb3231b35242",
      "metadata": {},
      "source": [
        "## 4 Quantifying Numpy’s Performance\n",
        "\n",
        "One of the key advantages of Numpy is that it is a lot faster than basic\n",
        "Python. How much faster? Let’s find out! The code below creates an array\n",
        "of ten thousand random numbers as well as a list with exactly the same\n",
        "data. We can use these to test how Numpy compares to basic Python with\n",
        "respect to performance."
      ]
    },
    {
      "cell_type": "code",
      "execution_count": 75,
      "id": "41e335cf",
      "metadata": {},
      "outputs": [],
      "source": [
        "my_array = np.random.randn(10000)\n",
        "my_list = list(my_array)"
      ]
    },
    {
      "cell_type": "code",
      "execution_count": 76,
      "id": "ce110c43",
      "metadata": {},
      "outputs": [
        {
          "data": {
            "text/plain": [
              "-158.36010769431917"
            ]
          },
          "execution_count": 76,
          "metadata": {},
          "output_type": "execute_result"
        }
      ],
      "source": [
        "sum(my_list)"
      ]
    },
    {
      "cell_type": "code",
      "execution_count": 78,
      "id": "b67d87d2",
      "metadata": {},
      "outputs": [
        {
          "data": {
            "text/plain": [
              "-158.36010769431957"
            ]
          },
          "execution_count": 78,
          "metadata": {},
          "output_type": "execute_result"
        }
      ],
      "source": [
        "np.sum(my_array)"
      ]
    },
    {
      "cell_type": "markdown",
      "id": "e15a7350-f78a-4ef6-8c75-ac847535d637",
      "metadata": {},
      "source": [
        "To time our code, we are going to use the `%%timeit` command. Adding\n",
        "`%%timeit` at the top of a cell makes it so that running that cell\n",
        "displays the time it took to run the code. By default, the code is\n",
        "executed ten times in a loop and the result is averaged over all loops.\n",
        "This procedure is repeated seven times so that we get one average\n",
        "duration for each run. The reported numbers are the average duration\n",
        "across the seven runs and its standard deviation.\n",
        "\n",
        "------------------------------------------------------------------------\n",
        "\n",
        "<span class=\"theorem-title\">**Example 3**</span> Estimate the time for\n",
        "computing the sum of `my_list` using Python’s built-in `sum()` method\n",
        "with `%%timeit`."
      ]
    },
    {
      "cell_type": "code",
      "execution_count": 77,
      "id": "d51d18e9",
      "metadata": {},
      "outputs": [
        {
          "name": "stdout",
          "output_type": "stream",
          "text": [
            "1.42 ms ± 136 μs per loop (mean ± std. dev. of 7 runs, 1,000 loops each)\n"
          ]
        }
      ],
      "source": [
        "%%timeit\n",
        "sum(my_list)"
      ]
    },
    {
      "cell_type": "markdown",
      "id": "4dd2f05d-b835-40fc-be7c-090516a32d57",
      "metadata": {},
      "source": [
        "<span class=\"theorem-title\">**Exercise 27**</span> Use `%%timeit` to\n",
        "estimate how long it takes to compute `np.sum()` of `my_array`."
      ]
    },
    {
      "cell_type": "code",
      "execution_count": 79,
      "id": "3389165b",
      "metadata": {},
      "outputs": [
        {
          "name": "stdout",
          "output_type": "stream",
          "text": [
            "16.6 μs ± 1.82 μs per loop (mean ± std. dev. of 7 runs, 10,000 loops each)\n"
          ]
        }
      ],
      "source": [
        "%%timeit\n",
        "\n",
        "np.sum(my_array)"
      ]
    },
    {
      "cell_type": "markdown",
      "id": "882ed33a-f815-4cad-98be-fe64a202a6a5",
      "metadata": {},
      "source": [
        "<span class=\"theorem-title\">**Exercise 28**</span> Use `%%timeit` to\n",
        "estimate how long it takes for Python’s built-in `max()` function to\n",
        "find the maximum of `my_list`."
      ]
    },
    {
      "cell_type": "code",
      "execution_count": null,
      "id": "d9578afd",
      "metadata": {},
      "outputs": [
        {
          "name": "stdout",
          "output_type": "stream",
          "text": [
            "200 μs ± 107 μs per loop (mean ± std. dev. of 7 runs, 10,000 loops each)\n"
          ]
        }
      ],
      "source": [
        "%%timeit\n",
        "\n",
        "max(my_list)"
      ]
    },
    {
      "cell_type": "markdown",
      "id": "311b50ae-3bd1-49c8-8948-900de9efc803",
      "metadata": {},
      "source": [
        "<span class=\"theorem-title\">**Exercise 29**</span> Use `%%timeit` to\n",
        "estimate how long it takes for the `np.max()` function to find the\n",
        "maximum of `my_array`."
      ]
    },
    {
      "cell_type": "code",
      "execution_count": null,
      "id": "d0e87bdd",
      "metadata": {},
      "outputs": [
        {
          "name": "stdout",
          "output_type": "stream",
          "text": [
            "4.78 μs ± 215 ns per loop (mean ± std. dev. of 7 runs, 100,000 loops each)\n"
          ]
        }
      ],
      "source": [
        "%%timeit\n",
        "\n",
        "np.max(my_array)"
      ]
    },
    {
      "cell_type": "markdown",
      "id": "fa796e68-a144-4477-a54d-f3a10dafbfb9",
      "metadata": {},
      "source": [
        "<span class=\"theorem-title\">**Exercise 30**</span> The code below\n",
        "estimates the time it takes to multiply every element of `my_list` by 2.\n",
        "Use `%%timeit` to test how long it takes to multiply `my_array` by 2\n",
        "(hint: use the `*` operator)."
      ]
    },
    {
      "cell_type": "code",
      "execution_count": null,
      "id": "e516ae86",
      "metadata": {},
      "outputs": [
        {
          "name": "stdout",
          "output_type": "stream",
          "text": [
            "657 μs ± 38.8 μs per loop (mean ± std. dev. of 7 runs, 1,000 loops each)\n"
          ]
        }
      ],
      "source": [
        "%%timeit\n",
        "[item*2 for item in my_list]"
      ]
    },
    {
      "cell_type": "code",
      "execution_count": null,
      "id": "86d51b2b",
      "metadata": {},
      "outputs": [
        {
          "name": "stdout",
          "output_type": "stream",
          "text": [
            "2.95 μs ± 63.4 ns per loop (mean ± std. dev. of 7 runs, 100,000 loops each)\n"
          ]
        }
      ],
      "source": [
        "%%timeit\n",
        "\n",
        "my_array*2"
      ]
    },
    {
      "cell_type": "markdown",
      "id": "b23be787-4704-42b1-9539-026ce3eb7505",
      "metadata": {},
      "source": [
        "<span class=\"theorem-title\">**Exercise 31**</span> What is faster:\n",
        "multiplying an array by 2 or adding the array to itself?"
      ]
    },
    {
      "cell_type": "code",
      "execution_count": null,
      "id": "eca381c6",
      "metadata": {},
      "outputs": [
        {
          "name": "stdout",
          "output_type": "stream",
          "text": [
            "2.62 μs ± 91.6 ns per loop (mean ± std. dev. of 7 runs, 100,000 loops each)\n"
          ]
        }
      ],
      "source": [
        "%%timeit\n",
        "\n",
        "my_array+my_array"
      ]
    },
    {
      "cell_type": "code",
      "execution_count": null,
      "id": "3daa4a6b",
      "metadata": {},
      "outputs": [],
      "source": []
    },
    {
      "cell_type": "code",
      "execution_count": null,
      "id": "52995eca",
      "metadata": {},
      "outputs": [],
      "source": []
    },
    {
      "cell_type": "code",
      "execution_count": null,
      "id": "a2fabaea",
      "metadata": {},
      "outputs": [],
      "source": []
    }
  ],
  "metadata": {
    "kernelspec": {
      "display_name": "intro_to_python",
      "language": "python",
      "name": "python3"
    },
    "language_info": {
      "codemirror_mode": {
        "name": "ipython",
        "version": 3
      },
      "file_extension": ".py",
      "mimetype": "text/x-python",
      "name": "python",
      "nbconvert_exporter": "python",
      "pygments_lexer": "ipython3",
      "version": "3.12.10"
    }
  },
  "nbformat": 4,
  "nbformat_minor": 5
}
