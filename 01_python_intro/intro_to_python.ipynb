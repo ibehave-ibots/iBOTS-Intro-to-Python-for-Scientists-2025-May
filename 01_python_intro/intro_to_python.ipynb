{
  "cells": [
    {
      "cell_type": "markdown",
      "id": "9babf270-65da-4866-be1d-1a2a53f7ba7d",
      "metadata": {},
      "source": [
        "# Intro to Python and Numpy\n",
        "\n",
        "Welcome to the first notebook of this course! In this notebook, we are\n",
        "going to learn how to represent different kinds of data in Python. We\n",
        "are also taking our first look at creating arrays in Numpy and we are\n",
        "going to analyze some actual neuroscience data. Finally, we are going to\n",
        "explore the differences in performance between Numpy and built-in Python\n",
        "functions.\n",
        "\n",
        "Execute the cell below to install the packages required for this\n",
        "notebook."
      ]
    },
    {
      "cell_type": "code",
      "execution_count": null,
      "id": "08a3c659",
      "metadata": {},
      "outputs": [],
      "source": [
        "%conda install numpy"
      ]
    },
    {
      "cell_type": "markdown",
      "id": "05ccb8fa-a09f-4e09-9ced-1700242bee41",
      "metadata": {},
      "source": [
        "## 1 Storing Data in Variables\n",
        "\n",
        "In the first section, we are going to learn how to represent different\n",
        "kinds of data and store them in variables. We are going to encounter\n",
        "four basic data types: integers, floating-point numbers, Boolean values\n",
        "and text strings. We are also going to use lists which are collections\n",
        "of data. Data can be assigned to a variable using the `=` operator which\n",
        "takes the value on the right and assigns it to the variable on the left.\n",
        "In this sense, a variable is simply a container that we can use to store\n",
        "and access data. The data type of a variable can be determined with the\n",
        "`type()` function. We can also convert variables from one type to\n",
        "another - for example, the `int()` function will try to convert a\n",
        "variable to an integer. Finally, Python provides operators for the\n",
        "arithmetic operations like addition `+`, subtraction `-`, multiplication\n",
        "`*` and division `/`. Let’s test how this works!\n",
        "\n",
        "| Code | Description |\n",
        "|------------------------------------|------------------------------------|\n",
        "| `x = 3.14` | Assign the floating-point number `3.14` to the variable `x` |\n",
        "| `x = True` | Assign the boolean value `True` to the variable `x` |\n",
        "| `x = \"hello\"` | Assign the string `\"hello\"` to the variable `x` |\n",
        "| `x = [1,2,3]` | Assign the list of integers `[1,2,3]` to the variable `x` |\n",
        "| `type(x)` | Get the data type of variable `x` |\n",
        "| `int(x)` | Convert the variable `x` to an integer, if possible |\n",
        "| `+`, `-`, `*`, `/` | Add, subtract, multiply, divide values |\n",
        "\n",
        "------------------------------------------------------------------------\n",
        "\n",
        "<span class=\"theorem-title\">**Example 1**</span> Assign the integer\n",
        "value `1` to a variable called `one` and print its `type()`."
      ]
    },
    {
      "cell_type": "code",
      "execution_count": 2,
      "id": "99593862",
      "metadata": {},
      "outputs": [
        {
          "data": {
            "text/plain": [
              "int"
            ]
          },
          "execution_count": 2,
          "metadata": {},
          "output_type": "execute_result"
        }
      ],
      "source": [
        "one = 1\n",
        "type(one)"
      ]
    },
    {
      "cell_type": "markdown",
      "id": "3852377d-0757-4354-ba34-62a195907220",
      "metadata": {},
      "source": [
        "<span class=\"theorem-title\">**Exercise 1**</span> Subtract 0.5 from the\n",
        "variable `one`"
      ]
    },
    {
      "cell_type": "code",
      "execution_count": null,
      "id": "25e66e24",
      "metadata": {},
      "outputs": [],
      "source": []
    },
    {
      "cell_type": "markdown",
      "id": "043c609c-2d2d-4e10-b330-a42c0640d3c5",
      "metadata": {},
      "source": [
        "<span class=\"theorem-title\">**Exercise 2**</span> Assign the floating\n",
        "value `0.001` to a variable called `small` and print its type."
      ]
    },
    {
      "cell_type": "code",
      "execution_count": null,
      "id": "d66f7ce9",
      "metadata": {},
      "outputs": [],
      "source": []
    },
    {
      "cell_type": "markdown",
      "id": "269bbe02-26df-455e-8c5d-5f28def58133",
      "metadata": {},
      "source": [
        "<span class=\"theorem-title\">**Exercise 3**</span> Assign the Boolean\n",
        "value `False` to a variable called `this_is_false` and convert it to an\n",
        "integer."
      ]
    },
    {
      "cell_type": "code",
      "execution_count": null,
      "id": "aa13a7f8",
      "metadata": {},
      "outputs": [],
      "source": []
    },
    {
      "cell_type": "markdown",
      "id": "83cc439a-a065-495f-a763-0e8958c4cdf8",
      "metadata": {},
      "source": [
        "<span class=\"theorem-title\">**Exercise 4**</span> Assign the Boolean\n",
        "value `True` to a variable called `this_is_true` and convert it to an\n",
        "integer."
      ]
    },
    {
      "cell_type": "code",
      "execution_count": null,
      "id": "a562e230",
      "metadata": {},
      "outputs": [],
      "source": []
    },
    {
      "cell_type": "markdown",
      "id": "5a4298c6-5ef9-4e8b-a75c-c2bda79ab945",
      "metadata": {},
      "source": [
        "<span class=\"theorem-title\">**Exercise 5**</span> Assign the string\n",
        "value `\"goodbye\"` to a variable called `goodbye` and print its type"
      ]
    },
    {
      "cell_type": "code",
      "execution_count": null,
      "id": "7c8b4cf8",
      "metadata": {},
      "outputs": [],
      "source": []
    },
    {
      "cell_type": "markdown",
      "id": "a14481de-f295-4726-9b63-cebccba46fff",
      "metadata": {},
      "source": [
        "<span class=\"theorem-title\">**Exercise 6**</span> Add the string\n",
        "`\"hello\"` to the variable `goodbye`"
      ]
    },
    {
      "cell_type": "code",
      "execution_count": null,
      "id": "45a8f3da",
      "metadata": {},
      "outputs": [],
      "source": []
    },
    {
      "cell_type": "markdown",
      "id": "3e78fd88-e7fd-42ce-a601-48c9d07663f5",
      "metadata": {},
      "source": [
        "<span class=\"theorem-title\">**Exercise 7**</span> Create a list with the\n",
        "numbers 1 through 6 to a variable called `dice` and print its type"
      ]
    },
    {
      "cell_type": "code",
      "execution_count": null,
      "id": "1631a9fa",
      "metadata": {},
      "outputs": [],
      "source": []
    },
    {
      "cell_type": "markdown",
      "id": "c9b4bcf0",
      "metadata": {},
      "source": [
        "<span class=\"theorem-title\">**Exercise 8**</span> Multiply the list\n",
        "`dice` by 2. What happens?"
      ]
    },
    {
      "cell_type": "code",
      "execution_count": null,
      "id": "488f8a82",
      "metadata": {},
      "outputs": [],
      "source": []
    },
    {
      "cell_type": "markdown",
      "id": "ba6bed8b",
      "metadata": {},
      "source": [
        "<span class=\"theorem-title\">**Exercise 9**</span> Try to add 1 to the list. What error message do you observe?"
      ]
    },
    {
      "cell_type": "code",
      "execution_count": null,
      "id": "a974a296",
      "metadata": {},
      "outputs": [],
      "source": []
    },
    {
      "cell_type": "markdown",
      "id": "0247ea38-1264-430c-8a11-adbc05c9f52d",
      "metadata": {},
      "source": [
        "## 2 Analyzing Neural Spiking Data with Numpy\n",
        "\n",
        "Numpy offers many useful functions for data analysis - let’s test them\n",
        "on some actual neuroscience data! In this section, we are going to load\n",
        "and analyze the spiking of a neuron in the primary visual cortex of a\n",
        "mouse. The spikes are represented as a sorted list of time points where\n",
        "spikes were observed. For example, `[0.05, 0.24, 1.5]` indicates that a\n",
        "spike was observed 50, 240 and 1500 milliseconds after the start of the\n",
        "recording. Using the functions below, we can answer some interesting\n",
        "questions about the firing behavior of a given neuron.\n",
        "\n",
        "| Code | Description |\n",
        "|------------------------------------|------------------------------------|\n",
        "| `import numpy as np` | Import the module `numpy` under the alias `np` |\n",
        "| `x = np.load(\"data.npy\")` | Load the file `\"data.npy\"` into an array and assign it to the variable `x` |\n",
        "| `np.size(x)` | Get the total number of element stored in the array `x` |\n",
        "| `np.min(x)` | Get the minimum value of the array `x` |\n",
        "| `np.max(x)` | Get the maximum value of the array `x` |\n",
        "| `np.mean(x)` | Compute the mean of all values in the array `x` |\n",
        "| `np.std(x)` | Compute the standard deviation of all values in the array `x` |\n",
        "| `np.diff(x)` | Compute the difference between consecutive elements in the array `x` |\n",
        "\n",
        "------------------------------------------------------------------------"
      ]
    },
    {
      "cell_type": "markdown",
      "id": "70673036",
      "metadata": {},
      "source": [
        "<span class=\"theorem-title\">**Exercise 10**</span> Import the Numpy\n",
        "module under the alias `np`."
      ]
    },
    {
      "cell_type": "code",
      "execution_count": null,
      "id": "4f781a78",
      "metadata": {},
      "outputs": [],
      "source": []
    },
    {
      "cell_type": "markdown",
      "id": "ed491d38-ca59-482d-bea9-e9b235603dcf",
      "metadata": {},
      "source": [
        "<span class=\"theorem-title\">**Exercise 11**</span> Load the file\n",
        "`\"spikes.npy\"` into a Numpy array."
      ]
    },
    {
      "cell_type": "code",
      "execution_count": null,
      "id": "8817b057",
      "metadata": {},
      "outputs": [],
      "source": []
    },
    {
      "cell_type": "markdown",
      "id": "d8ccf3f2-95f7-4aa2-8750-0f67bedb315c",
      "metadata": {},
      "source": [
        "<span class=\"theorem-title\">**Exercise 12**</span> What is the total\n",
        "number of spikes in this recording?"
      ]
    },
    {
      "cell_type": "code",
      "execution_count": null,
      "id": "4de65e60",
      "metadata": {},
      "outputs": [],
      "source": []
    },
    {
      "cell_type": "markdown",
      "id": "0fb41eda-4076-4941-b9c6-eb7e5382096b",
      "metadata": {},
      "source": [
        "<span class=\"theorem-title\">**Exercise 13**</span> What is the duration\n",
        "of the recording (assuming the recording stopped after the last spike\n",
        "was recorded)?"
      ]
    },
    {
      "cell_type": "code",
      "execution_count": null,
      "id": "e655aea5",
      "metadata": {},
      "outputs": [],
      "source": []
    },
    {
      "cell_type": "markdown",
      "id": "6de38c43-747c-464a-97d4-c554260c212d",
      "metadata": {},
      "source": [
        "<span class=\"theorem-title\">**Exercise 14**</span> Compute the neuron’s\n",
        "average firing rate (the total number of spikes divided by the duration\n",
        "of the recording)."
      ]
    },
    {
      "cell_type": "code",
      "execution_count": null,
      "id": "2eab7a44",
      "metadata": {},
      "outputs": [],
      "source": []
    },
    {
      "cell_type": "markdown",
      "id": "9ff9ba25-191a-4a9f-9919-a17c7a685957",
      "metadata": {},
      "source": [
        "<span class=\"theorem-title\">**Exercise 14**</span> Compute the\n",
        "inter-spike intervals (i.e. the time differences between subsequent\n",
        "spikes)."
      ]
    },
    {
      "cell_type": "code",
      "execution_count": null,
      "id": "da0129e1",
      "metadata": {},
      "outputs": [],
      "source": []
    },
    {
      "cell_type": "markdown",
      "id": "009561d6-a40d-4deb-80fa-3213ef455cd2",
      "metadata": {},
      "source": [
        "<span class=\"theorem-title\">**Exercise 16**</span> What is the average\n",
        "inter-spike interval for this neuron?"
      ]
    },
    {
      "cell_type": "code",
      "execution_count": null,
      "id": "f4ce1a50",
      "metadata": {},
      "outputs": [],
      "source": []
    },
    {
      "cell_type": "markdown",
      "id": "189c6e4c-6f7e-416b-8398-1b90cab30d0c",
      "metadata": {},
      "source": [
        "<span class=\"theorem-title\">**Exercise 17**</span> What is the standard\n",
        "deviation of inter-spike intervals for this neuron?"
      ]
    },
    {
      "cell_type": "code",
      "execution_count": null,
      "id": "b0812524",
      "metadata": {},
      "outputs": [],
      "source": []
    },
    {
      "cell_type": "markdown",
      "id": "b7963c17-56a3-42c3-8f22-3e8eb2dba25d",
      "metadata": {},
      "source": [
        "<span class=\"theorem-title\">**Exercise 18**</span> What is the shortest\n",
        "time between two spikes?"
      ]
    },
    {
      "cell_type": "code",
      "execution_count": null,
      "id": "2a59773c",
      "metadata": {},
      "outputs": [],
      "source": []
    },
    {
      "cell_type": "markdown",
      "id": "7e0ab5f6-e93a-4a03-abb2-bd2a29b3177c",
      "metadata": {},
      "source": [
        "## 3 Creating Arrays in Numpy\n",
        "\n",
        "Numpy also offers many functions for generating arrays. The simplest way\n",
        "to create an array is to convert a list but there are other functions\n",
        "for specific purposes like generating arrays of random numbers or\n",
        "numbers within a certain range. Like variables, Numpy arrays can have\n",
        "different data types. The type of an array is stored in the `.dtype`\n",
        "attribute. In this section, we are going to create and explore different\n",
        "kinds of arrays.\n",
        "\n",
        "| Code | Description |\n",
        "|------------------------------------|------------------------------------|\n",
        "| `x = np.array([2,5,3])` | Create an array from the list `[2,5,3]` and assign it to the variable `x` |\n",
        "| `x = np.random.randn(100)` | Create an array with 100 normally-distributed random numbers and assign it to the variable `x` |\n",
        "| `x = np.arange(2,7)` | Create an array with all integers between 2 and (not including) 7 and assign it to the variable `x` |\n",
        "| `x = np.arange(2,7,0.3)` | Create an array with evenly spaced values between 2 and 7 with a step size of 0.3 and assign it to the variable `x` |\n",
        "| `x = np.linspace(2,3,10)` | Create an array with 10 evenly spaced values between 2 and 3 and assign it to the variable `x` |\n",
        "| `x.dtype` | Get the data type of the numpy array `x` |\n",
        "\n",
        "------------------------------------------------------------------------\n",
        "\n",
        "<span class=\"theorem-title\">**Example 2**</span> Create an array from\n",
        "the list `[1, 2, 3]`, assign it to the variable `a` and display its type."
      ]
    },
    {
      "cell_type": "code",
      "execution_count": 25,
      "id": "0640d10a",
      "metadata": {},
      "outputs": [
        {
          "data": {
            "text/plain": [
              "dtype('int64')"
            ]
          },
          "execution_count": 25,
          "metadata": {},
          "output_type": "execute_result"
        }
      ],
      "source": [
        "a = np.array([1,2,3])\n",
        "a.dtype"
      ]
    },
    {
      "cell_type": "markdown",
      "id": "eb2ac4a9-dbed-4e61-b7fa-e680b6b037e0",
      "metadata": {},
      "source": [
        "<span class=\"theorem-title\">**Exercise 19**</span> Multiply the array\n",
        "`a` by 2 and add 1 to it"
      ]
    },
    {
      "cell_type": "code",
      "execution_count": null,
      "id": "d8a9f21d",
      "metadata": {},
      "outputs": [],
      "source": []
    },
    {
      "cell_type": "markdown",
      "id": "1b865ec7-4f71-468a-8ce4-a0de4ce788c3",
      "metadata": {},
      "source": [
        "<span class=\"theorem-title\">**Exercise 20**</span> Create an array from\n",
        "the list `[0.1, 0.2, 0.3]`, assign it to the variable `b` and display its\n",
        "type."
      ]
    },
    {
      "cell_type": "code",
      "execution_count": null,
      "id": "589e7515",
      "metadata": {},
      "outputs": [],
      "source": []
    },
    {
      "cell_type": "markdown",
      "id": "c25b6152-13bd-40e0-a998-faa6ae4f20fa",
      "metadata": {},
      "source": [
        "<span class=\"theorem-title\">**Exercise 21**</span> Create an array with\n",
        "from the list `[1, True, \"a\"]`, assign it to the variable `c` and display\n",
        "its type."
      ]
    },
    {
      "cell_type": "code",
      "execution_count": null,
      "id": "116ac994",
      "metadata": {},
      "outputs": [],
      "source": []
    },
    {
      "cell_type": "markdown",
      "id": "fa7bf821",
      "metadata": {},
      "source": [
        "<span class=\"theorem-title\">**Exercise 22**</span> Try to add 1 to the variable `c`. What error message do you observe?"
      ]
    },
    {
      "cell_type": "code",
      "execution_count": null,
      "id": "892ad113",
      "metadata": {},
      "outputs": [],
      "source": []
    },
    {
      "cell_type": "markdown",
      "id": "07014608-3acd-4876-82c2-17e9f18dba9d",
      "metadata": {},
      "source": [
        "<span class=\"theorem-title\">**Exercise 23**</span> Make an array\n",
        "containing the integers from 1 to 15."
      ]
    },
    {
      "cell_type": "code",
      "execution_count": null,
      "id": "8a2058c7",
      "metadata": {},
      "outputs": [],
      "source": []
    },
    {
      "cell_type": "markdown",
      "id": "5e7b1531-216f-400a-a947-2e1996321c59",
      "metadata": {},
      "source": [
        "<span class=\"theorem-title\">**Exercise 24**</span> Create an array that\n",
        "contains all even numbers up to and including 100."
      ]
    },
    {
      "cell_type": "code",
      "execution_count": null,
      "id": "cff06820",
      "metadata": {},
      "outputs": [],
      "source": []
    },
    {
      "cell_type": "markdown",
      "id": "f78b00d9-a207-4dd7-95c8-c373f95f573b",
      "metadata": {},
      "source": [
        "<span class=\"theorem-title\">**Exercise 23**</span> Make an array of only\n",
        "6 evenly-spaced numbers between 1 and 10."
      ]
    },
    {
      "cell_type": "code",
      "execution_count": null,
      "id": "15cc616a",
      "metadata": {},
      "outputs": [],
      "source": []
    },
    {
      "cell_type": "markdown",
      "id": "2f3ef31d-41f5-4406-b46e-5edcc6ce7441",
      "metadata": {},
      "source": [
        "<span class=\"theorem-title\">**Exercise 24**</span> Create an array of 10\n",
        "normally-distributed random numbers and compute its mean and standard\n",
        "deviation."
      ]
    },
    {
      "cell_type": "code",
      "execution_count": null,
      "id": "ef669cee",
      "metadata": {},
      "outputs": [],
      "source": []
    },
    {
      "cell_type": "markdown",
      "id": "f85685ee-b8d7-4bdf-b555-a2c6e7d58379",
      "metadata": {},
      "source": [
        "<span class=\"theorem-title\">**Exercise 25**</span> Now, create arrays\n",
        "with of 100 and 1000 normally-distributed random numbers and compute\n",
        "their means and standard deviations."
      ]
    },
    {
      "cell_type": "code",
      "execution_count": null,
      "id": "22545a75",
      "metadata": {},
      "outputs": [],
      "source": []
    },
    {
      "cell_type": "code",
      "execution_count": null,
      "id": "05c7ac92",
      "metadata": {},
      "outputs": [],
      "source": []
    },
    {
      "cell_type": "markdown",
      "id": "ad3c32e1-089c-4494-b2a3-cb3231b35242",
      "metadata": {},
      "source": [
        "## 4 Quantifying Numpy’s Performance\n",
        "\n",
        "One of the key advantages of Numpy is that it is a lot faster than basic\n",
        "Python. How much faster? Let’s find out! The code below creates an array\n",
        "of ten thousand random numbers as well as a list with exactly the same\n",
        "data. We can use these to test how Numpy compares to basic Python with\n",
        "respect to performance."
      ]
    },
    {
      "cell_type": "code",
      "execution_count": 19,
      "id": "41e335cf",
      "metadata": {},
      "outputs": [],
      "source": [
        "my_array = np.random.randn(10000)\n",
        "my_list = list(my_array)"
      ]
    },
    {
      "cell_type": "markdown",
      "id": "e15a7350-f78a-4ef6-8c75-ac847535d637",
      "metadata": {},
      "source": [
        "To time our code, we are going to use the `%%timeit` command. Adding\n",
        "`%%timeit` at the top of a cell makes it so that running that cell\n",
        "displays the time it took to run the code. By default, the code is\n",
        "executed ten times in a loop and the result is averaged over all loops.\n",
        "This procedure is repeated seven times so that we get one average\n",
        "duration for each run. The reported numbers are the average duration\n",
        "across the seven runs and its standard deviation.\n",
        "\n",
        "------------------------------------------------------------------------\n",
        "\n",
        "<span class=\"theorem-title\">**Example 3**</span> Estimate the time for\n",
        "computing the sum of `my_list` using Python’s built-in `sum()` method\n",
        "with `%%timeit`."
      ]
    },
    {
      "cell_type": "code",
      "execution_count": 20,
      "id": "d51d18e9",
      "metadata": {},
      "outputs": [
        {
          "name": "stdout",
          "output_type": "stream",
          "text": [
            "265 μs ± 4.27 μs per loop (mean ± std. dev. of 7 runs, 1,000 loops each)\n"
          ]
        }
      ],
      "source": [
        "%%timeit\n",
        "sum(my_list)"
      ]
    },
    {
      "cell_type": "markdown",
      "id": "4dd2f05d-b835-40fc-be7c-090516a32d57",
      "metadata": {},
      "source": [
        "<span class=\"theorem-title\">**Exercise 27**</span> Use `%%timeit` to\n",
        "estimate how long it takes to compute `np.sum()` of `my_array`."
      ]
    },
    {
      "cell_type": "code",
      "execution_count": null,
      "id": "3389165b",
      "metadata": {},
      "outputs": [],
      "source": []
    },
    {
      "cell_type": "markdown",
      "id": "882ed33a-f815-4cad-98be-fe64a202a6a5",
      "metadata": {},
      "source": [
        "<span class=\"theorem-title\">**Exercise 28**</span> Use `%%timeit` to\n",
        "estimate how long it takes for Python’s built-in `max()` function to\n",
        "find the maximum of `my_list`."
      ]
    },
    {
      "cell_type": "code",
      "execution_count": null,
      "id": "d9578afd",
      "metadata": {},
      "outputs": [],
      "source": []
    },
    {
      "cell_type": "markdown",
      "id": "311b50ae-3bd1-49c8-8948-900de9efc803",
      "metadata": {},
      "source": [
        "<span class=\"theorem-title\">**Exercise 29**</span> Use `%%timeit` to\n",
        "estimate how long it takes for the `np.max()` function to find the\n",
        "maximum of `my_array`."
      ]
    },
    {
      "cell_type": "code",
      "execution_count": null,
      "id": "d0e87bdd",
      "metadata": {},
      "outputs": [],
      "source": []
    },
    {
      "cell_type": "markdown",
      "id": "fa796e68-a144-4477-a54d-f3a10dafbfb9",
      "metadata": {},
      "source": [
        "<span class=\"theorem-title\">**Exercise 30**</span> The code below\n",
        "estimates the time it takes to multiply every element of `my_list` by 2.\n",
        "Use `%%timeit` to test how long it takes to multiply `my_array` by 2\n",
        "(hint: use the `*` operator)."
      ]
    },
    {
      "cell_type": "code",
      "execution_count": null,
      "id": "e516ae86",
      "metadata": {},
      "outputs": [],
      "source": []
    },
    {
      "cell_type": "code",
      "execution_count": null,
      "id": "86d51b2b",
      "metadata": {},
      "outputs": [],
      "source": []
    },
    {
      "cell_type": "markdown",
      "id": "b23be787-4704-42b1-9539-026ce3eb7505",
      "metadata": {},
      "source": [
        "<span class=\"theorem-title\">**Exercise 31**</span> What is faster:\n",
        "multiplying an array by 2 or adding the array to itself?"
      ]
    },
    {
      "cell_type": "code",
      "execution_count": null,
      "id": "eca381c6",
      "metadata": {},
      "outputs": [],
      "source": []
    }
  ],
  "metadata": {
    "kernelspec": {
      "display_name": "intro_to_python2",
      "language": "python",
      "name": "python3"
    },
    "language_info": {
      "codemirror_mode": {
        "name": "ipython",
        "version": 3
      },
      "file_extension": ".py",
      "mimetype": "text/x-python",
      "name": "python",
      "nbconvert_exporter": "python",
      "pygments_lexer": "ipython3",
      "version": "3.12.10"
    }
  },
  "nbformat": 4,
  "nbformat_minor": 5
}
