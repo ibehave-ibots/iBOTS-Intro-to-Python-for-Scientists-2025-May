{
  "cells": [
    {
      "cell_type": "markdown",
      "id": "527e240a-17f3-4786-a514-c7755abfa077",
      "metadata": {},
      "source": [
        "# Analyzing Tabular Data with Pandas\n",
        "\n",
        "In many analyses, it is useful to organize data in a tabular format.\n",
        "Tables are great because they allow us to store heterogeneous data and\n",
        "assign names to columns which makes exploration more intuitive. The most\n",
        "popular library for working with tabular data in Python is called\n",
        "`pandas` which derives from **pan**el **da**ta. In this section we are\n",
        "going to learn how to use `pandas` and how it interfaces with other\n",
        "tools to create a powerful ecosystem for data analysis. At the core of\n",
        "pandas is the `DataFrame` - an object that stores two-dimensional\n",
        "tabular data. Variables that store data frames are commonly called `df`.\n",
        "Most of pandas functionality come as so-called methods of the data frame\n",
        "object. Methods are called by typing the variable name and the method\n",
        "name separated by a dot. For example: `df.head()` will call the\n",
        "`.head()` method of the data frame `df`. If you are not used to this\n",
        "syntax, don’t worry - all sections contain examples for how the\n",
        "respective methods are used.\n",
        "\n",
        "Execute the cell below to install the packages required for this\n",
        "notebook."
      ]
    },
    {
      "cell_type": "code",
      "execution_count": null,
      "id": "eaf8f9e4",
      "metadata": {},
      "outputs": [],
      "source": [
        "%conda install pandas seaborn pingouin"
      ]
    },
    {
      "cell_type": "markdown",
      "id": "f09c32dc-155a-49b4-8c87-7e4e3c5a5726",
      "metadata": {},
      "source": [
        "## 1 Reading and Writing Tabular Data\n",
        "\n",
        "There are many different file formats for tabular data that pandas\n",
        "supports (for a full list, see [this\n",
        "website](https://pandas.pydata.org/docs/user_guide/io.html)). One of the\n",
        "most commonly used formats is CSV which stands for comma-separated\n",
        "values. A CSV file contains plain text where items are separated by\n",
        "commas. Because it is plain text, CSV is independent of the programming\n",
        "language which makes it a useful interoperable standard. In this\n",
        "section, we are going to learn how to read data from a CSV file into\n",
        "`pandas` and how to write it back to the CSV format.\n",
        "\n",
        "| Code | Description |\n",
        "|------------------------------------|------------------------------------|\n",
        "| `import pandas as pd` | Import the `pandas` module under the alias `pd` |\n",
        "| `df = pd.read_csv(\"mydata.csv\")` | Read the file `\"mydata.csv\"` into a pandas data frame and assign it to the variable `df` |\n",
        "| `df.head(5)` | Get the first 5 rows of `df` |\n",
        "| `df.to_csv(\"mydata.csv\")` | Write the data frame `df` to the file `\"mydata.csv\"` |\n",
        "\n",
        "<span class=\"theorem-title\">**Exercise 1**</span> Import the `pandas`\n",
        "library under the alias `pd`."
      ]
    },
    {
      "cell_type": "code",
      "execution_count": null,
      "id": "538388d6",
      "metadata": {},
      "outputs": [],
      "source": []
    },
    {
      "cell_type": "markdown",
      "id": "892570f3-c250-4841-b433-75f0cb0f3075",
      "metadata": {},
      "source": [
        "<span class=\"theorem-title\">**Exercise 2**</span> Read the file\n",
        "`salaries.csv` into a data frame and assign it to a variable called\n",
        "`df`."
      ]
    },
    {
      "cell_type": "code",
      "execution_count": null,
      "id": "47c67d94",
      "metadata": {},
      "outputs": [],
      "source": []
    },
    {
      "cell_type": "markdown",
      "id": "a999ddd2-1ea5-481f-bdd6-6772e131461f",
      "metadata": {},
      "source": [
        "<span class=\"theorem-title\">**Exercise 3**</span> Print the first 3 rows\n",
        "of the data frame `df`."
      ]
    },
    {
      "cell_type": "code",
      "execution_count": null,
      "id": "030ddf44",
      "metadata": {},
      "outputs": [],
      "source": []
    },
    {
      "cell_type": "markdown",
      "id": "df29c5e3-ace5-4928-baec-02239784f59c",
      "metadata": {},
      "source": [
        "<span class=\"theorem-title\">**Exercise 4**</span> Get the first 3 rows\n",
        "of `df` and assign them to another variable called `new_df`. Write\n",
        "`new_df` to a file called `new_salaries.csv`."
      ]
    },
    {
      "cell_type": "code",
      "execution_count": null,
      "id": "bd112fe3",
      "metadata": {},
      "outputs": [],
      "source": []
    },
    {
      "cell_type": "markdown",
      "id": "7bbf3d75-5078-47bd-a5ec-fe33fcbf10c7",
      "metadata": {},
      "source": [
        "## 2 Exploring a Data Set in Pandas\n",
        "\n",
        "Now that we know how to read CSV files, we can start working with some\n",
        "actual data! In this section, we are going to analyze demographic data\n",
        "from passengers of the Titanic which are stored in the file\n",
        "`titanic.csv`. Once we have loaded the data into a data frame, we can\n",
        "access a given column by providing its name as a string inside square\n",
        "brackets. For example, `df[\"age\"]` will return the column `\"age\"` in the\n",
        "data frame `df`. By extracting individual columns and using methods like\n",
        "`.max()` or `.mean()`, one can quickly get an overview of the data\n",
        "stored in a table.\n",
        "\n",
        "| Code | Description |\n",
        "|------------------------------------|------------------------------------|\n",
        "| `df[\"var1\"]` | Get the column with the name `\"var1\"` in `df` |\n",
        "| `df[\"var1\"].min()` | Get the minimum value of column `\"var1\"` |\n",
        "| `df[\"var1\"].max()` | Get the maximum value of column `\"var1\"` |\n",
        "| `df[\"var1\"].mean()` | Compute the mean value of column `\"var1\"` |\n",
        "| `df[\"var1\"].unique()` | Get all unique values of column `\"var1\"` |\n",
        "| `df[\"var1\"].value_counts()` | Get the count of all unique values of column `\"var1\"` |\n",
        "\n",
        "------------------------------------------------------------------------\n",
        "\n",
        "<span class=\"theorem-title\">**Exercise 6**</span> Read the file\n",
        "`titanic.csv` into a pandas data frame and assign it to the variable\n",
        "`df`. Display the first three rows of the dataframe."
      ]
    },
    {
      "cell_type": "code",
      "execution_count": null,
      "id": "62243e13",
      "metadata": {},
      "outputs": [],
      "source": []
    },
    {
      "cell_type": "markdown",
      "id": "5f70ea9b-b734-4349-8ac0-f588a0b87213",
      "metadata": {},
      "source": [
        "<span class=\"theorem-title\">**Exercise 7**</span> Get the column\n",
        "`\"survived\"` from `df`."
      ]
    },
    {
      "cell_type": "code",
      "execution_count": null,
      "id": "404af845",
      "metadata": {},
      "outputs": [],
      "source": []
    },
    {
      "cell_type": "markdown",
      "id": "22948d9e-17f1-4900-ad01-32619a098f3c",
      "metadata": {},
      "source": [
        "<span class=\"theorem-title\">**Exercise 8**</span> What is the mean\n",
        "`\"fare\"` that passengers on the Titanic paid?"
      ]
    },
    {
      "cell_type": "code",
      "execution_count": null,
      "id": "17c4f9ba",
      "metadata": {},
      "outputs": [],
      "source": []
    },
    {
      "cell_type": "markdown",
      "id": "3ea5ab2c-492d-45da-9b7d-3677eed51812",
      "metadata": {},
      "source": [
        "<span class=\"theorem-title\">**Exercise 9**</span> What is the mean\n",
        "`\"age\"` of passengers on the Titanic?"
      ]
    },
    {
      "cell_type": "code",
      "execution_count": null,
      "id": "a833d4c7",
      "metadata": {},
      "outputs": [],
      "source": []
    },
    {
      "cell_type": "markdown",
      "id": "bdb5f80e-2287-453d-908f-bd1eb96bf9ac",
      "metadata": {},
      "source": [
        "<span class=\"theorem-title\">**Exercise 10**</span> What is the minimum\n",
        "and maximum `\"age\"` of the Titanic’s passengers?"
      ]
    },
    {
      "cell_type": "code",
      "execution_count": null,
      "id": "b65cecb5",
      "metadata": {},
      "outputs": [],
      "source": []
    },
    {
      "cell_type": "markdown",
      "id": "6b265471-9048-4fe2-b6bd-df615329499b",
      "metadata": {},
      "source": [
        "<span class=\"theorem-title\">**Exercise 11**</span> What are the\n",
        "different `\"deck\"`s on the Titanic?"
      ]
    },
    {
      "cell_type": "code",
      "execution_count": null,
      "id": "13535037",
      "metadata": {},
      "outputs": [],
      "source": []
    },
    {
      "cell_type": "markdown",
      "id": "fa2ce43d-3c2a-48a4-9e78-d87019f21456",
      "metadata": {},
      "source": [
        "<span class=\"theorem-title\">**Exercise 12**</span> What is the\n",
        "most common `\"embark_town\"` for passengers of the Titanic? *Hint*: The `value_counts()` function may be useful here."
      ]
    },
    {
      "cell_type": "code",
      "execution_count": null,
      "id": "7afb84d8",
      "metadata": {},
      "outputs": [],
      "source": []
    },
    {
      "cell_type": "markdown",
      "id": "8af06cc8-6d03-421e-8f80-079041a86653",
      "metadata": {},
      "source": [
        "## 3 Indexing and Filtering a Data Frame\n",
        "\n",
        "Sometimes, we want to access elements in specific elements in a data\n",
        "frame. This can be done by using the `df.loc` attribute which gets the\n",
        "data located at a specific index. The index of a data frame is the\n",
        "unnamed column you see on the very left. By combining indices and column\n",
        "names, `df.loc` can get the value stored at a specific index, in a\n",
        "specific column. Also, just like arrays, a data frame can be filtered\n",
        "using Boolean masks. The process is exactly the same: you create a mask\n",
        "of `True` and `False` values by applying a logical condition to a data\n",
        "frame. Then, you apply it to the data frame to extract the values where\n",
        "the mask equals `True`. One can also combine indexing and filtering by\n",
        "using the mask as an input for `df.loc`. In this section, we will use\n",
        "indexing and filtering to do simple statistical analyses of the Titanic\n",
        "data.\n",
        "\n",
        "| Code | Description |\n",
        "|------------------------------------|------------------------------------|\n",
        "| `mask = df[\"var1\"]==\"a\"` | Create a `mask` of Boolean values that is `True` where the value of column `\"var1\"` is `\"a\"` and `False` otherwise |\n",
        "| `mask = df[\"var1\"]>=0` | Create a `mask` of Boolean values that is `True` where the value of column `\"var1\"` is greater or equal to `0` and `False` otherwise |\n",
        "| `mask = df[\"var1\"].isin([1,2,3])` | Create a `mask` of Boolean values that is `True` where the value of column `\"var1\"` is contained in the list `[1,2,3]` and `False` otherwise |\n",
        "| `~mask` | Invert the Boolean `mask` (i.e. turn all values that are `True` to `False` and vice versa) |\n",
        "| `df.loc[2]` | Get the row at the index `2` in the data frame `df` |\n",
        "| `df.loc[1:10, \"var1\"]` | Get the value stored in rows 1 to 10 in `df` |\n",
        "| `df.loc[1:10, \"var1\"]` | Get the value stored in rows 1 to 10 in the column `\"var1\"` in `df` |\n",
        "| `df.loc[mask, \"var1\"]` | Get the values in the column `\"var1\"` for all rows where the `mask` is `True` |\n",
        "\n",
        "<span class=\"theorem-title\">**Example 1**</span> Get the row at the\n",
        "index 4 in `df`"
      ]
    },
    {
      "cell_type": "code",
      "execution_count": 42,
      "id": "eedb7d0d",
      "metadata": {},
      "outputs": [
        {
          "data": {
            "text/plain": [
              "survived                 0\n",
              "pclass                   3\n",
              "sex                   male\n",
              "age                   35.0\n",
              "fare                  8.05\n",
              "embark_town    Southampton\n",
              "deck                   NaN\n",
              "Name: 4, dtype: object"
            ]
          },
          "execution_count": 42,
          "metadata": {},
          "output_type": "execute_result"
        }
      ],
      "source": [
        "df.loc[4]"
      ]
    },
    {
      "cell_type": "markdown",
      "id": "980e45ff-cc04-4419-b867-73eaa2738349",
      "metadata": {},
      "source": [
        "<span class=\"theorem-title\">**Exercise 13**</span> Get the rows at\n",
        "indices 10 to 15 in `df`"
      ]
    },
    {
      "cell_type": "code",
      "execution_count": null,
      "id": "ea4a4b26",
      "metadata": {},
      "outputs": [],
      "source": []
    },
    {
      "cell_type": "markdown",
      "id": "9a405212-6d22-4155-814e-5ce58e2a72bb",
      "metadata": {},
      "source": [
        "<span class=\"theorem-title\">**Exercise 14**</span> Get the `\"sex\"` of\n",
        "the first 6 passengers in `df`."
      ]
    },
    {
      "cell_type": "code",
      "execution_count": null,
      "id": "74d691d9",
      "metadata": {},
      "outputs": [],
      "source": []
    },
    {
      "cell_type": "markdown",
      "id": "d586959f-8cd4-45a0-9349-46dc5c344ad2",
      "metadata": {},
      "source": [
        "<span class=\"theorem-title\">**Exercise 15**</span> Get the data from all\n",
        "passengers on `deck` E."
      ]
    },
    {
      "cell_type": "code",
      "execution_count": null,
      "id": "275bb201",
      "metadata": {},
      "outputs": [],
      "source": []
    },
    {
      "cell_type": "markdown",
      "id": "9fe20d87-adfb-4169-9f3a-8ec4f00a1ad7",
      "metadata": {},
      "source": [
        "<span class=\"theorem-title\">**Example 2**</span> Is the survival rate\n",
        "higher for male or female passengers?"
      ]
    },
    {
      "cell_type": "code",
      "execution_count": null,
      "id": "b70eb6e2",
      "metadata": {},
      "outputs": [
        {
          "name": "stdout",
          "output_type": "stream",
          "text": [
            "0.18890814558058924 0.7420382165605095\n"
          ]
        }
      ],
      "source": [
        "mask = df['sex'] == 'male'\n",
        "survival_male = df[mask]['survived'].mean()\n",
        "survival_female = df[~mask]['survived'].mean()\n",
        "\n",
        "print(survival_male, survival_female)"
      ]
    },
    {
      "cell_type": "markdown",
      "id": "27c4552e-3c77-496a-aee3-4e1560e9a183",
      "metadata": {},
      "source": [
        "<span class=\"theorem-title\">**Exercise 16**</span> Is the survival rate\n",
        "higher for passengers below or above the age of 40?"
      ]
    },
    {
      "cell_type": "code",
      "execution_count": null,
      "id": "819627f0",
      "metadata": {},
      "outputs": [],
      "source": []
    },
    {
      "cell_type": "markdown",
      "id": "8cf3b701-757d-4d3a-9fef-018a624880d1",
      "metadata": {},
      "source": [
        "<span class=\"theorem-title\">**Exercise 17**</span> What was the average\n",
        "`fare` paid by passengers that survived and those that didn’t?"
      ]
    },
    {
      "cell_type": "code",
      "execution_count": null,
      "id": "72f58b35",
      "metadata": {},
      "outputs": [],
      "source": []
    },
    {
      "cell_type": "markdown",
      "id": "3d6d2ab2-a650-4f2a-8c69-7a367141aed1",
      "metadata": {},
      "source": [
        "<span class=\"theorem-title\">**Exercise 18**</span> What was the average\n",
        "`fare` paid by passengers in `\"pclass\"` 1 and `\"pclass\"` 3?"
      ]
    },
    {
      "cell_type": "code",
      "execution_count": null,
      "id": "5b951a1f",
      "metadata": {},
      "outputs": [],
      "source": []
    },
    {
      "cell_type": "markdown",
      "id": "8e1fc767-1683-4b93-aae2-77b332f0b865",
      "metadata": {},
      "source": [
        "## 4 The Pandas Ecosystem\n",
        "\n",
        "Another advantage of `pandas` is its integration with other software\n",
        "which creates a powerful ecosystem for data analysis. In this section we\n",
        "are going to explore two such libraries: `seaborn`, a tool for\n",
        "visualizations and `pingouin`, a package for statistical analysis. Both\n",
        "libraries provide a similar interface where you pass a data frame as\n",
        "`data` and specify variables based on their column name. This\n",
        "homogeneous interface makes data analysis within the pandas framework\n",
        "very convenient.\n",
        "\n",
        "### 4.1 Visualization with Seaborn\n",
        "\n",
        "The Seaborn library allows us to create detailed visualizations, with\n",
        "little effort. We just have to specify the data we want to\n",
        "visualize and the software will take care of the details like adding\n",
        "colors and labeling axes. In this section, we are going to use the\n",
        "`sns.catplot()` function which is for plotting categorical data. This\n",
        "function takes in a `data frame` and the labels of columns we wish to\n",
        "plot on the `x` and `y` axis. It also takes other arguments to further\n",
        "configure the plot such as `hue` or `kind` (for a full list of\n",
        "parameters, see the\n",
        "[documentation](https://seaborn.pydata.org/generated/seaborn.catplot.html)).\n",
        "\n",
        "| Code | Description |\n",
        "|------------------------------------|------------------------------------|\n",
        "| `import seaborn as sns` | Import the seaborn library under the alias `sns` |\n",
        "| `sns.catplot(data=df, x='var1', y='var2')` | Create a `cat`egorical plot for the data frame `df` with `\"var1\"` on the x-axis and `\"var2\"` on the y-axis |\n",
        "| `sns.catplot(data=df, x='var1', y='var2', kind=\"bar\")` | Plot the same data but as a bar plot |\n",
        "| `sns.catplot(data=df, x='var1', y='var2', hue=\"var3\")` | Plot the same data but add color or `hue` to encode `\"var3\"` |\n",
        "\n",
        "<span class=\"theorem-title\">**Exercise 20**</span> Import the `seaborn`\n",
        "library under the alias `sns`."
      ]
    },
    {
      "cell_type": "code",
      "execution_count": null,
      "id": "d88bfd7f",
      "metadata": {},
      "outputs": [],
      "source": []
    },
    {
      "cell_type": "markdown",
      "id": "3eea5b55-3a79-46b9-8e57-427ba1711409",
      "metadata": {},
      "source": [
        "<span class=\"theorem-title\">**Example 3**</span> Create a `catplot` to\n",
        "visualize the distribution of `\"fare\"` across the different passenger classes\n",
        "(`\"pclass\"`)."
      ]
    },
    {
      "cell_type": "code",
      "execution_count": null,
      "id": "0ac27dee",
      "metadata": {},
      "outputs": [],
      "source": [
        "sns.catplot(df, x = 'pclass', y = 'fare', )"
      ]
    },
    {
      "cell_type": "markdown",
      "id": "9940ce3d-a7ae-4494-ba41-599a4cbe00c3",
      "metadata": {},
      "source": [
        "<span class=\"theorem-title\">**Exercise 21**</span> Create a bar plot for\n",
        "the same data by using the `kind` argument."
      ]
    },
    {
      "cell_type": "code",
      "execution_count": null,
      "id": "0c3f0f10",
      "metadata": {},
      "outputs": [],
      "source": []
    },
    {
      "cell_type": "markdown",
      "id": "a54f39da-956a-498c-9cb1-25c5625fd5cc",
      "metadata": {},
      "source": [
        "<span class=\"theorem-title\">**Exercise 22**</span> Add a color or `hue`\n",
        "to the bar plot to encode passenger `sex`."
      ]
    },
    {
      "cell_type": "code",
      "execution_count": null,
      "id": "041c84d4",
      "metadata": {},
      "outputs": [],
      "source": []
    },
    {
      "cell_type": "markdown",
      "id": "0ecf1fec-f702-4232-b3e1-33af910c95e3",
      "metadata": {},
      "source": [
        "<span class=\"theorem-title\">**Exercise 23**</span> Create a bar plot to\n",
        "show differences in survival rates (`\"survived\"`) between the different\n",
        "passenger classes (`\"pclass\"`) and add a `hue` to encode `\"sex\"`."
      ]
    },
    {
      "cell_type": "code",
      "execution_count": null,
      "id": "e63d08f9",
      "metadata": {},
      "outputs": [],
      "source": []
    },
    {
      "cell_type": "markdown",
      "id": "ce2f430b-f72f-486f-8b37-0b703c067b3b",
      "metadata": {},
      "source": [
        "### 4.2 Statistical Analysis with Pingouin\n",
        "\n",
        "Pingouin is a library for performing statistical tests that is neatly\n",
        "integrated with pandas. In this section we are going to use Pingouin to\n",
        "perform an analysis of variance (ANOVA) which is a test that compares\n",
        "the variance between groups to the variance within groups with respect\n",
        "to a specific variable. This allows us to estimate if the difference\n",
        "between groups exceeds the “background noise” in the data. We are also\n",
        "going to compute pairwise correlations for all variables in the data\n",
        "set. By checking which variables are correlated, we can identify\n",
        "possible confounds in our analysis.\n",
        "\n",
        "| Code | Description |\n",
        "|------------------------------------|------------------------------------|\n",
        "| `import pingouin as pg` | Import the `pingouin` library under the alias `pg` |\n",
        "| `pg.anova(data=df, dv=\"var1\", between=\"var2\")` | Perform an analysis of variance (ANOVA) to check if the difference in `\"var1\"` between groups in `\"var2\"` exceeds the variance within each group of `\"var2\"` |\n",
        "| `pg.pairwise_corr(data=df)` | Compute pairwise correlations for all |\n",
        "\n",
        "<span class=\"theorem-title\">**Exercise 24**</span> Import the `pingouin`\n",
        "library under the alias `pg`."
      ]
    },
    {
      "cell_type": "code",
      "execution_count": null,
      "id": "842e4132",
      "metadata": {},
      "outputs": [],
      "source": []
    },
    {
      "cell_type": "markdown",
      "id": "654d7e81-5faa-4cfd-a74e-286757494231",
      "metadata": {},
      "source": [
        "<span class=\"theorem-title\">**Example 4**</span> Perform an analysis\n",
        "of variance (ANOVA) to check if the variance in `\"fare\"` between\n",
        "`\"embark_town\"`s exceeds the variance within each `\"embark_town\"`."
      ]
    },
    {
      "cell_type": "code",
      "execution_count": null,
      "id": "15bb5cea",
      "metadata": {},
      "outputs": [
        {
          "data": {
            "text/html": [
              "<div>\n",
              "<style scoped>\n",
              "    .dataframe tbody tr th:only-of-type {\n",
              "        vertical-align: middle;\n",
              "    }\n",
              "\n",
              "    .dataframe tbody tr th {\n",
              "        vertical-align: top;\n",
              "    }\n",
              "\n",
              "    .dataframe thead th {\n",
              "        text-align: right;\n",
              "    }\n",
              "</style>\n",
              "<table border=\"1\" class=\"dataframe\">\n",
              "  <thead>\n",
              "    <tr style=\"text-align: right;\">\n",
              "      <th></th>\n",
              "      <th>Source</th>\n",
              "      <th>ddof1</th>\n",
              "      <th>ddof2</th>\n",
              "      <th>F</th>\n",
              "      <th>p-unc</th>\n",
              "      <th>np2</th>\n",
              "    </tr>\n",
              "  </thead>\n",
              "  <tbody>\n",
              "    <tr>\n",
              "      <th>0</th>\n",
              "      <td>embark_town</td>\n",
              "      <td>2</td>\n",
              "      <td>886</td>\n",
              "      <td>38.140305</td>\n",
              "      <td>1.289645e-16</td>\n",
              "      <td>0.079271</td>\n",
              "    </tr>\n",
              "  </tbody>\n",
              "</table>\n",
              "</div>"
            ],
            "text/plain": [
              "        Source  ddof1  ddof2          F         p-unc       np2\n",
              "0  embark_town      2    886  38.140305  1.289645e-16  0.079271"
            ]
          },
          "execution_count": 56,
          "metadata": {},
          "output_type": "execute_result"
        }
      ],
      "source": [
        "pg.anova(df, dv='fare', between='embark_town')"
      ]
    },
    {
      "cell_type": "markdown",
      "id": "28ca4955-bfed-4575-bdc2-5e35e396d031",
      "metadata": {},
      "source": [
        "<span class=\"theorem-title\">**Exercise 25**</span> Perform an analysis\n",
        "of variance (ANOVA) to check if the variance in `\"age\"` between\n",
        "`\"pclass\"`es exceeds the variance within each `\"pclass\"`."
      ]
    },
    {
      "cell_type": "code",
      "execution_count": null,
      "id": "b041d003",
      "metadata": {},
      "outputs": [],
      "source": []
    },
    {
      "cell_type": "markdown",
      "id": "069a95fc-c88e-4da8-8b7c-735efac4fd20",
      "metadata": {},
      "source": [
        "<span class=\"theorem-title\">**Exercise 26**</span> Calculate the\n",
        "pairwise correlations for all columns in `df`. Assign the data frame\n",
        "returned by `pg.pariwise_corr` to a new variable called `df_corr` and\n",
        "print it"
      ]
    },
    {
      "cell_type": "code",
      "execution_count": null,
      "id": "13485f2f",
      "metadata": {},
      "outputs": [],
      "source": []
    },
    {
      "cell_type": "markdown",
      "id": "1fa2c96f-0bcd-48de-b0d1-b6e29ad0cab7",
      "metadata": {},
      "source": [
        "<span class=\"theorem-title\">**Exercise 27**</span> Get all rows of\n",
        "`df_corr` where `\"p-unc\"` is smaller than 0.001 and print the columns\n",
        "`\"X\"`, `\"Y\"` and `\"r\"` (Tip: to select multiple columns, use a lists,\n",
        "e.g. `df.loc[mask, [\"var1\", \"var2\"]]`)."
      ]
    },
    {
      "cell_type": "code",
      "execution_count": null,
      "id": "fa82ccfc",
      "metadata": {},
      "outputs": [],
      "source": []
    }
  ],
  "metadata": {
    "kernelspec": {
      "display_name": "intro_to_python2",
      "language": "python",
      "name": "python3"
    },
    "language_info": {
      "codemirror_mode": {
        "name": "ipython",
        "version": 3
      },
      "file_extension": ".py",
      "mimetype": "text/x-python",
      "name": "python",
      "nbconvert_exporter": "python",
      "pygments_lexer": "ipython3",
      "version": "3.12.10"
    }
  },
  "nbformat": 4,
  "nbformat_minor": 5
}
