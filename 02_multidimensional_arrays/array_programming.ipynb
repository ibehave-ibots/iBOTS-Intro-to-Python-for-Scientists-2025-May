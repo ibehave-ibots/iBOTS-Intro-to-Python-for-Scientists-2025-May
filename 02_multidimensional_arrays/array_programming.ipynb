{
  "cells": [
    {
      "cell_type": "markdown",
      "id": "ff249193-0526-4bd2-a148-25fcb053241a",
      "metadata": {},
      "source": [
        "# Array Programming in Numpy\n",
        "\n",
        "## 1 Indexing and Slicing\n",
        "\n",
        "Often, we want to access specific values stored inside an array. This\n",
        "can be done by slicing and indexing. Indexing simply means getting the\n",
        "element at a specific position. Python starts counting at 0, so `x[0]`\n",
        "will get the **1st** element of `x`. Slicing means getting all values\n",
        "within a certain range by providing a start and stop position. When we\n",
        "index and slice multi-dimensional arrays, we must provide multiple\n",
        "coordinates - one per dimension. We can also omit a value to indicate\n",
        "that we want to get **all** values along that dimension\n",
        "\n",
        "Execute the cell below to install the packages required for this\n",
        "notebook."
      ]
    },
    {
      "cell_type": "code",
      "execution_count": null,
      "id": "9f526176",
      "metadata": {},
      "outputs": [],
      "source": [
        "%conda install numpy"
      ]
    },
    {
      "cell_type": "markdown",
      "id": "182cb380-1f38-4ca7-95d5-7e44541ca178",
      "metadata": {},
      "source": [
        "| Code | Description |\n",
        "|------------------------------------|------------------------------------|\n",
        "| `import numpy as np` | Import the module `numpy` under the alias `np` |\n",
        "| `x = np.arange(2,7)` | Create an array with all integers between 2 and (not including) 7 and assign it to the variable `x` |\n",
        "| `x[0]` | Get the 1st element of `x` |\n",
        "| `x[-1]` | Get the last element of `x` |\n",
        "| `x[2:5]` | Get the 3rd 4th and 5th elements of `x` |\n",
        "| `x[:5]` | Get everything up to and including the 5th element of `x` |\n",
        "| `x[2, 1]` | Get the element in the 3rd row and 2nd column of the 2-dimensional array `x` |\n",
        "| `x[0, :]` | Get the whole first row of `x` |\n",
        "| `x[1:5, 2]` | Get the values from rows 2 through 5 in the 3rd column of `x` |\n",
        "\n",
        "------------------------------------------------------------------------\n",
        "\n",
        "<span class=\"theorem-title\">**Exercise 1**</span> Import the Numpy\n",
        "module under the alias `np`."
      ]
    },
    {
      "cell_type": "code",
      "execution_count": null,
      "id": "0ff93f98",
      "metadata": {},
      "outputs": [],
      "source": []
    },
    {
      "cell_type": "markdown",
      "id": "d7741a20-c73c-4b13-bc4e-76540894bfb1",
      "metadata": {},
      "source": [
        "<span class=\"theorem-title\">**Exercise 2**</span> Create an array with\n",
        "the integers between 1 and 10 and assign it to a variable `x`."
      ]
    },
    {
      "cell_type": "code",
      "execution_count": null,
      "id": "14d77117",
      "metadata": {},
      "outputs": [],
      "source": []
    },
    {
      "cell_type": "markdown",
      "id": "b3b3ac29-0dc7-4de5-8dff-c263cdab598c",
      "metadata": {},
      "source": [
        "<span class=\"theorem-title\">**Exercise 3**</span> Get the second element\n",
        "of `x`."
      ]
    },
    {
      "cell_type": "code",
      "execution_count": null,
      "id": "89452a63",
      "metadata": {},
      "outputs": [],
      "source": []
    },
    {
      "cell_type": "markdown",
      "id": "8a95b2af-c942-49f5-9267-deafabade8ca",
      "metadata": {},
      "source": [
        "<span class=\"theorem-title\">**Exercise 4**</span> Get the second-to-last\n",
        "element of `x`."
      ]
    },
    {
      "cell_type": "code",
      "execution_count": null,
      "id": "a11fe003",
      "metadata": {},
      "outputs": [],
      "source": []
    },
    {
      "cell_type": "markdown",
      "id": "9632e7fc-f181-466b-a8ac-5fcd23d30ba2",
      "metadata": {},
      "source": [
        "<span class=\"theorem-title\">**Exercise 5**</span> Get all the elements\n",
        "of `x` except for the first two."
      ]
    },
    {
      "cell_type": "code",
      "execution_count": null,
      "id": "9900a354",
      "metadata": {},
      "outputs": [],
      "source": []
    },
    {
      "cell_type": "markdown",
      "id": "bf3d5050-6cc8-4474-a1b7-ad0b45eac908",
      "metadata": {},
      "source": [
        "<span class=\"theorem-title\">**Exercise 6**</span> Get all elements of\n",
        "`x` except for the first and last."
      ]
    },
    {
      "cell_type": "code",
      "execution_count": null,
      "id": "daa65819",
      "metadata": {},
      "outputs": [],
      "source": []
    },
    {
      "cell_type": "markdown",
      "id": "10ca29db-633b-40bd-879e-f3feb41223ec",
      "metadata": {},
      "source": [
        "<span class=\"theorem-title\">**Exercise 7**</span> Run the cell below\n",
        "to define the 2-dimensional array `x`. (You don't need to add or change any code.)"
      ]
    },
    {
      "cell_type": "code",
      "execution_count": null,
      "id": "3988a77f",
      "metadata": {},
      "outputs": [],
      "source": []
    },
    {
      "cell_type": "markdown",
      "id": "942fe885-3920-47bc-be18-b939348c4ca4",
      "metadata": {},
      "source": [
        "<span class=\"theorem-title\">**Example 1**</span> Get the first **row** of\n",
        "`x` with the values `[1, 2, 3]`."
      ]
    },
    {
      "cell_type": "code",
      "execution_count": 9,
      "id": "63851b24",
      "metadata": {},
      "outputs": [
        {
          "data": {
            "text/plain": [
              "array([1, 2, 3])"
            ]
          },
          "execution_count": 9,
          "metadata": {},
          "output_type": "execute_result"
        }
      ],
      "source": [
        "x[0]"
      ]
    },
    {
      "cell_type": "markdown",
      "id": "03504a81-c7da-4a70-87e9-7f31c2ef040a",
      "metadata": {},
      "source": [
        "<span class=\"theorem-title\">**Exercise 8**</span> Get the second **column**\n",
        "of `x` with the values `[2, 5, 8]`."
      ]
    },
    {
      "cell_type": "code",
      "execution_count": null,
      "id": "b7c6c091",
      "metadata": {},
      "outputs": [],
      "source": []
    },
    {
      "cell_type": "markdown",
      "id": "8f6feaa8-159a-4493-bc4f-c2a66c90668f",
      "metadata": {},
      "source": [
        "<span class=\"theorem-title\">**Exercise 9**</span> Get every value of\n",
        "`x` except for the bottom row."
      ]
    },
    {
      "cell_type": "code",
      "execution_count": null,
      "id": "969c251d",
      "metadata": {},
      "outputs": [],
      "source": []
    },
    {
      "cell_type": "markdown",
      "id": "465b1f71-efa8-4072-a641-a6aeb2243c99",
      "metadata": {},
      "source": [
        "<span class=\"theorem-title\">**Exercise 10**</span> Get every value of\n",
        "`x` except for the rightmost column."
      ]
    },
    {
      "cell_type": "code",
      "execution_count": null,
      "id": "55d678f9",
      "metadata": {},
      "outputs": [],
      "source": []
    },
    {
      "cell_type": "markdown",
      "id": "6979bbf3-697c-473b-9000-b742c232c38b",
      "metadata": {},
      "source": [
        "## 2 Filtering\n",
        "\n",
        "Another way to get specific values from arrays is by filtering. By\n",
        "filtering, we can extract values from an array based on a specific\n",
        "condition. For example, we can get all values that are greater than 0.\n",
        "Filtering can be divided into two steps: 1. Create a mask that specifies\n",
        "which elements meet the condition. 2. Apply the mask to the array to\n",
        "filter it. By creating different masks we can vary the criteria for\n",
        "selecting data from an array.\n",
        "\n",
        "| Code | Description |\n",
        "|------------------------------------|------------------------------------|\n",
        "| `mask = x>1` | Create a `mask` that is `True` where `x` is greater than `1` and `False` otherwise |\n",
        "| `mask = x==\"k\"` | Create a `mask` that is `True` where `x` is equal to `\"k\"` and `False` otherwise |\n",
        "| `mask = x<=1` | Create a `mask` that is `True` where `x` is smaller than or equal to `1` and `False` otherwise |\n",
        "| `x[mask]` | Get all elements of `x` where the `mask` is `True` |\n",
        "| `np.sum(mask)` | Sum all elements of the `mask` (`True` counts as 1, `False` as 0) |\n",
        "| `np.size(mask)` | Get the number of elements in `x` |\n",
        "| `x = np.random.randint(low=5, high=15, size=20)` | Create an array with `20` random integers between `5` and `15` and assign it to the variable `x` |\n",
        "\n",
        "------------------------------------------------------------------------\n",
        "\n",
        "<span class=\"theorem-title\">**Exercise 11**</span> Create an array with\n",
        "100 random integers between 0 and 10 and assign it to the variable `x`."
      ]
    },
    {
      "cell_type": "code",
      "execution_count": null,
      "id": "941976ab",
      "metadata": {},
      "outputs": [],
      "source": []
    },
    {
      "cell_type": "markdown",
      "id": "0ca0552e-f347-4245-a81f-c971336a5a29",
      "metadata": {},
      "source": [
        "<span class=\"theorem-title\">**Example 2**</span> Get all values of x\n",
        "that are smaller than 5."
      ]
    },
    {
      "cell_type": "code",
      "execution_count": 14,
      "id": "35e9f8af",
      "metadata": {},
      "outputs": [
        {
          "data": {
            "text/plain": [
              "array([0, 0, 4, 4, 2, 1, 1], dtype=int32)"
            ]
          },
          "execution_count": 14,
          "metadata": {},
          "output_type": "execute_result"
        }
      ],
      "source": [
        "mask = x<5\n",
        "x[mask]"
      ]
    },
    {
      "cell_type": "markdown",
      "id": "a9b2fc12-ec5a-4df6-be26-bc3c9598627e",
      "metadata": {},
      "source": [
        "<span class=\"theorem-title\">**Exercise 12**</span> Get all values of `x`\n",
        "that are greater than 3."
      ]
    },
    {
      "cell_type": "code",
      "execution_count": null,
      "id": "4e0bf0ac",
      "metadata": {},
      "outputs": [],
      "source": []
    },
    {
      "cell_type": "markdown",
      "id": "bbbc9994-a912-444a-a1c4-fd8bc4c35c6b",
      "metadata": {},
      "source": [
        "<span class=\"theorem-title\">**Exercise 13**</span> Get all values of `x`\n",
        "that are smaller than or equal to 2."
      ]
    },
    {
      "cell_type": "code",
      "execution_count": null,
      "id": "72402b8e",
      "metadata": {},
      "outputs": [],
      "source": []
    },
    {
      "cell_type": "markdown",
      "id": "6b89f1a0-2b1b-43f4-8f11-e717ab2c7120",
      "metadata": {},
      "source": [
        "<span class=\"theorem-title\">**Exercise 14**</span> Execute the cell\n",
        "below to define an array containing a gene sequence. Then, get all\n",
        "adenine (`\"A\"`) nucleotides from this array."
      ]
    },
    {
      "cell_type": "code",
      "execution_count": null,
      "id": "7f3db878",
      "metadata": {},
      "outputs": [],
      "source": [
        "# provided\n",
        "seq = np.array([\"A\", \"T\", \"G\", \"C\", \"G\", \"T\", \"A\", \"C\", \"G\", \"T\", \"T\", \"A\", \"G\", \"C\", \"T\", \"A\", \"G\", \"G\", \"C\", \"T\", \"T\", \"A\", \"C\", \"G\", \"A\", \"T\", \"C\", \"G\", \"T\", \"A\"])"
      ]
    },
    {
      "cell_type": "code",
      "execution_count": null,
      "id": "0aeda421",
      "metadata": {},
      "outputs": [],
      "source": []
    },
    {
      "cell_type": "markdown",
      "id": "d2137549-e863-4cf2-955c-bf126e2520c1",
      "metadata": {},
      "source": [
        "<span class=\"theorem-title\">**Exercise 15**</span> Is there more\n",
        "cytosine (`\"C\"`) or guanine (`\"G\"`) in the sequence?"
      ]
    },
    {
      "cell_type": "code",
      "execution_count": null,
      "id": "4cf768e3",
      "metadata": {},
      "outputs": [],
      "source": []
    },
    {
      "cell_type": "markdown",
      "id": "64a4fd12-bf60-4387-890a-16b9606ff4a3",
      "metadata": {},
      "source": [
        "## 3 Analyzing Multi-Dimensional Data\n",
        "\n",
        "Now that we learned about indexing, slicing and filtering, we have the\n",
        "tools for analyzing multidimensional data! In this section we are going\n",
        "to analyze electroencephalography (EEG) recordings of brain responses to\n",
        "pure tones. The data are stored in a 3-dimensional array, where the\n",
        "dimensions represent: 1. The number of trials or epochs\n",
        "(i.e. repetitions of the same stimulus) 2. The number of EEG channels 3.\n",
        "The number of time points in the recording When we use Numpy functions\n",
        "to compute properties like mean or standard deviation on a\n",
        "multidimensional array, we can use the `axis` argument to select a\n",
        "specific dimension.\n",
        "\n",
        "| Code | Description |\n",
        "|------------------------------------|------------------------------------|\n",
        "| `x=np.load(\"myfile.npy\")` | Load the data stored in `\"myfile.npy\"` and assign them to the variable `x` |\n",
        "| `np.save(\"newfile.npy\", x)` | Save the array `x` to a file called `\"newfile.npy\"` |\n",
        "| `np.shape(x)` | Get the shape of `x` (i.e. the size of all dimensions of `x`) |\n",
        "| `x[0, :, :]` | Select the 1st element along the 2nd dimension of the 3D array `x` |\n",
        "| `x[:, 4:10, :]` | Select the elements 5 to 10 along the 2nd dimension of the 3D array `x` |\n",
        "| `x[1, :, :3]` | Select the 1st element along the 1st dimension and the first 3 elements along the 3rd dimension of the 3D array `x` |\n",
        "| `np.mean(x, axis=0)` | Compute the mean across the 1st dimension of `x` |\n",
        "| `np.std(x, axis=2)` | Compute the standard deviation across the 3rd dimension of `x` |\n",
        "| `np.max(x)` | Get the maximum value of `x` |\n",
        "\n",
        "------------------------------------------------------------------------"
      ]
    },
    {
      "cell_type": "markdown",
      "id": "20067147",
      "metadata": {},
      "source": [
        "<span class=\"theorem-title\">**Exercise 16**</span> Run the cell below to load the data stored\n",
        "in the file `eeg_epochs.npy` and assign it to a variable called `eeg`."
      ]
    },
    {
      "cell_type": "code",
      "execution_count": null,
      "id": "b38fb61d",
      "metadata": {},
      "outputs": [],
      "source": []
    },
    {
      "cell_type": "markdown",
      "id": "1e6ae0f2-94ce-430d-b1d9-8dd6f2f8e996",
      "metadata": {},
      "source": [
        "<span class=\"theorem-title\">**Exercise 17**</span> How many epochs,\n",
        "channels and time points are there in the `eeg` data? *Hint*: The `shape` function gives you the dimensions of a data array."
      ]
    },
    {
      "cell_type": "code",
      "execution_count": null,
      "id": "78f97269",
      "metadata": {},
      "outputs": [],
      "source": []
    },
    {
      "cell_type": "markdown",
      "id": "d6c4c7a1-62a5-4dbe-a3f4-a65dc3dc13df",
      "metadata": {},
      "source": [
        "<span class=\"theorem-title\">**Exercise 18**</span> Select the data from\n",
        "the first EEG channel."
      ]
    },
    {
      "cell_type": "code",
      "execution_count": null,
      "id": "e7f68b24",
      "metadata": {},
      "outputs": [],
      "source": []
    },
    {
      "cell_type": "markdown",
      "id": "9344efbf-75b2-498a-a4c0-26e0deb120e6",
      "metadata": {},
      "source": [
        "<span class=\"theorem-title\">**Exercise 19**</span> Select the data from\n",
        "the first 10 epochs for the 5th EEG channel."
      ]
    },
    {
      "cell_type": "code",
      "execution_count": null,
      "id": "2e40310e",
      "metadata": {},
      "outputs": [],
      "source": []
    },
    {
      "cell_type": "markdown",
      "id": "77c42e34-1c3b-4c34-bf96-a7f55f2556cd",
      "metadata": {},
      "source": [
        "<span class=\"theorem-title\">**Exercise 20**</span> Compute the standard\n",
        "deviation across all EEG channels - which is called the global field\n",
        "potential (GFP) - and assign it to a new variable called `gfp`. What is\n",
        "the shape of this array?"
      ]
    },
    {
      "cell_type": "code",
      "execution_count": null,
      "id": "bc38945f",
      "metadata": {},
      "outputs": [],
      "source": []
    },
    {
      "cell_type": "markdown",
      "id": "4e6430d3-6954-4217-94ab-17dbf719756f",
      "metadata": {},
      "source": [
        "<span class=\"theorem-title\">**Exercise 21**</span> Save the GFP to a\n",
        "file called `\"gfp.npy\"`. Then load the file again to make sure it was\n",
        "stored."
      ]
    },
    {
      "cell_type": "code",
      "execution_count": null,
      "id": "b76c5405",
      "metadata": {},
      "outputs": [],
      "source": []
    },
    {
      "cell_type": "code",
      "execution_count": null,
      "id": "6b2d0558",
      "metadata": {},
      "outputs": [],
      "source": []
    },
    {
      "cell_type": "markdown",
      "id": "9f633d7a-8934-4e2e-af46-1a2c6ba263de",
      "metadata": {},
      "source": [
        "<span class=\"theorem-title\">**Exercise 22**</span> Average the GFP\n",
        "across all epochs and find the peak value of this average GFP."
      ]
    },
    {
      "cell_type": "code",
      "execution_count": null,
      "id": "17ee8f06",
      "metadata": {},
      "outputs": [],
      "source": []
    },
    {
      "cell_type": "markdown",
      "id": "f4b3fdfa-7906-466b-8491-e10c8639371f",
      "metadata": {},
      "source": [
        "<span class=\"theorem-title\">**Exercise 23**</span> Average the GFP\n",
        "across time and epochs (so that the result is a single scalar value).\n",
        "Compute this value separately for the first and second half of epochs -\n",
        "which one is larger?"
      ]
    },
    {
      "cell_type": "code",
      "execution_count": null,
      "id": "f7ea3040",
      "metadata": {},
      "outputs": [],
      "source": []
    },
    {
      "cell_type": "markdown",
      "id": "bcc2b767-f71b-418e-af5d-823069edba7c",
      "metadata": {},
      "source": [
        "## 4 Linking Arrays with Filtering\n",
        "\n",
        "Filtering can also be used to link different arrays. In this section we\n",
        "are going to load an array that contains the time points for the epochs\n",
        "from the previous array. We can use that array to define a mask and then\n",
        "apply that mask to the array of epoch. Numpy also allows us to combine\n",
        "multiple masks using the and/or operators `&` and `|`. Combining two\n",
        "Boolean arrays with `&` results in an array that is only `True` when\n",
        "both arrays are `True`. Combining them with `|` results in an array that\n",
        "is `True` when either array is `True`. In this section we are going to\n",
        "use filtering to link the EEG data with the array containing the time\n",
        "points at which the data were recorded (time point 0 represents the\n",
        "stimulus onset).\n",
        "\n",
        "<span class=\"theorem-title\">**Exercise 24**</span> Load the data stored\n",
        "in the file `epoch_times.npy` and assign it to a variable called\n",
        "`times`."
      ]
    },
    {
      "cell_type": "code",
      "execution_count": null,
      "id": "2240005c",
      "metadata": {},
      "outputs": [],
      "source": []
    },
    {
      "cell_type": "markdown",
      "id": "1e9c7015-39ea-421c-8930-1ccbf30d276c",
      "metadata": {},
      "source": [
        "<span class=\"theorem-title\">**Exercise 25**</span> How many time points\n",
        "are there? What’s the start and stop time?"
      ]
    },
    {
      "cell_type": "code",
      "execution_count": null,
      "id": "e1c3efc5",
      "metadata": {},
      "outputs": [],
      "source": []
    },
    {
      "cell_type": "markdown",
      "id": "18bf5116-4f48-4d37-80ea-c5590e0318f3",
      "metadata": {},
      "source": [
        "<span class=\"theorem-title\">**Example 3**</span> Get all of the `eeg`\n",
        "data that was recorded in the first 0.2 seconds after stimulus onset and\n",
        "print the shape of the resulting array."
      ]
    },
    {
      "cell_type": "code",
      "execution_count": null,
      "id": "793633e1",
      "metadata": {},
      "outputs": [],
      "source": [
        "mask = times < 0.2\n",
        "np.shape(eeg[:,:,mask])"
      ]
    },
    {
      "cell_type": "markdown",
      "id": "3b06ebc3-87e5-424d-9c18-1d28e78ca18d",
      "metadata": {},
      "source": [
        "<span class=\"theorem-title\">**Exercise 26**</span> Get all of the `eeg`\n",
        "data that was recorded in the first 0.05 seconds after stimulus onset\n",
        "and print the shape of the resulting array."
      ]
    },
    {
      "cell_type": "code",
      "execution_count": null,
      "id": "86ea709a",
      "metadata": {},
      "outputs": [],
      "source": []
    },
    {
      "cell_type": "markdown",
      "id": "ad24f45c-39fc-4fd6-b9e4-ccd45edda779",
      "metadata": {},
      "source": [
        "<span class=\"theorem-title\">**Example 4**</span> Get all of the `eeg`\n",
        "data that was recorded between 0.1 and 0.2 seconds after stimulus onset\n",
        "and print the shape of the resulting array."
      ]
    },
    {
      "cell_type": "code",
      "execution_count": null,
      "id": "a22f443a",
      "metadata": {},
      "outputs": [],
      "source": []
    },
    {
      "cell_type": "markdown",
      "id": "d64c7558-f6b9-40ab-aa3e-640a2faf6fd8",
      "metadata": {},
      "source": [
        "<span class=\"theorem-title\">**Exercise 27**</span> Get all of the `eeg`\n",
        "data that was recorded before 0.1 and after 0.2 seconds and print the\n",
        "shape of the resulting array."
      ]
    },
    {
      "cell_type": "code",
      "execution_count": null,
      "id": "f9d973da",
      "metadata": {},
      "outputs": [],
      "source": []
    },
    {
      "cell_type": "markdown",
      "id": "f000f588-fdd7-40d1-8369-62d239656ebc",
      "metadata": {},
      "source": [
        "<span class=\"theorem-title\">**Exercise 28**</span> Take the average GFP\n",
        "from <a href=\"#exr-avggfp\" class=\"quarto-xref\">Exercise 22</a>, get the\n",
        "values between 0.085 and 0.115 seconds after stimulus onset and average\n",
        "them. This is the amplitude of the so called N1 response."
      ]
    },
    {
      "cell_type": "code",
      "execution_count": null,
      "id": "fb87980b",
      "metadata": {},
      "outputs": [],
      "source": []
    },
    {
      "cell_type": "markdown",
      "id": "90c0c685-e56d-4739-a0af-aeb582115c02",
      "metadata": {},
      "source": [
        "<span class=\"theorem-title\">**Exercise 29**</span> What is the time\n",
        "point where the average GFP is the largest?"
      ]
    },
    {
      "cell_type": "code",
      "execution_count": null,
      "id": "eea770a0",
      "metadata": {},
      "outputs": [],
      "source": []
    },
    {
      "cell_type": "code",
      "execution_count": null,
      "id": "2db4a0ea",
      "metadata": {},
      "outputs": [],
      "source": []
    }
  ],
  "metadata": {
    "kernelspec": {
      "display_name": "intro_to_python2",
      "language": "python",
      "name": "python3"
    },
    "language_info": {
      "codemirror_mode": {
        "name": "ipython",
        "version": 3
      },
      "file_extension": ".py",
      "mimetype": "text/x-python",
      "name": "python",
      "nbconvert_exporter": "python",
      "pygments_lexer": "ipython3",
      "version": "3.12.10"
    }
  },
  "nbformat": 4,
  "nbformat_minor": 5
}
