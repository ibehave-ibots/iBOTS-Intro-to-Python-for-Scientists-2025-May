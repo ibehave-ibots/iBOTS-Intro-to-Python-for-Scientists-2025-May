{
  "cells": [
    {
      "cell_type": "markdown",
      "id": "ff249193-0526-4bd2-a148-25fcb053241a",
      "metadata": {},
      "source": [
        "# Array Programming in Numpy\n",
        "\n",
        "## 1 Indexing and Slicing\n",
        "\n",
        "Often, we want to access specific values stored inside an array. This\n",
        "can be done by slicing and indexing. Indexing simply means getting the\n",
        "element at a specific position. Python starts counting at 0, so `x[0]`\n",
        "will get the **1st** element of `x`. Slicing means getting all values\n",
        "within a certain range by providing a start and stop position. When we\n",
        "index and slice multi-dimensional arrays, we must provide multiple\n",
        "coordinates - one per dimension. We can also omit a value to indicate\n",
        "that we want to get **all** values along that dimension\n",
        "\n",
        "Execute the cell below to install the packages required for this\n",
        "notebook."
      ]
    },
    {
      "cell_type": "code",
      "execution_count": null,
      "id": "9f526176",
      "metadata": {},
      "outputs": [],
      "source": [
        "%pip install numpy"
      ]
    },
    {
      "cell_type": "markdown",
      "id": "182cb380-1f38-4ca7-95d5-7e44541ca178",
      "metadata": {},
      "source": [
        "| Code | Description |\n",
        "|------------------------------------|------------------------------------|\n",
        "| `import numpy as np` | Import the module `numpy` under the alias `np` |\n",
        "| `x = np.arange(2,7)` | Create an array with all integers between 2 and (not including) 7 and assign it to the variable `x` |\n",
        "| `x[0]` | Get the 1st element of `x` |\n",
        "| `x[-1]` | Get the last element of `x` |\n",
        "| `x[2:5]` | Get the 3rd 4th and 5th elements of `x` |\n",
        "| `x[:5]` | Get everything up to and including the 5th element of `x` |\n",
        "| `x[2, 1]` | Get the element in the 3rd row and 2nd column of the 2-dimensional array `x` |\n",
        "| `x[0, :]` | Get the whole first row of `x` |\n",
        "| `x[1:5, 2]` | Get the values from rows 2 through 5 in the 3rd column of `x` |\n",
        "\n",
        "------------------------------------------------------------------------\n",
        "\n",
        "<span class=\"theorem-title\">**Exercise 1**</span> Import the Numpy\n",
        "module under the alias `np`."
      ]
    },
    {
      "cell_type": "code",
      "execution_count": 46,
      "id": "0ff93f98",
      "metadata": {},
      "outputs": [],
      "source": [
        "import numpy as np"
      ]
    },
    {
      "cell_type": "markdown",
      "id": "d7741a20-c73c-4b13-bc4e-76540894bfb1",
      "metadata": {},
      "source": [
        "<span class=\"theorem-title\">**Exercise 2**</span> Create an array with\n",
        "the integers between 1 and 10 and assign it to a variable `x`."
      ]
    },
    {
      "cell_type": "code",
      "execution_count": 48,
      "id": "14d77117",
      "metadata": {},
      "outputs": [
        {
          "data": {
            "text/plain": [
              "array([1, 2, 3, 4, 5, 6, 7, 8, 9])"
            ]
          },
          "execution_count": 48,
          "metadata": {},
          "output_type": "execute_result"
        }
      ],
      "source": [
        "x = np.arange(1,10)\n",
        "x"
      ]
    },
    {
      "cell_type": "markdown",
      "id": "b3b3ac29-0dc7-4de5-8dff-c263cdab598c",
      "metadata": {},
      "source": [
        "<span class=\"theorem-title\">**Exercise 3**</span> Get the second element\n",
        "of `x`."
      ]
    },
    {
      "cell_type": "code",
      "execution_count": 49,
      "id": "89452a63",
      "metadata": {},
      "outputs": [
        {
          "data": {
            "text/plain": [
              "np.int64(2)"
            ]
          },
          "execution_count": 49,
          "metadata": {},
          "output_type": "execute_result"
        }
      ],
      "source": [
        "x[1]"
      ]
    },
    {
      "cell_type": "markdown",
      "id": "8a95b2af-c942-49f5-9267-deafabade8ca",
      "metadata": {},
      "source": [
        "<span class=\"theorem-title\">**Exercise 4**</span> Get the second-to-last\n",
        "element of `x`."
      ]
    },
    {
      "cell_type": "code",
      "execution_count": 50,
      "id": "a11fe003",
      "metadata": {},
      "outputs": [
        {
          "data": {
            "text/plain": [
              "np.int64(8)"
            ]
          },
          "execution_count": 50,
          "metadata": {},
          "output_type": "execute_result"
        }
      ],
      "source": [
        "x[-2]"
      ]
    },
    {
      "cell_type": "markdown",
      "id": "9632e7fc-f181-466b-a8ac-5fcd23d30ba2",
      "metadata": {},
      "source": [
        "<span class=\"theorem-title\">**Exercise 5**</span> Get all the elements\n",
        "of `x` except for the first two."
      ]
    },
    {
      "cell_type": "code",
      "execution_count": 53,
      "id": "9900a354",
      "metadata": {},
      "outputs": [
        {
          "data": {
            "text/plain": [
              "array([3, 4, 5, 6, 7, 8, 9])"
            ]
          },
          "execution_count": 53,
          "metadata": {},
          "output_type": "execute_result"
        }
      ],
      "source": [
        "x[2:]"
      ]
    },
    {
      "cell_type": "markdown",
      "id": "bf3d5050-6cc8-4474-a1b7-ad0b45eac908",
      "metadata": {},
      "source": [
        "<span class=\"theorem-title\">**Exercise 6**</span> Get all elements of\n",
        "`x` except for the first and last."
      ]
    },
    {
      "cell_type": "code",
      "execution_count": 54,
      "id": "daa65819",
      "metadata": {},
      "outputs": [
        {
          "data": {
            "text/plain": [
              "array([2, 3, 4, 5, 6, 7, 8])"
            ]
          },
          "execution_count": 54,
          "metadata": {},
          "output_type": "execute_result"
        }
      ],
      "source": [
        "x[1:-1]"
      ]
    },
    {
      "cell_type": "markdown",
      "id": "10ca29db-633b-40bd-879e-f3feb41223ec",
      "metadata": {},
      "source": [
        "<span class=\"theorem-title\">**Exercise 7**</span> Run the cell below\n",
        "to define the 2-dimensional array `x`. (You don't need to add or change any code.)"
      ]
    },
    {
      "cell_type": "code",
      "execution_count": 55,
      "id": "3988a77f",
      "metadata": {},
      "outputs": [],
      "source": [
        "x = np.array([\n",
        "    [1,2,3],\n",
        "    [4,5,6],\n",
        "    [7,8,9]\n",
        "])"
      ]
    },
    {
      "cell_type": "markdown",
      "id": "942fe885-3920-47bc-be18-b939348c4ca4",
      "metadata": {},
      "source": [
        "<span class=\"theorem-title\">**Example 1**</span> Get the first row of\n",
        "`x` with the values `[1, 2, 3]`."
      ]
    },
    {
      "cell_type": "code",
      "execution_count": 56,
      "id": "63851b24",
      "metadata": {},
      "outputs": [
        {
          "data": {
            "text/plain": [
              "array([1, 2, 3])"
            ]
          },
          "execution_count": 56,
          "metadata": {},
          "output_type": "execute_result"
        }
      ],
      "source": [
        "x[0, :]"
      ]
    },
    {
      "cell_type": "markdown",
      "id": "03504a81-c7da-4a70-87e9-7f31c2ef040a",
      "metadata": {},
      "source": [
        "<span class=\"theorem-title\">**Exercise 8**</span> Get the second column\n",
        "of `x` with the values `[2, 5, 8]`."
      ]
    },
    {
      "cell_type": "code",
      "execution_count": 10,
      "id": "b7c6c091",
      "metadata": {},
      "outputs": [
        {
          "data": {
            "text/plain": [
              "array([4, 5, 6])"
            ]
          },
          "execution_count": 10,
          "metadata": {},
          "output_type": "execute_result"
        }
      ],
      "source": [
        "x[1]"
      ]
    },
    {
      "cell_type": "markdown",
      "id": "8f6feaa8-159a-4493-bc4f-c2a66c90668f",
      "metadata": {},
      "source": [
        "<span class=\"theorem-title\">**Exercise 9**</span> Get every value of\n",
        "`x` except for the bottom row."
      ]
    },
    {
      "cell_type": "code",
      "execution_count": 11,
      "id": "969c251d",
      "metadata": {},
      "outputs": [
        {
          "data": {
            "text/plain": [
              "array([[1, 2, 3],\n",
              "       [4, 5, 6]])"
            ]
          },
          "execution_count": 11,
          "metadata": {},
          "output_type": "execute_result"
        }
      ],
      "source": [
        "x[:-1]"
      ]
    },
    {
      "cell_type": "code",
      "execution_count": null,
      "id": "b55e1377",
      "metadata": {},
      "outputs": [],
      "source": []
    },
    {
      "cell_type": "code",
      "execution_count": 59,
      "id": "3564f8ce",
      "metadata": {},
      "outputs": [
        {
          "data": {
            "text/plain": [
              "array([2, 5, 8])"
            ]
          },
          "execution_count": 59,
          "metadata": {},
          "output_type": "execute_result"
        }
      ],
      "source": [
        "x[:, 1]"
      ]
    },
    {
      "cell_type": "markdown",
      "id": "465b1f71-efa8-4072-a641-a6aeb2243c99",
      "metadata": {},
      "source": [
        "<span class=\"theorem-title\">**Exercise 10**</span> Get every value of\n",
        "`x` except for the rightmost column."
      ]
    },
    {
      "cell_type": "code",
      "execution_count": 60,
      "id": "55d678f9",
      "metadata": {},
      "outputs": [
        {
          "data": {
            "text/plain": [
              "array([[1, 2],\n",
              "       [4, 5],\n",
              "       [7, 8]])"
            ]
          },
          "execution_count": 60,
          "metadata": {},
          "output_type": "execute_result"
        }
      ],
      "source": [
        "x[:,:-1]"
      ]
    },
    {
      "cell_type": "markdown",
      "id": "6979bbf3-697c-473b-9000-b742c232c38b",
      "metadata": {},
      "source": [
        "## 2 Filtering\n",
        "\n",
        "Another way to get specific values from arrays is by filtering. By\n",
        "filtering, we can extract values from an array based on a specific\n",
        "condition. For example, we can get all values that are greater than 0.\n",
        "Filtering can be divided into two steps: 1. Create a mask that specifies\n",
        "which elements meet the condition. 2. Apply the mask to the array to\n",
        "filter it. By creating different masks we can vary the criteria for\n",
        "selecting data from an array.\n",
        "\n",
        "| Code | Description |\n",
        "|------------------------------------|------------------------------------|\n",
        "| `mask = x>1` | Create a `mask` that is `True` where `x` is greater than `1` and `False` otherwise |\n",
        "| `mask = x==\"k\"` | Create a `mask` that is `True` where `x` is equal to `\"k\"` and `False` otherwise |\n",
        "| `mask = x<=1` | Create a `mask` that is `True` where `x` is smaller than or equal to `1` and `False` otherwise |\n",
        "| `x[mask]` | Get all elements of `x` where the `mask` is `True` |\n",
        "| `np.sum(mask)` | Sum all elements of the `mask` (`True` counts as 1, `False` as 0) |\n",
        "| `np.size(mask)` | Get the number of elements in `x` |\n",
        "| `x = np.random.randint(low=5, high=15, size=20)` | Create an array with `20` random integers between `5` and `15` and assign it to the variable `x` |\n",
        "\n",
        "------------------------------------------------------------------------\n",
        "\n",
        "<span class=\"theorem-title\">**Exercise 11**</span> Create an array with\n",
        "100 random integers between 0 and 10 and assign it to the variable `x`."
      ]
    },
    {
      "cell_type": "code",
      "execution_count": 65,
      "id": "941976ab",
      "metadata": {},
      "outputs": [
        {
          "data": {
            "text/plain": [
              "array([2, 1, 9, 4, 2, 6, 3, 1, 1, 1, 4, 2, 0, 6, 0, 2, 5, 1, 8, 7],\n",
              "      dtype=int32)"
            ]
          },
          "execution_count": 65,
          "metadata": {},
          "output_type": "execute_result"
        }
      ],
      "source": [
        "x = np.random.randint(low=0,high=10,size=20)\n",
        "x"
      ]
    },
    {
      "cell_type": "markdown",
      "id": "0ca0552e-f347-4245-a81f-c971336a5a29",
      "metadata": {},
      "source": [
        "<span class=\"theorem-title\">**Example 2**</span> Get all values of x\n",
        "that are smaller than 5."
      ]
    },
    {
      "cell_type": "code",
      "execution_count": 67,
      "id": "35e9f8af",
      "metadata": {},
      "outputs": [
        {
          "data": {
            "text/plain": [
              "array([ True,  True, False,  True,  True, False,  True,  True,  True,\n",
              "        True,  True,  True,  True, False,  True,  True, False,  True,\n",
              "       False, False])"
            ]
          },
          "execution_count": 67,
          "metadata": {},
          "output_type": "execute_result"
        }
      ],
      "source": [
        "mask = x<5\n",
        "mask"
      ]
    },
    {
      "cell_type": "code",
      "execution_count": 68,
      "id": "be92d464",
      "metadata": {},
      "outputs": [
        {
          "data": {
            "text/plain": [
              "array([2, 1, 4, 2, 3, 1, 1, 1, 4, 2, 0, 0, 2, 1], dtype=int32)"
            ]
          },
          "execution_count": 68,
          "metadata": {},
          "output_type": "execute_result"
        }
      ],
      "source": [
        "x[mask]"
      ]
    },
    {
      "cell_type": "markdown",
      "id": "a9b2fc12-ec5a-4df6-be26-bc3c9598627e",
      "metadata": {},
      "source": [
        "<span class=\"theorem-title\">**Exercise 12**</span> Get all values of `x`\n",
        "that are greater than 3."
      ]
    },
    {
      "cell_type": "code",
      "execution_count": 69,
      "id": "4e0bf0ac",
      "metadata": {},
      "outputs": [
        {
          "data": {
            "text/plain": [
              "array([9, 4, 6, 4, 6, 5, 8, 7], dtype=int32)"
            ]
          },
          "execution_count": 69,
          "metadata": {},
          "output_type": "execute_result"
        }
      ],
      "source": [
        "mask = x>3\n",
        "x[mask]"
      ]
    },
    {
      "cell_type": "markdown",
      "id": "bbbc9994-a912-444a-a1c4-fd8bc4c35c6b",
      "metadata": {},
      "source": [
        "<span class=\"theorem-title\">**Exercise 13**</span> Get all values of `x`\n",
        "that are smaller than or equal to 2."
      ]
    },
    {
      "cell_type": "code",
      "execution_count": 70,
      "id": "72402b8e",
      "metadata": {},
      "outputs": [
        {
          "data": {
            "text/plain": [
              "array([2, 1, 2, 1, 1, 1, 2, 0, 0, 2, 1], dtype=int32)"
            ]
          },
          "execution_count": 70,
          "metadata": {},
          "output_type": "execute_result"
        }
      ],
      "source": [
        "mask = x<=2\n",
        "x[mask]"
      ]
    },
    {
      "cell_type": "markdown",
      "id": "6b89f1a0-2b1b-43f4-8f11-e717ab2c7120",
      "metadata": {},
      "source": [
        "<span class=\"theorem-title\">**Exercise 14**</span> Execute the cell\n",
        "below to define an array containing a gene sequence. Then, get all\n",
        "adenine (`\"A\"`) nucleotides from this array."
      ]
    },
    {
      "cell_type": "code",
      "execution_count": 71,
      "id": "7f3db878",
      "metadata": {},
      "outputs": [],
      "source": [
        "seq = np.array([\"A\", \"T\", \"G\", \"C\", \"G\", \"T\", \"A\", \"C\", \"G\", \"T\", \"T\", \"A\", \"G\", \"C\", \"T\", \"A\", \"G\", \"G\", \"C\", \"T\", \"T\", \"A\", \"C\", \"G\", \"A\", \"T\", \"C\", \"G\", \"T\", \"A\"])"
      ]
    },
    {
      "cell_type": "code",
      "execution_count": 74,
      "id": "0aeda421",
      "metadata": {},
      "outputs": [
        {
          "data": {
            "text/plain": [
              "array([ True, False, False, False, False, False,  True, False, False,\n",
              "       False, False,  True, False, False, False,  True, False, False,\n",
              "       False, False, False,  True, False, False,  True, False, False,\n",
              "       False, False,  True])"
            ]
          },
          "execution_count": 74,
          "metadata": {},
          "output_type": "execute_result"
        }
      ],
      "source": [
        "mask = seq == \"A\"\n",
        "mask"
      ]
    },
    {
      "cell_type": "code",
      "execution_count": 75,
      "id": "5ae4ac2d",
      "metadata": {},
      "outputs": [
        {
          "data": {
            "text/plain": [
              "array(['A', 'A', 'A', 'A', 'A', 'A', 'A'], dtype='<U1')"
            ]
          },
          "execution_count": 75,
          "metadata": {},
          "output_type": "execute_result"
        }
      ],
      "source": [
        "seq[mask]"
      ]
    },
    {
      "cell_type": "markdown",
      "id": "d2137549-e863-4cf2-955c-bf126e2520c1",
      "metadata": {},
      "source": [
        "<span class=\"theorem-title\">**Exercise 15**</span> Is there more\n",
        "cytosine (`\"C\"`) or guanine (`\"G\"`) in the sequence?"
      ]
    },
    {
      "cell_type": "code",
      "execution_count": 19,
      "id": "4cf768e3",
      "metadata": {},
      "outputs": [
        {
          "data": {
            "text/plain": [
              "(8, 6)"
            ]
          },
          "execution_count": 19,
          "metadata": {},
          "output_type": "execute_result"
        }
      ],
      "source": [
        "np.size(seq[seq=='G']), np.size(seq[seq=='C'])"
      ]
    },
    {
      "cell_type": "markdown",
      "id": "64a4fd12-bf60-4387-890a-16b9606ff4a3",
      "metadata": {},
      "source": [
        "## 3 Analyzing Multi-Dimensional Data\n",
        "\n",
        "Now that we learned about indexing, slicing and filtering, we have the\n",
        "tools for analyzing multidimensional data! In this section we are going\n",
        "to analyze electroencephalography (EEG) recordings of brain responses to\n",
        "pure tones. The data are stored in a 3-dimensional array, where the\n",
        "dimensions represent: 1. The number of trials or epochs\n",
        "(i.e. repetitions of the same stimulus) 2. The number of EEG channels 3.\n",
        "The number of time points in the recording When we use Numpy functions\n",
        "to compute properties like mean or standard deviation on a\n",
        "multidimensional array, we can use the `axis` argument to select a\n",
        "specific dimension.\n",
        "\n",
        "| Code | Description |\n",
        "|------------------------------------|------------------------------------|\n",
        "| `x=np.load(\"myfile.npy\")` | Load the data stored in `\"myfile.npy\"` and assign them to the variable `x` |\n",
        "| `np.save(\"newfile.npy\", x)` | Save the array `x` to a file called `\"newfile.npy\"` |\n",
        "| `np.shape(x)` | Get the shape of `x` (i.e. the size of all dimensions of `x`) |\n",
        "| `x[0, :, :]` | Select the 1st element along the 2nd dimension of the 3D array `x` |\n",
        "| `x[:, 4:10, :]` | Select the elements 5 to 10 along the 2nd dimension of the 3D array `x` |\n",
        "| `x[1, :, :3]` | Select the 1st element along the 1st dimension and the first 3 elements along the 3rd dimension of the 3D array `x` |\n",
        "| `np.mean(x, axis=0)` | Compute the mean across the 1st dimension of `x` |\n",
        "| `np.std(x, axis=2)` | Compute the standard deviation across the 3rd dimension of `x` |\n",
        "| `np.max(x)` | Get the maximum value of `x` |\n",
        "\n",
        "------------------------------------------------------------------------"
      ]
    },
    {
      "cell_type": "markdown",
      "id": "20067147",
      "metadata": {},
      "source": [
        "<span class=\"theorem-title\">**Exercise 16**</span> Run the cell below to load the data stored\n",
        "in the file `eeg_epochs.npy` and assign it to a variable called `eeg`."
      ]
    },
    {
      "cell_type": "code",
      "execution_count": 76,
      "id": "b38fb61d",
      "metadata": {},
      "outputs": [],
      "source": [
        "eeg = np.load('eeg_epochs.npy')"
      ]
    },
    {
      "cell_type": "markdown",
      "id": "1e6ae0f2-94ce-430d-b1d9-8dd6f2f8e996",
      "metadata": {},
      "source": [
        "<span class=\"theorem-title\">**Exercise 17**</span> How many epochs,\n",
        "channels and time points are there in the `eeg` data? *Hint*: The `shape` function gives you the dimensions of a data array."
      ]
    },
    {
      "cell_type": "code",
      "execution_count": 77,
      "id": "78f97269",
      "metadata": {},
      "outputs": [
        {
          "data": {
            "text/plain": [
              "(70, 59, 54)"
            ]
          },
          "execution_count": 77,
          "metadata": {},
          "output_type": "execute_result"
        }
      ],
      "source": [
        "eeg.shape"
      ]
    },
    {
      "cell_type": "markdown",
      "id": "d6c4c7a1-62a5-4dbe-a3f4-a65dc3dc13df",
      "metadata": {},
      "source": [
        "<span class=\"theorem-title\">**Exercise 18**</span> Select the data from\n",
        "the first EEG channel."
      ]
    },
    {
      "cell_type": "code",
      "execution_count": 80,
      "id": "95ed2a39",
      "metadata": {},
      "outputs": [],
      "source": [
        "import matplotlib.pyplot as plt"
      ]
    },
    {
      "cell_type": "code",
      "execution_count": 82,
      "id": "e7f68b24",
      "metadata": {},
      "outputs": [
        {
          "data": {
            "text/plain": [
              "array([ 8.46685778e-07,  3.24680755e-06,  1.44104669e-06, -5.23874667e-06,\n",
              "       -9.40781096e-06, -7.06964036e-06, -2.01591508e-06, -2.76071098e-08,\n",
              "       -2.14111229e-06, -3.00936926e-06,  1.69728924e-06,  5.45963993e-06,\n",
              "       -2.09637902e-06, -1.52847727e-05, -1.53210430e-05, -3.41384017e-07,\n",
              "        7.74924862e-06, -2.20866040e-06, -1.20600107e-05, -5.74890901e-06,\n",
              "        4.19045764e-06,  9.55466474e-07, -7.26826137e-06, -4.26165200e-06,\n",
              "        5.35181675e-06,  6.03533740e-06, -1.97955574e-06, -5.08156084e-06,\n",
              "        1.94836782e-06,  1.09823616e-05,  1.34224798e-05,  8.85044718e-06,\n",
              "        2.73414857e-06, -1.19880342e-07, -3.25863911e-07, -1.88777079e-06,\n",
              "       -5.19203854e-06, -6.06517520e-06, -3.09916984e-06, -4.13825115e-07,\n",
              "       -1.16908768e-06, -3.48012448e-06, -3.98370333e-06, -1.05071093e-06,\n",
              "        4.90379635e-06,  1.01772581e-05,  9.59358726e-06,  3.85388728e-06,\n",
              "        4.20905863e-07,  2.48292061e-06,  3.79935676e-06,  2.86379780e-07,\n",
              "       -1.80121388e-06,  2.55459286e-06])"
            ]
          },
          "execution_count": 82,
          "metadata": {},
          "output_type": "execute_result"
        }
      ],
      "source": [
        "eeg[10,0,:]"
      ]
    },
    {
      "cell_type": "markdown",
      "id": "9344efbf-75b2-498a-a4c0-26e0deb120e6",
      "metadata": {},
      "source": [
        "<span class=\"theorem-title\">**Exercise 19**</span> Select the data from\n",
        "the first 10 epochs for the 5th EEG channel."
      ]
    },
    {
      "cell_type": "code",
      "execution_count": 23,
      "id": "2e40310e",
      "metadata": {},
      "outputs": [
        {
          "data": {
            "text/plain": [
              "array([[ 1.39659765e-05,  1.94901918e-05,  2.80597018e-05,\n",
              "         3.51590150e-05,  3.70034831e-05,  3.65254568e-05,\n",
              "         3.85490080e-05,  4.18792123e-05,  4.12654958e-05,\n",
              "         3.54950130e-05,  2.84851788e-05,  2.26845773e-05,\n",
              "         1.61354493e-05,  7.54263591e-06,  5.81742826e-07,\n",
              "        -6.74103167e-09,  4.95961635e-06,  9.76406387e-06,\n",
              "         1.07279989e-05,  9.19449400e-06,  7.60127597e-06,\n",
              "         6.43336564e-06,  5.70927773e-06,  5.62196261e-06,\n",
              "         5.04526556e-06,  3.10944867e-06,  1.92681839e-06,\n",
              "         3.45779694e-06,  5.17630336e-06,  4.30480985e-06,\n",
              "         3.80653720e-06,  7.13100330e-06,  1.02197941e-05,\n",
              "         7.65688613e-06,  3.70275756e-06,  6.70416145e-06,\n",
              "         1.46686401e-05,  1.76239245e-05,  1.33006174e-05,\n",
              "         9.30103348e-06,  9.74769420e-06,  1.05527914e-05,\n",
              "         8.97118506e-06,  7.99553000e-06,  9.12369553e-06,\n",
              "         8.97562557e-06,  5.85250288e-06,  3.37224821e-06,\n",
              "         4.86250273e-06,  8.71811215e-06,  1.15144652e-05,\n",
              "         1.21367429e-05,  1.10621673e-05,  8.79821604e-06],\n",
              "       [-1.07641624e-05, -9.19742670e-06, -6.33200336e-06,\n",
              "        -8.38390875e-06, -1.07952541e-05, -9.69771555e-06,\n",
              "        -8.68113844e-06, -1.01639860e-05, -1.04299776e-05,\n",
              "        -6.77367260e-06, -2.69844083e-06, -3.44833400e-06,\n",
              "        -9.51443409e-06, -1.52444572e-05, -1.39498369e-05,\n",
              "        -6.19179770e-06, -6.83841002e-07, -2.73764651e-06,\n",
              "        -5.83894499e-06, -1.76249707e-06,  5.37633172e-06,\n",
              "         4.97684156e-06, -3.04465668e-06, -8.08548489e-06,\n",
              "        -5.23942348e-06, -1.44483940e-06, -3.31956072e-06,\n",
              "        -7.65175719e-06, -8.51151329e-06, -7.79364597e-06,\n",
              "        -1.15751207e-05, -1.77041133e-05, -1.59217328e-05,\n",
              "        -4.17798408e-06,  4.15334057e-06, -1.35578907e-06,\n",
              "        -1.03312064e-05, -6.24266540e-06,  6.60309163e-06,\n",
              "         8.97269559e-06, -2.43820899e-06, -1.06255295e-05,\n",
              "        -6.54112981e-06, -1.02935906e-06, -3.56227828e-06,\n",
              "        -8.11631605e-06, -7.11677797e-06, -3.39900880e-06,\n",
              "        -1.59238462e-06, -6.33724023e-07,  3.70914486e-07,\n",
              "        -1.31158082e-07, -4.08882213e-07,  2.36467861e-06],\n",
              "       [-8.85988320e-06, -6.63548735e-06, -2.39947800e-06,\n",
              "         2.67121534e-06,  5.43425123e-06,  3.13712657e-06,\n",
              "        -1.25106528e-06, -1.53658296e-06,  2.27540077e-06,\n",
              "         3.39793383e-06, -8.56303635e-07, -4.89108047e-06,\n",
              "        -4.57862413e-06, -3.43371815e-06, -4.63744964e-06,\n",
              "        -4.40913080e-06,  8.36811808e-07,  6.85994215e-06,\n",
              "         7.47159961e-06,  3.81565498e-06,  2.11916047e-06,\n",
              "         4.81823123e-06,  8.32068332e-06,  8.40427828e-06,\n",
              "         5.33112372e-06,  3.55716035e-06,  6.08532616e-06,\n",
              "         9.45586951e-06,  7.68122508e-06,  1.65607132e-06,\n",
              "        -1.07227483e-06,  2.28671337e-06,  5.83857073e-06,\n",
              "         5.42016982e-06,  4.63868583e-06,  6.42312267e-06,\n",
              "         7.19208272e-06,  4.42813001e-06,  2.04648133e-06,\n",
              "         3.41370035e-06,  6.22337654e-06,  7.89353689e-06,\n",
              "         9.05865270e-06,  9.39864613e-06,  6.93878952e-06,\n",
              "         2.76603996e-06,  2.70028426e-07,  1.68617180e-07,\n",
              "         1.54154506e-06,  4.53520432e-06,  6.65257619e-06,\n",
              "         2.31975480e-06, -7.43566884e-06, -1.24993616e-05],\n",
              "       [ 5.41808862e-06,  7.28878265e-06,  5.58454295e-06,\n",
              "         1.68875382e-06,  1.07327708e-06,  3.15111934e-06,\n",
              "         1.97590588e-06, -3.29517921e-06, -6.99447309e-06,\n",
              "        -6.92766422e-06, -7.24414413e-06, -9.19540272e-06,\n",
              "        -7.88067863e-06, -1.86115880e-06,  2.58075209e-06,\n",
              "         1.41604363e-06, -9.69930832e-07, -2.43421312e-07,\n",
              "         1.38257852e-06,  1.59938044e-06,  2.44341014e-06,\n",
              "         4.00991265e-06,  2.57343168e-06, -1.21954298e-06,\n",
              "        -1.55049083e-06,  2.12253402e-06,  3.67047472e-06,\n",
              "         1.69367160e-06,  1.95229079e-06,  6.55254878e-06,\n",
              "         1.08386979e-05,  1.19209955e-05,  1.08925520e-05,\n",
              "         7.68513291e-06,  2.79634643e-06,  7.44187352e-07,\n",
              "         2.81605845e-06,  2.17904615e-06, -4.58043780e-06,\n",
              "        -9.23240538e-06, -5.27412409e-06,  1.22347954e-07,\n",
              "        -1.58935239e-06, -6.15279756e-06, -5.67552771e-06,\n",
              "        -2.04174757e-06, -5.78318310e-07,  2.45609326e-07,\n",
              "         3.14636405e-06,  4.70926394e-06,  2.03267028e-06,\n",
              "        -9.47867702e-07, -3.51785760e-07,  1.12613385e-06],\n",
              "       [ 5.96577240e-06,  2.49358171e-06,  1.56377449e-06,\n",
              "         4.15183992e-06,  4.96263740e-06,  3.32107210e-06,\n",
              "         3.96658594e-06,  7.33701210e-06,  8.31766318e-06,\n",
              "         5.12810117e-06,  1.72857135e-06,  3.80565594e-07,\n",
              "        -1.46773197e-06, -4.85024523e-06, -5.63308225e-06,\n",
              "        -9.46921861e-07,  4.73569539e-06,  4.97407217e-06,\n",
              "         8.32254840e-07, -5.77723669e-07,  3.33000842e-06,\n",
              "         7.30815940e-06,  6.63617221e-06,  3.24136843e-06,\n",
              "         1.29100892e-06,  1.37243496e-06,  1.68614009e-06,\n",
              "         1.57780317e-06,  1.57588635e-06,  1.91651999e-06,\n",
              "         2.09364785e-06,  9.92187791e-07, -1.78651025e-06,\n",
              "        -4.29953412e-06, -4.28927831e-06, -2.92468329e-06,\n",
              "        -2.81922460e-06, -2.79009135e-06,  5.93440659e-08,\n",
              "         3.74488700e-06,  3.73495238e-06,  1.17699516e-06,\n",
              "         8.41096125e-07,  1.61547128e-06, -1.76446034e-06,\n",
              "        -7.67274365e-06, -8.10147158e-06, -1.27581767e-06,\n",
              "         5.11993052e-06,  4.84301509e-06, -6.68824419e-08,\n",
              "        -4.31246503e-06, -5.16123421e-06, -2.79699793e-06],\n",
              "       [ 9.97966681e-07, -5.43301284e-06, -7.43204469e-06,\n",
              "        -3.71366497e-06, -7.84942057e-07, -2.67425245e-06,\n",
              "        -4.28652382e-06, -1.09287131e-06,  2.16877587e-06,\n",
              "         3.80687053e-07, -2.35468893e-06, -9.37551250e-07,\n",
              "         1.21741526e-06,  3.00243057e-07,  6.78355836e-07,\n",
              "         5.33785907e-06,  7.58268869e-06,  3.10967364e-06,\n",
              "        -6.32943915e-08,  4.37736203e-06,  7.89450013e-06,\n",
              "         1.49593677e-06, -6.85326178e-06, -4.31752484e-06,\n",
              "         5.53162301e-06,  9.19533280e-06,  5.01772298e-06,\n",
              "         3.12899886e-06,  7.42459428e-06,  1.18368742e-05,\n",
              "         1.26885496e-05,  1.25398316e-05,  1.28325659e-05,\n",
              "         1.27017403e-05,  1.34406275e-05,  1.56421452e-05,\n",
              "         1.49290168e-05,  8.72934632e-06,  3.03863793e-06,\n",
              "         3.77931806e-06,  6.42370108e-06,  3.61582958e-06,\n",
              "        -2.07961499e-06, -3.13223310e-06,  1.22034042e-07,\n",
              "         1.83492423e-06,  1.44230095e-06,  2.31791778e-06,\n",
              "         3.84439234e-06,  3.93332771e-06,  5.09258095e-06,\n",
              "         9.43788588e-06,  1.22221846e-05,  8.53822858e-06],\n",
              "       [-7.88108285e-06, -4.98156192e-06, -2.87493795e-06,\n",
              "        -2.84650756e-06, -3.25165304e-06, -2.57560735e-06,\n",
              "        -1.54930353e-06, -2.17389961e-06, -3.63043723e-06,\n",
              "        -2.11261851e-06,  2.27668476e-06,  3.87570220e-06,\n",
              "         1.12464474e-06, -1.68566323e-08,  2.21036053e-06,\n",
              "         7.64618685e-07, -6.28921538e-06, -9.73281009e-06,\n",
              "        -4.94485555e-06, -3.45870663e-07, -2.09517324e-06,\n",
              "        -4.37800820e-06, -2.65899154e-06, -2.15342034e-06,\n",
              "        -5.58081969e-06, -6.35728610e-06, -7.87158984e-07,\n",
              "         5.42347520e-06,  7.92215032e-06,  9.67563832e-06,\n",
              "         1.26203085e-05,  1.32848085e-05,  9.44269962e-06,\n",
              "         3.88468504e-06,  5.05318741e-07,  9.20132613e-07,\n",
              "         3.56709553e-06,  4.05332226e-06, -6.57359150e-09,\n",
              "        -4.19983323e-06, -2.89900562e-06,  1.43766052e-06,\n",
              "         1.71475223e-06, -2.73710048e-06, -6.34481215e-06,\n",
              "        -6.31592940e-06, -3.86461367e-06,  3.34865070e-07,\n",
              "         4.40428162e-06,  3.24027267e-06, -4.04840794e-06,\n",
              "        -9.38546499e-06, -6.06525138e-06,  1.10602432e-06],\n",
              "       [ 2.54570697e-06, -4.03626764e-08, -1.88481863e-06,\n",
              "         1.41051305e-06,  5.64781827e-06,  5.41195313e-06,\n",
              "         6.02845196e-07, -6.11183505e-06, -1.15057984e-05,\n",
              "        -1.22461503e-05, -8.86331116e-06, -6.42240674e-06,\n",
              "        -6.93730747e-06, -6.52723810e-06, -3.70295381e-06,\n",
              "        -2.61243984e-06, -4.29358087e-06, -4.02818218e-06,\n",
              "        -1.26503486e-06, -1.95604301e-06, -7.16923996e-06,\n",
              "        -1.00774514e-05, -7.96343826e-06, -6.45085100e-06,\n",
              "        -8.67892996e-06, -1.10520184e-05, -1.19476734e-05,\n",
              "        -1.36227106e-05, -1.42168314e-05, -9.33263135e-06,\n",
              "        -2.17225897e-06, -5.84305718e-07, -4.30937959e-06,\n",
              "        -6.51884642e-06, -6.27677964e-06, -7.71297965e-06,\n",
              "        -9.76726558e-06, -8.87239736e-06, -7.87411494e-06,\n",
              "        -1.03720169e-05, -1.18350894e-05, -8.32248564e-06,\n",
              "        -6.30349921e-06, -1.10102930e-05, -1.44285730e-05,\n",
              "        -8.77169330e-06, -1.42971364e-06, -1.66006525e-06,\n",
              "        -3.64126432e-06,  1.34621517e-06,  7.30548819e-06,\n",
              "         4.94102538e-06, -6.32256202e-08,  2.55733626e-06],\n",
              "       [-6.19448104e-06, -9.99704371e-06, -7.23260417e-06,\n",
              "         1.85470716e-06,  7.35089582e-06,  4.48625112e-06,\n",
              "         1.74342364e-07,  8.61768171e-07,  2.85467760e-06,\n",
              "         8.04463815e-07, -1.90077279e-06,  4.12336582e-07,\n",
              "         4.55284917e-06,  3.68234578e-06, -8.26246613e-08,\n",
              "         6.33120370e-07,  4.40919251e-06,  3.19218992e-06,\n",
              "        -1.96174304e-06, -1.27854072e-06,  5.72314568e-06,\n",
              "         7.43527615e-06, -1.18608229e-07, -5.58590222e-06,\n",
              "        -1.30227677e-06,  4.10162056e-06,  1.37442161e-06,\n",
              "        -3.70368705e-06, -1.49762176e-06,  4.84798610e-06,\n",
              "         5.93113723e-06,  1.84913648e-06, -9.33863651e-08,\n",
              "         1.68165051e-06,  2.75695314e-06,  1.82332351e-06,\n",
              "         1.07431963e-06,  3.28511789e-07, -1.42592630e-06,\n",
              "        -1.49532890e-06,  1.90937629e-06,  3.45043473e-06,\n",
              "        -2.66913602e-06, -1.19052160e-05, -1.39852282e-05,\n",
              "        -7.40037824e-06, -5.79087245e-07,  1.26690856e-06,\n",
              "         1.51316395e-06,  3.37646136e-06,  4.57484620e-06,\n",
              "         2.97800164e-06,  1.76294691e-07, -2.71090081e-06],\n",
              "       [ 1.75122149e-07, -3.54418159e-06, -5.82525284e-06,\n",
              "        -3.52358748e-06,  2.87560584e-06,  9.39261153e-06,\n",
              "         1.16124071e-05,  8.92741837e-06,  4.77359016e-06,\n",
              "         2.27184659e-06,  1.69501961e-06,  1.98495137e-06,\n",
              "         1.37074828e-06, -2.91423405e-06, -1.08283101e-05,\n",
              "        -1.62760913e-05, -1.35247354e-05, -5.73673803e-06,\n",
              "        -3.18184434e-07,  2.16616581e-06,  5.93655014e-06,\n",
              "         9.56343549e-06,  8.28739181e-06,  4.72812312e-06,\n",
              "         5.65226485e-06,  9.72273617e-06,  1.02810512e-05,\n",
              "         8.21824496e-06,  9.65677775e-06,  1.28936013e-05,\n",
              "         1.02426897e-05,  1.57072725e-06, -5.02001145e-06,\n",
              "        -4.66185065e-06,  4.68699734e-07,  6.00151265e-06,\n",
              "         8.08490979e-06,  5.68509433e-06,  3.42049288e-06,\n",
              "         5.78870675e-06,  8.72267311e-06,  6.34519751e-06,\n",
              "         3.23552832e-06,  6.88085533e-06,  1.23138300e-05,\n",
              "         1.00947250e-05,  3.93359544e-06,  2.82622418e-06,\n",
              "         3.36861518e-06, -6.04139032e-07, -7.59524455e-07,\n",
              "         1.10667900e-05,  2.19084760e-05,  1.59276145e-05]])"
            ]
          },
          "execution_count": 23,
          "metadata": {},
          "output_type": "execute_result"
        }
      ],
      "source": [
        "eeg[:10, 4]"
      ]
    },
    {
      "cell_type": "code",
      "execution_count": 84,
      "id": "80d9fb32",
      "metadata": {},
      "outputs": [
        {
          "data": {
            "text/plain": [
              "(70, 59, 54)"
            ]
          },
          "execution_count": 84,
          "metadata": {},
          "output_type": "execute_result"
        }
      ],
      "source": [
        "np.shape(eeg)"
      ]
    },
    {
      "cell_type": "code",
      "execution_count": 86,
      "id": "c4e3ef3d",
      "metadata": {},
      "outputs": [
        {
          "data": {
            "text/plain": [
              "(59, 54)"
            ]
          },
          "execution_count": 86,
          "metadata": {},
          "output_type": "execute_result"
        }
      ],
      "source": [
        "avg_epochs = np.mean(eeg, axis = 0)\n",
        "np.shape(avg_epochs)"
      ]
    },
    {
      "cell_type": "code",
      "execution_count": 88,
      "id": "9f2fc981",
      "metadata": {},
      "outputs": [
        {
          "data": {
            "text/plain": [
              "(70, 54)"
            ]
          },
          "execution_count": 88,
          "metadata": {},
          "output_type": "execute_result"
        }
      ],
      "source": [
        "avg_eeg_channels = np.mean(eeg, axis = 1)\n",
        "np.shape(avg_eeg_channels)"
      ]
    },
    {
      "cell_type": "markdown",
      "id": "77c42e34-1c3b-4c34-bf96-a7f55f2556cd",
      "metadata": {},
      "source": [
        "<span class=\"theorem-title\">**Exercise 20**</span> Compute the standard\n",
        "deviation across all EEG channels - which is called the global field\n",
        "potential (GFP) - and assign it to a new variable called `gfp`. What is\n",
        "the shape of this array?"
      ]
    },
    {
      "cell_type": "code",
      "execution_count": 89,
      "id": "bc38945f",
      "metadata": {},
      "outputs": [
        {
          "data": {
            "text/plain": [
              "(70, 54)"
            ]
          },
          "execution_count": 89,
          "metadata": {},
          "output_type": "execute_result"
        }
      ],
      "source": [
        "gfp = np.std(eeg, axis = 1)\n",
        "gfp.shape"
      ]
    },
    {
      "cell_type": "markdown",
      "id": "4e6430d3-6954-4217-94ab-17dbf719756f",
      "metadata": {},
      "source": [
        "<span class=\"theorem-title\">**Exercise 21**</span> Save the GFP to a\n",
        "file called `\"gfp.npy\"`. Then load the file again to make sure it was\n",
        "stored."
      ]
    },
    {
      "cell_type": "code",
      "execution_count": 90,
      "id": "b76c5405",
      "metadata": {},
      "outputs": [],
      "source": [
        "np.save('gfp.npy', gfp)"
      ]
    },
    {
      "cell_type": "code",
      "execution_count": 92,
      "id": "6b2d0558",
      "metadata": {},
      "outputs": [
        {
          "data": {
            "text/plain": [
              "(70, 54)"
            ]
          },
          "execution_count": 92,
          "metadata": {},
          "output_type": "execute_result"
        }
      ],
      "source": [
        "gfp_check = np.load('gfp.npy')\n",
        "np.shape(gfp_check)"
      ]
    },
    {
      "cell_type": "markdown",
      "id": "9f633d7a-8934-4e2e-af46-1a2c6ba263de",
      "metadata": {},
      "source": [
        "<span class=\"theorem-title\">**Exercise 22**</span> Average the GFP\n",
        "across all epochs and find the peak value of this average GFP."
      ]
    },
    {
      "cell_type": "code",
      "execution_count": 27,
      "id": "17ee8f06",
      "metadata": {},
      "outputs": [
        {
          "data": {
            "text/plain": [
              "np.float64(7.1624821620567494e-06)"
            ]
          },
          "execution_count": 27,
          "metadata": {},
          "output_type": "execute_result"
        }
      ],
      "source": [
        "np.mean(gfp, axis=0).max()"
      ]
    },
    {
      "cell_type": "markdown",
      "id": "f4b3fdfa-7906-466b-8491-e10c8639371f",
      "metadata": {},
      "source": [
        "<span class=\"theorem-title\">**Exercise 23**</span> Average the GFP\n",
        "across time and epochs (so that the result is a single scalar value).\n",
        "Compute this value separately for the first and second half of epochs -\n",
        "which one is larger?"
      ]
    },
    {
      "cell_type": "code",
      "execution_count": 28,
      "id": "f7ea3040",
      "metadata": {},
      "outputs": [
        {
          "data": {
            "text/plain": [
              "(np.float64(6.150279958463817e-06), np.float64(6.662563282331686e-06))"
            ]
          },
          "execution_count": 28,
          "metadata": {},
          "output_type": "execute_result"
        }
      ],
      "source": [
        "gfp[:,:int(gfp.shape[-1]/2)].mean(), gfp[:,int(gfp.shape[-1]/2):].mean()"
      ]
    },
    {
      "cell_type": "markdown",
      "id": "bcc2b767-f71b-418e-af5d-823069edba7c",
      "metadata": {},
      "source": [
        "## 4 Linking Arrays with Filtering\n",
        "\n",
        "Filtering can also be used to link different arrays. In this section we\n",
        "are going to load an array that contains the time points for the epochs\n",
        "from the previous array. We can use that array to define a mask and then\n",
        "apply that mask to the array of epoch. Numpy also allows us to combine\n",
        "multiple masks using the and/or operators `&` and `|`. Combining two\n",
        "Boolean arrays with `&` results in an array that is only `True` when\n",
        "both arrays are `True`. Combining them with `|` results in an array that\n",
        "is `True` when either array is `True`. In this section we are going to\n",
        "use filtering to link the EEG data with the array containing the time\n",
        "points at which the data were recorded (time point 0 represents the\n",
        "stimulus onset).\n",
        "\n",
        "<span class=\"theorem-title\">**Exercise 24**</span> Load the data stored\n",
        "in the file `epoch_times.npy` and assign it to a variable called\n",
        "`times`."
      ]
    },
    {
      "cell_type": "code",
      "execution_count": 93,
      "id": "2240005c",
      "metadata": {},
      "outputs": [
        {
          "data": {
            "text/plain": [
              "array([0.        , 0.00665984, 0.01331968, 0.01997952, 0.02663936,\n",
              "       0.0332992 , 0.03995904, 0.04661888, 0.05327872, 0.05993856,\n",
              "       0.0665984 , 0.07325824, 0.07991809, 0.08657793, 0.09323777,\n",
              "       0.09989761, 0.10655745, 0.11321729, 0.11987713, 0.12653697,\n",
              "       0.13319681, 0.13985665, 0.14651649, 0.15317633, 0.15983617,\n",
              "       0.16649601, 0.17315585, 0.17981569, 0.18647553, 0.19313537,\n",
              "       0.19979521, 0.20645505, 0.21311489, 0.21977473, 0.22643457,\n",
              "       0.23309442, 0.23975426, 0.2464141 , 0.25307394, 0.25973378,\n",
              "       0.26639362, 0.27305346, 0.2797133 , 0.28637314, 0.29303298,\n",
              "       0.29969282, 0.30635266, 0.3130125 , 0.31967234, 0.32633218,\n",
              "       0.33299202, 0.33965186, 0.3463117 , 0.35297154])"
            ]
          },
          "execution_count": 93,
          "metadata": {},
          "output_type": "execute_result"
        }
      ],
      "source": [
        "times = np.load('epoch_times.npy')\n",
        "times"
      ]
    },
    {
      "cell_type": "code",
      "execution_count": 94,
      "id": "fd287eec",
      "metadata": {},
      "outputs": [
        {
          "data": {
            "text/plain": [
              "array([[[ 2.67680334e-05,  3.53526848e-05,  4.69128998e-05, ...,\n",
              "          4.12180852e-06, -3.86195567e-06, -2.89777466e-07],\n",
              "        [ 2.76873252e-05,  3.94603314e-05,  5.36404585e-05, ...,\n",
              "          8.87035035e-06,  3.93602730e-06,  4.56202645e-06],\n",
              "        [ 2.70946471e-05,  4.35415728e-05,  5.87683795e-05, ...,\n",
              "          3.53931110e-06, -5.56077119e-09, -4.33086722e-06],\n",
              "        ...,\n",
              "        [-5.04276237e-06, -7.37953656e-06, -9.72836155e-06, ...,\n",
              "          4.44343545e-06,  4.31170682e-06,  2.03358772e-06],\n",
              "        [-3.39345013e-06, -5.44104380e-06, -8.21716755e-06, ...,\n",
              "          2.00014241e-06,  2.46326973e-06,  1.31696238e-06],\n",
              "        [-7.43880044e-06, -1.07589566e-05, -1.50315333e-05, ...,\n",
              "          1.05187075e-06,  4.35724880e-07, -1.82842560e-06]],\n",
              "\n",
              "       [[-1.30239872e-05, -1.09115245e-05, -4.11188614e-06, ...,\n",
              "         -7.63867312e-07,  6.58151272e-06,  6.19991800e-06],\n",
              "        [-8.18649945e-06, -6.56655153e-06, -2.14800222e-06, ...,\n",
              "          6.29634482e-06,  7.34611386e-06,  5.31646528e-06],\n",
              "        [-9.67294801e-06, -8.77306030e-06, -2.49823302e-06, ...,\n",
              "          9.29497893e-07,  3.75776394e-06,  4.71887735e-06],\n",
              "        ...,\n",
              "        [ 3.61341830e-06,  1.91372046e-06, -4.44052644e-08, ...,\n",
              "         -2.72788303e-06, -1.19061134e-06, -1.82364224e-06],\n",
              "        [ 6.85304463e-06,  4.19712265e-06,  2.50223795e-07, ...,\n",
              "          7.28128802e-07,  1.87386297e-06,  2.98297997e-07],\n",
              "        [ 4.69166056e-06,  2.18060707e-06,  4.71730855e-07, ...,\n",
              "         -3.24981325e-06, -1.14442100e-06,  4.91526450e-08]],\n",
              "\n",
              "       [[-1.00595697e-05,  4.88523393e-07,  4.72230958e-06, ...,\n",
              "         -2.46236180e-06, -3.20387595e-06, -5.78915245e-06],\n",
              "        [-1.04884125e-05, -3.61615047e-06, -6.38732159e-07, ...,\n",
              "         -7.99175148e-07, -2.51020613e-06, -7.58306069e-06],\n",
              "        [-5.76496234e-06, -4.78567457e-06, -6.01386282e-06, ...,\n",
              "         -1.14026894e-05, -1.17176445e-05, -9.09682185e-06],\n",
              "        ...,\n",
              "        [ 3.13069405e-06,  2.27458242e-06,  1.21726081e-06, ...,\n",
              "          3.51541919e-06,  3.69886176e-06,  3.57737934e-06],\n",
              "        [ 4.21983496e-06,  2.88848067e-06,  1.33651615e-06, ...,\n",
              "          1.07540213e-06,  1.82283349e-06,  9.75510295e-07],\n",
              "        [-1.70823439e-06, -1.76202564e-06, -1.09865338e-06, ...,\n",
              "          2.97643398e-07,  9.69666299e-08,  7.21234542e-07]],\n",
              "\n",
              "       ...,\n",
              "\n",
              "       [[ 2.52372107e-06, -1.59301144e-06, -9.74316541e-06, ...,\n",
              "          7.05183219e-06,  4.92650416e-06, -8.67060014e-06],\n",
              "        [ 4.43244799e-07, -7.03348740e-06, -9.98836997e-06, ...,\n",
              "          2.57233013e-06, -2.02746179e-06, -4.88743565e-06],\n",
              "        [-2.99598368e-06, -4.12367379e-06, -2.01403225e-06, ...,\n",
              "          1.74847761e-06, -6.93991691e-07,  1.34778048e-06],\n",
              "        ...,\n",
              "        [-8.26001136e-07, -1.78755004e-06, -1.20455793e-06, ...,\n",
              "         -6.02102070e-06, -5.16375799e-06, -2.73426249e-06],\n",
              "        [-7.18787902e-06, -8.31627066e-06, -7.90381517e-06, ...,\n",
              "         -2.74842388e-06, -1.90189026e-06, -1.16090820e-07],\n",
              "        [ 2.68978771e-06,  9.36397657e-08, -8.64475851e-07, ...,\n",
              "         -6.49936224e-06, -6.50118168e-06, -4.24983438e-06]],\n",
              "\n",
              "       [[-5.77128577e-06, -1.86679554e-06,  7.82888343e-06, ...,\n",
              "          9.23250416e-06,  5.31798981e-06,  2.36600820e-06],\n",
              "        [-3.97099597e-06,  5.55704440e-06,  1.05251973e-05, ...,\n",
              "          3.43442462e-06,  4.48149568e-06,  9.45662105e-07],\n",
              "        [-4.36232487e-06,  7.54462220e-06,  1.54834975e-05, ...,\n",
              "          5.16481983e-06,  3.83830068e-06,  2.57559450e-06],\n",
              "        ...,\n",
              "        [ 1.93881097e-08, -2.75858774e-06, -6.09023080e-06, ...,\n",
              "         -6.54695985e-06, -7.01453031e-06, -4.70769642e-06],\n",
              "        [ 2.22044985e-06, -1.78591609e-07, -3.56763509e-06, ...,\n",
              "         -7.06888146e-06, -7.96361204e-06, -6.35196212e-06],\n",
              "        [-2.95634767e-06, -3.87744092e-06, -4.71843947e-06, ...,\n",
              "         -3.58307752e-06, -3.38359633e-06, -1.71269834e-06]],\n",
              "\n",
              "       [[-1.02202164e-05, -1.27737461e-05, -1.95778938e-05, ...,\n",
              "         -1.81326091e-05, -2.71697951e-05, -2.43501838e-05],\n",
              "        [-1.45904934e-05, -1.80278732e-05, -2.37094046e-05, ...,\n",
              "         -2.17900292e-05, -2.35286387e-05, -2.71824440e-05],\n",
              "        [-1.41404014e-05, -1.62593358e-05, -2.29404232e-05, ...,\n",
              "         -3.16167856e-05, -3.19122506e-05, -3.22691591e-05],\n",
              "        ...,\n",
              "        [ 3.53678018e-06,  4.35409251e-06,  6.89197268e-06, ...,\n",
              "          3.11247382e-06,  2.19044899e-06,  2.66724904e-06],\n",
              "        [ 4.00153184e-06,  5.16907380e-06,  7.59184209e-06, ...,\n",
              "         -9.10966220e-07, -2.86328069e-06, -2.82239687e-06],\n",
              "        [ 8.23090435e-06,  7.78776610e-06,  9.30472558e-06, ...,\n",
              "          9.29313069e-06,  9.02766748e-06,  1.09425483e-05]]],\n",
              "      shape=(70, 59, 54))"
            ]
          },
          "execution_count": 94,
          "metadata": {},
          "output_type": "execute_result"
        }
      ],
      "source": [
        "eeg"
      ]
    },
    {
      "cell_type": "markdown",
      "id": "1e9c7015-39ea-421c-8930-1ccbf30d276c",
      "metadata": {},
      "source": [
        "<span class=\"theorem-title\">**Exercise 25**</span> How many time points\n",
        "are there? What’s the start and stop time?"
      ]
    },
    {
      "cell_type": "code",
      "execution_count": 30,
      "id": "e1c3efc5",
      "metadata": {},
      "outputs": [
        {
          "data": {
            "text/plain": [
              "(54, np.float64(0.0), np.float64(0.3529715432464852))"
            ]
          },
          "execution_count": 30,
          "metadata": {},
          "output_type": "execute_result"
        }
      ],
      "source": [
        "np.size(times), times.min(), times.max()"
      ]
    },
    {
      "cell_type": "markdown",
      "id": "18bf5116-4f48-4d37-80ea-c5590e0318f3",
      "metadata": {},
      "source": [
        "<span class=\"theorem-title\">**Example 3**</span> Get all of the `eeg`\n",
        "data that was recorded in the first 0.2 seconds after stimulus onset and\n",
        "print the shape of the resulting array."
      ]
    },
    {
      "cell_type": "code",
      "execution_count": 96,
      "id": "dff7d28f",
      "metadata": {},
      "outputs": [
        {
          "data": {
            "text/plain": [
              "array([0.        , 0.00665984, 0.01331968, 0.01997952, 0.02663936,\n",
              "       0.0332992 , 0.03995904, 0.04661888, 0.05327872, 0.05993856,\n",
              "       0.0665984 , 0.07325824, 0.07991809, 0.08657793, 0.09323777,\n",
              "       0.09989761, 0.10655745, 0.11321729, 0.11987713, 0.12653697,\n",
              "       0.13319681, 0.13985665, 0.14651649, 0.15317633, 0.15983617,\n",
              "       0.16649601, 0.17315585, 0.17981569, 0.18647553, 0.19313537,\n",
              "       0.19979521, 0.20645505, 0.21311489, 0.21977473, 0.22643457,\n",
              "       0.23309442, 0.23975426, 0.2464141 , 0.25307394, 0.25973378,\n",
              "       0.26639362, 0.27305346, 0.2797133 , 0.28637314, 0.29303298,\n",
              "       0.29969282, 0.30635266, 0.3130125 , 0.31967234, 0.32633218,\n",
              "       0.33299202, 0.33965186, 0.3463117 , 0.35297154])"
            ]
          },
          "execution_count": 96,
          "metadata": {},
          "output_type": "execute_result"
        }
      ],
      "source": [
        "times"
      ]
    },
    {
      "cell_type": "code",
      "execution_count": 105,
      "id": "793633e1",
      "metadata": {},
      "outputs": [
        {
          "data": {
            "text/plain": [
              "array([ True,  True,  True,  True,  True,  True,  True,  True,  True,\n",
              "        True,  True,  True,  True,  True,  True,  True,  True,  True,\n",
              "        True,  True,  True,  True,  True,  True,  True,  True,  True,\n",
              "        True,  True,  True,  True, False, False, False, False, False,\n",
              "       False, False, False, False, False, False, False, False, False,\n",
              "       False, False, False, False, False, False, False, False, False])"
            ]
          },
          "execution_count": 105,
          "metadata": {},
          "output_type": "execute_result"
        }
      ],
      "source": [
        "mask1 = times < 0.2\n",
        "mask1"
      ]
    },
    {
      "cell_type": "code",
      "execution_count": 106,
      "id": "58e9632c",
      "metadata": {},
      "outputs": [
        {
          "data": {
            "text/plain": [
              "array([[[ 2.67680334e-05,  3.53526848e-05,  4.69128998e-05, ...,\n",
              "          1.66172575e-06, -2.26350410e-07,  2.38564375e-06],\n",
              "        [ 2.76873252e-05,  3.94603314e-05,  5.36404585e-05, ...,\n",
              "          3.49214983e-06,  2.40684146e-06,  4.35802517e-06],\n",
              "        [ 2.70946471e-05,  4.35415728e-05,  5.87683795e-05, ...,\n",
              "          8.94707911e-08, -2.23653416e-06, -2.58973621e-06],\n",
              "        ...,\n",
              "        [-5.04276237e-06, -7.37953656e-06, -9.72836155e-06, ...,\n",
              "          6.97940708e-06,  7.91734055e-06,  8.32545809e-06],\n",
              "        [-3.39345013e-06, -5.44104380e-06, -8.21716755e-06, ...,\n",
              "          8.94165363e-06,  8.62031167e-06,  7.82095945e-06],\n",
              "        [-7.43880044e-06, -1.07589566e-05, -1.50315333e-05, ...,\n",
              "          2.74133193e-06,  1.58138952e-07, -5.31656240e-07]],\n",
              "\n",
              "       [[-1.30239872e-05, -1.09115245e-05, -4.11188614e-06, ...,\n",
              "         -9.08296289e-06, -1.26353916e-05, -1.55128908e-05],\n",
              "        [-8.18649945e-06, -6.56655153e-06, -2.14800222e-06, ...,\n",
              "         -8.16375986e-06, -8.36451792e-06, -8.29790004e-06],\n",
              "        [-9.67294801e-06, -8.77306030e-06, -2.49823302e-06, ...,\n",
              "         -8.60622631e-06, -8.92065594e-06, -9.95017770e-06],\n",
              "        ...,\n",
              "        [ 3.61341830e-06,  1.91372046e-06, -4.44052644e-08, ...,\n",
              "          5.71804838e-06,  2.38057665e-06,  3.37922055e-07],\n",
              "        [ 6.85304463e-06,  4.19712265e-06,  2.50223795e-07, ...,\n",
              "          9.02662030e-06,  5.86477352e-06,  4.27539139e-06],\n",
              "        [ 4.69166056e-06,  2.18060707e-06,  4.71730855e-07, ...,\n",
              "          6.91781312e-07, -4.51021557e-06, -6.89437978e-06]],\n",
              "\n",
              "       [[-1.00595697e-05,  4.88523393e-07,  4.72230958e-06, ...,\n",
              "          5.10708007e-06,  8.79407159e-06,  5.45428661e-06],\n",
              "        [-1.04884125e-05, -3.61615047e-06, -6.38732159e-07, ...,\n",
              "          3.62746018e-06,  3.97880105e-06,  1.91869756e-06],\n",
              "        [-5.76496234e-06, -4.78567457e-06, -6.01386282e-06, ...,\n",
              "          6.71890253e-07,  1.55712275e-06, -4.60146902e-07],\n",
              "        ...,\n",
              "        [ 3.13069405e-06,  2.27458242e-06,  1.21726081e-06, ...,\n",
              "          2.62487500e-06,  2.57619958e-06,  3.11705402e-06],\n",
              "        [ 4.21983496e-06,  2.88848067e-06,  1.33651615e-06, ...,\n",
              "         -6.17938998e-06, -5.59310421e-06, -4.52810285e-06],\n",
              "        [-1.70823439e-06, -1.76202564e-06, -1.09865338e-06, ...,\n",
              "          2.81277574e-06,  2.69237102e-06,  4.02374014e-06]],\n",
              "\n",
              "       ...,\n",
              "\n",
              "       [[ 2.52372107e-06, -1.59301144e-06, -9.74316541e-06, ...,\n",
              "          2.37988538e-06,  4.72306403e-07, -9.82198578e-08],\n",
              "        [ 4.43244799e-07, -7.03348740e-06, -9.98836997e-06, ...,\n",
              "          7.26973052e-06,  6.97156437e-06,  8.61501534e-06],\n",
              "        [-2.99598368e-06, -4.12367379e-06, -2.01403225e-06, ...,\n",
              "          1.27820250e-05,  1.16616269e-05,  1.11855056e-05],\n",
              "        ...,\n",
              "        [-8.26001136e-07, -1.78755004e-06, -1.20455793e-06, ...,\n",
              "         -2.86943823e-06, -5.14900770e-06, -6.61935452e-06],\n",
              "        [-7.18787902e-06, -8.31627066e-06, -7.90381517e-06, ...,\n",
              "         -1.27428478e-06, -3.98141218e-06, -6.09774980e-06],\n",
              "        [ 2.68978771e-06,  9.36397657e-08, -8.64475851e-07, ...,\n",
              "         -7.47735229e-06, -8.59252680e-06, -9.40957359e-06]],\n",
              "\n",
              "       [[-5.77128577e-06, -1.86679554e-06,  7.82888343e-06, ...,\n",
              "         -1.58719718e-06,  1.09900317e-06,  8.15820964e-06],\n",
              "        [-3.97099597e-06,  5.55704440e-06,  1.05251973e-05, ...,\n",
              "          1.85859615e-06,  5.85856991e-06,  5.91396417e-06],\n",
              "        [-4.36232487e-06,  7.54462220e-06,  1.54834975e-05, ...,\n",
              "          1.09317835e-05,  1.49907112e-05,  1.27321353e-05],\n",
              "        ...,\n",
              "        [ 1.93881097e-08, -2.75858774e-06, -6.09023080e-06, ...,\n",
              "         -5.71592718e-06, -7.10738934e-06, -9.00270297e-06],\n",
              "        [ 2.22044985e-06, -1.78591609e-07, -3.56763509e-06, ...,\n",
              "         -9.36026334e-06, -9.34653529e-06, -1.00597920e-05],\n",
              "        [-2.95634767e-06, -3.87744092e-06, -4.71843947e-06, ...,\n",
              "         -2.43550634e-06, -4.21116130e-06, -5.93073261e-06]],\n",
              "\n",
              "       [[-1.02202164e-05, -1.27737461e-05, -1.95778938e-05, ...,\n",
              "         -1.59894498e-05, -2.09972464e-05, -2.70652128e-05],\n",
              "        [-1.45904934e-05, -1.80278732e-05, -2.37094046e-05, ...,\n",
              "         -2.31446928e-05, -2.15827234e-05, -2.75287971e-05],\n",
              "        [-1.41404014e-05, -1.62593358e-05, -2.29404232e-05, ...,\n",
              "         -2.56449439e-05, -2.35753609e-05, -2.94921752e-05],\n",
              "        ...,\n",
              "        [ 3.53678018e-06,  4.35409251e-06,  6.89197268e-06, ...,\n",
              "          6.93768739e-06,  6.95296763e-06,  7.78063186e-06],\n",
              "        [ 4.00153184e-06,  5.16907380e-06,  7.59184209e-06, ...,\n",
              "          7.89749359e-06,  8.29173306e-06,  9.98176073e-06],\n",
              "        [ 8.23090435e-06,  7.78776610e-06,  9.30472558e-06, ...,\n",
              "          1.07833702e-05,  9.93765283e-06,  9.96667124e-06]]],\n",
              "      shape=(70, 59, 31))"
            ]
          },
          "execution_count": 106,
          "metadata": {},
          "output_type": "execute_result"
        }
      ],
      "source": [
        "eeg[:,:,mask1]"
      ]
    },
    {
      "cell_type": "markdown",
      "id": "3b06ebc3-87e5-424d-9c18-1d28e78ca18d",
      "metadata": {},
      "source": [
        "<span class=\"theorem-title\">**Exercise 26**</span> Get all of the `eeg`\n",
        "data that was recorded in the first 0.05 seconds after stimulus onset\n",
        "and print the shape of the resulting array."
      ]
    },
    {
      "cell_type": "code",
      "execution_count": 32,
      "id": "86ea709a",
      "metadata": {},
      "outputs": [
        {
          "data": {
            "text/plain": [
              "(70, 59, 8)"
            ]
          },
          "execution_count": 32,
          "metadata": {},
          "output_type": "execute_result"
        }
      ],
      "source": [
        "mask = times < 0.05\n",
        "np.shape(eeg[:,:,mask])"
      ]
    },
    {
      "cell_type": "markdown",
      "id": "ad24f45c-39fc-4fd6-b9e4-ccd45edda779",
      "metadata": {},
      "source": [
        "<span class=\"theorem-title\">**Example 4**</span> Get all of the `eeg`\n",
        "data that was recorded between 0.1 and 0.2 seconds after stimulus onset\n",
        "and print the shape of the resulting array."
      ]
    },
    {
      "cell_type": "code",
      "execution_count": 107,
      "id": "a22f443a",
      "metadata": {},
      "outputs": [
        {
          "data": {
            "text/plain": [
              "array([False, False, False, False, False, False, False, False, False,\n",
              "       False, False, False, False, False, False, False,  True,  True,\n",
              "        True,  True,  True,  True,  True,  True,  True,  True,  True,\n",
              "        True,  True,  True,  True, False, False, False, False, False,\n",
              "       False, False, False, False, False, False, False, False, False,\n",
              "       False, False, False, False, False, False, False, False, False])"
            ]
          },
          "execution_count": 107,
          "metadata": {},
          "output_type": "execute_result"
        }
      ],
      "source": [
        "mask2 = (times>=0.1) & (times<=0.2)\n",
        "mask2"
      ]
    },
    {
      "cell_type": "code",
      "execution_count": 108,
      "id": "d263a2be",
      "metadata": {},
      "outputs": [
        {
          "data": {
            "text/plain": [
              "array([[[ 2.80160261e-05,  2.59949301e-05,  2.68294130e-05, ...,\n",
              "          1.66172575e-06, -2.26350410e-07,  2.38564375e-06],\n",
              "        [ 2.76170501e-05,  3.18715226e-05,  3.08368527e-05, ...,\n",
              "          3.49214983e-06,  2.40684146e-06,  4.35802517e-06],\n",
              "        [ 2.79728694e-05,  3.10165105e-05,  3.10463504e-05, ...,\n",
              "          8.94707911e-08, -2.23653416e-06, -2.58973621e-06],\n",
              "        ...,\n",
              "        [ 8.01735795e-06,  3.52157674e-06, -2.16066775e-08, ...,\n",
              "          6.97940708e-06,  7.91734055e-06,  8.32545809e-06],\n",
              "        [ 6.59051117e-06,  2.89922198e-06, -2.70402982e-07, ...,\n",
              "          8.94165363e-06,  8.62031167e-06,  7.82095945e-06],\n",
              "        [ 6.06759584e-06,  4.30270959e-06,  2.79291822e-06, ...,\n",
              "          2.74133193e-06,  1.58138952e-07, -5.31656240e-07]],\n",
              "\n",
              "       [[ 1.42250006e-06,  8.12658246e-06,  1.84651700e-06, ...,\n",
              "         -9.08296289e-06, -1.26353916e-05, -1.55128908e-05],\n",
              "        [ 1.76361866e-06,  6.62579841e-06,  4.08818220e-06, ...,\n",
              "         -8.16375986e-06, -8.36451792e-06, -8.29790004e-06],\n",
              "        [-4.75107980e-06, -2.17019184e-08, -1.94150094e-07, ...,\n",
              "         -8.60622631e-06, -8.92065594e-06, -9.95017770e-06],\n",
              "        ...,\n",
              "        [ 2.48690096e-06,  4.48275800e-07, -6.37618290e-07, ...,\n",
              "          5.71804838e-06,  2.38057665e-06,  3.37922055e-07],\n",
              "        [ 3.89056501e-06,  2.36968889e-06,  2.25930252e-06, ...,\n",
              "          9.02662030e-06,  5.86477352e-06,  4.27539139e-06],\n",
              "        [ 3.15294471e-07,  2.44139289e-06,  3.40197645e-06, ...,\n",
              "          6.91781312e-07, -4.51021557e-06, -6.89437978e-06]],\n",
              "\n",
              "       [[-1.22818806e-07,  3.78277187e-06,  2.40105654e-06, ...,\n",
              "          5.10708007e-06,  8.79407159e-06,  5.45428661e-06],\n",
              "        [-4.18830914e-07,  1.21315137e-07, -2.42895926e-06, ...,\n",
              "          3.62746018e-06,  3.97880105e-06,  1.91869756e-06],\n",
              "        [-8.64947661e-06, -7.32808605e-06, -4.28594412e-06, ...,\n",
              "          6.71890253e-07,  1.55712275e-06, -4.60146902e-07],\n",
              "        ...,\n",
              "        [ 5.41738515e-06,  4.40824450e-06,  4.89716392e-06, ...,\n",
              "          2.62487500e-06,  2.57619958e-06,  3.11705402e-06],\n",
              "        [ 4.13712249e-06,  9.56859690e-07, -2.28250345e-07, ...,\n",
              "         -6.17938998e-06, -5.59310421e-06, -4.52810285e-06],\n",
              "        [ 4.14470498e-06,  3.37396084e-06,  4.82300928e-06, ...,\n",
              "          2.81277574e-06,  2.69237102e-06,  4.02374014e-06]],\n",
              "\n",
              "       ...,\n",
              "\n",
              "       [[-3.51635486e-06,  6.60966928e-06,  6.27044375e-06, ...,\n",
              "          2.37988538e-06,  4.72306403e-07, -9.82198578e-08],\n",
              "        [-4.09224604e-07,  2.40189960e-06,  5.34339134e-06, ...,\n",
              "          7.26973052e-06,  6.97156437e-06,  8.61501534e-06],\n",
              "        [-1.98180644e-06,  4.73560544e-06,  1.18553915e-05, ...,\n",
              "          1.27820250e-05,  1.16616269e-05,  1.11855056e-05],\n",
              "        ...,\n",
              "        [ 2.81648263e-06,  5.51475913e-07, -6.22382252e-07, ...,\n",
              "         -2.86943823e-06, -5.14900770e-06, -6.61935452e-06],\n",
              "        [-2.05658543e-06, -3.85839086e-06, -4.47343914e-06, ...,\n",
              "         -1.27428478e-06, -3.98141218e-06, -6.09774980e-06],\n",
              "        [ 3.90547437e-06,  2.24442372e-06,  8.88315798e-07, ...,\n",
              "         -7.47735229e-06, -8.59252680e-06, -9.40957359e-06]],\n",
              "\n",
              "       [[-7.04463615e-06,  1.88668122e-06,  1.28505238e-05, ...,\n",
              "         -1.58719718e-06,  1.09900317e-06,  8.15820964e-06],\n",
              "        [-7.90312113e-07,  1.13385801e-06,  3.90060303e-06, ...,\n",
              "          1.85859615e-06,  5.85856991e-06,  5.91396417e-06],\n",
              "        [-1.24507346e-07,  4.37480688e-06,  1.36471494e-05, ...,\n",
              "          1.09317835e-05,  1.49907112e-05,  1.27321353e-05],\n",
              "        ...,\n",
              "        [-7.83071189e-07, -2.65109634e-06, -4.11506269e-06, ...,\n",
              "         -5.71592718e-06, -7.10738934e-06, -9.00270297e-06],\n",
              "        [-6.22506667e-06, -7.35184313e-06, -8.53292443e-06, ...,\n",
              "         -9.36026334e-06, -9.34653529e-06, -1.00597920e-05],\n",
              "        [ 2.40773638e-06, -2.32628023e-07, -1.32363459e-06, ...,\n",
              "         -2.43550634e-06, -4.21116130e-06, -5.93073261e-06]],\n",
              "\n",
              "       [[-3.35537395e-05, -1.62927658e-05, -2.32019980e-06, ...,\n",
              "         -1.59894498e-05, -2.09972464e-05, -2.70652128e-05],\n",
              "        [-2.13408417e-05, -1.80931705e-05, -1.78119464e-05, ...,\n",
              "         -2.31446928e-05, -2.15827234e-05, -2.75287971e-05],\n",
              "        [-2.13674944e-05, -2.51372794e-05, -2.68841052e-05, ...,\n",
              "         -2.56449439e-05, -2.35753609e-05, -2.94921752e-05],\n",
              "        ...,\n",
              "        [ 8.98991180e-06,  7.19123493e-06,  4.93157676e-06, ...,\n",
              "          6.93768739e-06,  6.95296763e-06,  7.78063186e-06],\n",
              "        [ 1.01566670e-05,  9.38192983e-06,  6.77708032e-06, ...,\n",
              "          7.89749359e-06,  8.29173306e-06,  9.98176073e-06],\n",
              "        [ 8.30284546e-06,  5.93039515e-06,  2.87558904e-06, ...,\n",
              "          1.07833702e-05,  9.93765283e-06,  9.96667124e-06]]],\n",
              "      shape=(70, 59, 15))"
            ]
          },
          "execution_count": 108,
          "metadata": {},
          "output_type": "execute_result"
        }
      ],
      "source": [
        "eeg[:,:,mask2]"
      ]
    },
    {
      "cell_type": "markdown",
      "id": "d64c7558-f6b9-40ab-aa3e-640a2faf6fd8",
      "metadata": {},
      "source": [
        "<span class=\"theorem-title\">**Exercise 27**</span> Get all of the `eeg`\n",
        "data that was recorded before 0.1 and after 0.2 seconds and print the\n",
        "shape of the resulting array."
      ]
    },
    {
      "cell_type": "code",
      "execution_count": 34,
      "id": "f9d973da",
      "metadata": {},
      "outputs": [
        {
          "data": {
            "text/plain": [
              "(70, 59, 0)"
            ]
          },
          "execution_count": 34,
          "metadata": {},
          "output_type": "execute_result"
        }
      ],
      "source": [
        "mask = (times<=0.1) & (times>=0.2)\n",
        "np.shape(eeg[:,:,mask])"
      ]
    },
    {
      "cell_type": "markdown",
      "id": "f000f588-fdd7-40d1-8369-62d239656ebc",
      "metadata": {},
      "source": [
        "<span class=\"theorem-title\">**Exercise 28**</span> Take the average GFP\n",
        "from <a href=\"#exr-avggfp\" class=\"quarto-xref\">Exercise 22</a>, get the\n",
        "values between 0.085 and 0.115 seconds after stimulus onset and average\n",
        "them. This is the amplitude of the so called N1 response."
      ]
    },
    {
      "cell_type": "code",
      "execution_count": 35,
      "id": "fb87980b",
      "metadata": {},
      "outputs": [
        {
          "data": {
            "text/plain": [
              "array([6.66245653e-06, 6.64888350e-06, 6.47134258e-06, 6.23569235e-06,\n",
              "       6.12287725e-06])"
            ]
          },
          "execution_count": 35,
          "metadata": {},
          "output_type": "execute_result"
        }
      ],
      "source": [
        "mask = (times>=0.085) & (times<=0.115)\n",
        "gfp[:,mask].mean(axis=0)"
      ]
    },
    {
      "cell_type": "markdown",
      "id": "90c0c685-e56d-4739-a0af-aeb582115c02",
      "metadata": {},
      "source": [
        "<span class=\"theorem-title\">**Exercise 29**</span> What is the time\n",
        "point where the average GFP is the largest?"
      ]
    },
    {
      "cell_type": "code",
      "execution_count": 36,
      "id": "eea770a0",
      "metadata": {},
      "outputs": [
        {
          "data": {
            "text/plain": [
              "np.float64(0.2863731388603559)"
            ]
          },
          "execution_count": 36,
          "metadata": {},
          "output_type": "execute_result"
        }
      ],
      "source": [
        "times[gfp.mean(axis=0).argmax()]"
      ]
    },
    {
      "cell_type": "code",
      "execution_count": null,
      "id": "2db4a0ea",
      "metadata": {},
      "outputs": [],
      "source": []
    }
  ],
  "metadata": {
    "kernelspec": {
      "display_name": "intro_to_python",
      "language": "python",
      "name": "python3"
    },
    "language_info": {
      "codemirror_mode": {
        "name": "ipython",
        "version": 3
      },
      "file_extension": ".py",
      "mimetype": "text/x-python",
      "name": "python",
      "nbconvert_exporter": "python",
      "pygments_lexer": "ipython3",
      "version": "3.12.10"
    }
  },
  "nbformat": 4,
  "nbformat_minor": 5
}
