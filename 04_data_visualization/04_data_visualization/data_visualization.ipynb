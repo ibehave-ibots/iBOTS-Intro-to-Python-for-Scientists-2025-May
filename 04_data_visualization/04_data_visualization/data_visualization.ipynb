{
  "cells": [
    {
      "cell_type": "markdown",
      "id": "fdd33942-a837-4440-af0a-d8128f4a55a1",
      "metadata": {},
      "source": [
        "# Visualizing Data with Matplotlib and Seaborn\n",
        "\n",
        "Data visualizations are a key component of every scientific publication.\n",
        "In this session, we are going to learn how to visualize data using the\n",
        "libraries Matplotlib and Seaborn. We are going to explore the libraries\n",
        "and their interaction by analyzing the Gapminder data set which contains\n",
        "data on population size, life expectancy and fertility from 63 countries\n",
        "over a time span of 50 years. To install the packages required for this\n",
        "session, execute the cell below."
      ]
    },
    {
      "cell_type": "code",
      "execution_count": null,
      "id": "05817d96",
      "metadata": {},
      "outputs": [],
      "source": [
        "%conda install pandas seaborn scipy"
      ]
    },
    {
      "cell_type": "code",
      "execution_count": 2,
      "id": "ab5b529f",
      "metadata": {},
      "outputs": [
        {
          "name": "stdout",
          "output_type": "stream",
          "text": [
            "Requirement already satisfied: matplotlib in c:\\users\\atle_\\miniforge3\\envs\\intro_to_python3\\lib\\site-packages (3.10.1)\n",
            "Requirement already satisfied: contourpy>=1.0.1 in c:\\users\\atle_\\appdata\\roaming\\python\\python312\\site-packages (from matplotlib) (1.2.1)\n",
            "Requirement already satisfied: cycler>=0.10 in c:\\users\\atle_\\appdata\\roaming\\python\\python312\\site-packages (from matplotlib) (0.12.1)\n",
            "Requirement already satisfied: fonttools>=4.22.0 in c:\\users\\atle_\\appdata\\roaming\\python\\python312\\site-packages (from matplotlib) (4.53.1)\n",
            "Requirement already satisfied: kiwisolver>=1.3.1 in c:\\users\\atle_\\appdata\\roaming\\python\\python312\\site-packages (from matplotlib) (1.4.5)\n",
            "Requirement already satisfied: numpy>=1.23 in c:\\users\\atle_\\miniforge3\\envs\\intro_to_python3\\lib\\site-packages (from matplotlib) (2.2.5)\n",
            "Requirement already satisfied: packaging>=20.0 in c:\\users\\atle_\\miniforge3\\envs\\intro_to_python3\\lib\\site-packages (from matplotlib) (25.0)\n",
            "Requirement already satisfied: pillow>=8 in c:\\users\\atle_\\appdata\\roaming\\python\\python312\\site-packages (from matplotlib) (10.4.0)\n",
            "Requirement already satisfied: pyparsing>=2.3.1 in c:\\users\\atle_\\appdata\\roaming\\python\\python312\\site-packages (from matplotlib) (3.1.2)\n",
            "Requirement already satisfied: python-dateutil>=2.7 in c:\\users\\atle_\\miniforge3\\envs\\intro_to_python3\\lib\\site-packages (from matplotlib) (2.9.0.post0)\n",
            "Requirement already satisfied: six>=1.5 in c:\\users\\atle_\\miniforge3\\envs\\intro_to_python3\\lib\\site-packages (from python-dateutil>=2.7->matplotlib) (1.17.0)\n",
            "Note: you may need to restart the kernel to use updated packages.\n"
          ]
        }
      ],
      "source": [
        "%pip install matplotlib"
      ]
    },
    {
      "cell_type": "markdown",
      "id": "919e1d65-883e-4ddc-9c67-6bf26c530967",
      "metadata": {},
      "source": [
        "## 1 Plotting Time-Series Data with Matplotlib\n",
        "\n",
        "One very common kind of data are time-series: sequential points, sampled\n",
        "at regular intervals. To plot time-series data, we can use the function\n",
        "`plt.plot(x, y)` where the variable `x` contains the time points and `y`\n",
        "contains the values sampled at those time points. To explore this, we\n",
        "are going to visualize changes in fertility rates over time in different\n",
        "countries. By default, Matplotlib will show plots immediately after\n",
        "executing a cell. Thus, if we wish to do several things, like drawing a\n",
        "plot and labeling it, we’ll have to include the respective commands in\n",
        "the same cell.\n",
        "\n",
        "| Code | Description |\n",
        "|------------------------------------|------------------------------------|\n",
        "| `from matplotlib import pyplot as plt` | Import `pyplot` module from the `matplotlib` library under the alias `plt` |\n",
        "| `plt.plot(x, y)` | Plot the points at the given `x` and `y` coordinates and connect them with a line |\n",
        "| `plt.plot(x, y, label=\"label1\")` | Add the label `\"label1\"` to the plotted data |\n",
        "| `plt.plot(x, y, marker=\"x\", linewidth=2)` | Mark the data points with a cross |\n",
        "| `plt.plot(x, y, color=\"black\", linewidth=2)` | Set the color to `\"black\"` and the linewidth to `2` |\n",
        "| `plt.legend()` | Add a legend that displays the labels in the plot |\n",
        "| `plt.xlabel(\"xval\")` | Label the x-axis with `\"xval\"` |\n",
        "| `plt.ylabel(\"yval\")` | Label the y-axis with `\"yval\"` |\n",
        "\n",
        "<span class=\"theorem-title\">**Exercise 1**</span> Run the cell below\n",
        "to load the `\"gapminder.csv\"` file, assign it to a data frame `df` and\n",
        "filter it to extract the data for `\"Germany\"` and the `\"United States\"`.\n",
        "Then, display the `.head()` of both data frames."
      ]
    },
    {
      "cell_type": "code",
      "execution_count": 41,
      "id": "7b867e1b",
      "metadata": {},
      "outputs": [],
      "source": [
        "import pandas as pd\n",
        "df = pd.read_csv(\"gapminder.csv\")\n",
        "df_ger = df[df[\"country\"]==\"Germany\"]\n",
        "df_usa = df[df[\"country\"]==\"United States\"]"
      ]
    },
    {
      "cell_type": "code",
      "execution_count": 42,
      "id": "63d30a10",
      "metadata": {},
      "outputs": [
        {
          "data": {
            "text/html": [
              "<div>\n",
              "<style scoped>\n",
              "    .dataframe tbody tr th:only-of-type {\n",
              "        vertical-align: middle;\n",
              "    }\n",
              "\n",
              "    .dataframe tbody tr th {\n",
              "        vertical-align: top;\n",
              "    }\n",
              "\n",
              "    .dataframe thead th {\n",
              "        text-align: right;\n",
              "    }\n",
              "</style>\n",
              "<table border=\"1\" class=\"dataframe\">\n",
              "  <thead>\n",
              "    <tr style=\"text-align: right;\">\n",
              "      <th></th>\n",
              "      <th>year</th>\n",
              "      <th>country</th>\n",
              "      <th>pop</th>\n",
              "      <th>life_expect</th>\n",
              "      <th>fertility</th>\n",
              "      <th>continent</th>\n",
              "    </tr>\n",
              "  </thead>\n",
              "  <tbody>\n",
              "    <tr>\n",
              "      <th>275</th>\n",
              "      <td>1955</td>\n",
              "      <td>Germany</td>\n",
              "      <td>70195612</td>\n",
              "      <td>69.1</td>\n",
              "      <td>2.30</td>\n",
              "      <td>Europe</td>\n",
              "    </tr>\n",
              "    <tr>\n",
              "      <th>276</th>\n",
              "      <td>1960</td>\n",
              "      <td>Germany</td>\n",
              "      <td>72480869</td>\n",
              "      <td>70.3</td>\n",
              "      <td>2.49</td>\n",
              "      <td>Europe</td>\n",
              "    </tr>\n",
              "    <tr>\n",
              "      <th>277</th>\n",
              "      <td>1965</td>\n",
              "      <td>Germany</td>\n",
              "      <td>75638851</td>\n",
              "      <td>70.8</td>\n",
              "      <td>2.32</td>\n",
              "      <td>Europe</td>\n",
              "    </tr>\n",
              "    <tr>\n",
              "      <th>278</th>\n",
              "      <td>1970</td>\n",
              "      <td>Germany</td>\n",
              "      <td>77783164</td>\n",
              "      <td>71.0</td>\n",
              "      <td>1.64</td>\n",
              "      <td>Europe</td>\n",
              "    </tr>\n",
              "    <tr>\n",
              "      <th>279</th>\n",
              "      <td>1975</td>\n",
              "      <td>Germany</td>\n",
              "      <td>78682325</td>\n",
              "      <td>72.5</td>\n",
              "      <td>1.52</td>\n",
              "      <td>Europe</td>\n",
              "    </tr>\n",
              "  </tbody>\n",
              "</table>\n",
              "</div>"
            ],
            "text/plain": [
              "     year  country       pop  life_expect  fertility continent\n",
              "275  1955  Germany  70195612         69.1       2.30    Europe\n",
              "276  1960  Germany  72480869         70.3       2.49    Europe\n",
              "277  1965  Germany  75638851         70.8       2.32    Europe\n",
              "278  1970  Germany  77783164         71.0       1.64    Europe\n",
              "279  1975  Germany  78682325         72.5       1.52    Europe"
            ]
          },
          "execution_count": 42,
          "metadata": {},
          "output_type": "execute_result"
        }
      ],
      "source": [
        "# display the head of df_ger here\n",
        "\n",
        "df_ger.head()"
      ]
    },
    {
      "cell_type": "code",
      "execution_count": 43,
      "id": "8a3a3f4b",
      "metadata": {},
      "outputs": [],
      "source": [
        "# display the head of df_us here\n",
        "\n"
      ]
    },
    {
      "cell_type": "markdown",
      "id": "5ef7c92a-336c-4682-8618-b202bded42b2",
      "metadata": {},
      "source": [
        "<span class=\"theorem-title\">**Exercise 2**</span> Import the `pyplot`\n",
        "module from the `matplotlib` library under the alias `plt`."
      ]
    },
    {
      "cell_type": "code",
      "execution_count": null,
      "id": "82c99883",
      "metadata": {},
      "outputs": [],
      "source": []
    },
    {
      "cell_type": "markdown",
      "id": "01673627-a29f-4404-b4d0-66436374b3c0",
      "metadata": {},
      "source": [
        "<span class=\"theorem-title\">**Example 1**</span> Plot the population\n",
        "size (`\"pop\"`) across time (`\"year\"`) for Germany (`df_ger`) and label\n",
        "the x- and y-axis with `\"Year\"` and `\"Population Size\"`."
      ]
    },
    {
      "cell_type": "code",
      "execution_count": 46,
      "id": "931357df",
      "metadata": {},
      "outputs": [
        {
          "data": {
            "text/plain": [
              "Text(0, 0.5, 'Population Size')"
            ]
          },
          "execution_count": 46,
          "metadata": {},
          "output_type": "execute_result"
        },
        {
          "data": {
            "image/png": "[encoded data removed]",
            "text/plain": [
              "<Figure size 640x480 with 1 Axes>"
            ]
          },
          "metadata": {},
          "output_type": "display_data"
        }
      ],
      "source": [
        "plt.plot(df_ger['year'], df_ger['pop'])\n",
        "plt.xlabel(\"Year\")\n",
        "plt.ylabel(\"Population Size\")"
      ]
    },
    {
      "cell_type": "markdown",
      "id": "bca687b1-33ef-4aed-82ed-315b189d4262",
      "metadata": {},
      "source": [
        "<span class=\"theorem-title\">**Exercise 3**</span> Plot the fertility\n",
        "rates (`\"fertility\"`) across time (`\"year\"`) for Germany (`df_ger`)"
      ]
    },
    {
      "cell_type": "code",
      "execution_count": null,
      "id": "b1e2ec73",
      "metadata": {},
      "outputs": [],
      "source": []
    },
    {
      "cell_type": "markdown",
      "id": "8045e92d-aa39-4460-aac4-9f252914b245",
      "metadata": {},
      "source": [
        "<span class=\"theorem-title\">**Exercise 4**</span> Plot the fertility\n",
        "rates (`\"fertility\"`) across time (`\"year\"`) for Germany (`df_ger`) and\n",
        "set the `linewidth` to `2.5` and the color to green."
      ]
    },
    {
      "cell_type": "code",
      "execution_count": null,
      "id": "a0c9995d",
      "metadata": {},
      "outputs": [],
      "source": []
    },
    {
      "cell_type": "markdown",
      "id": "f816c8ac-fc31-4608-b9da-87ecf87a5166",
      "metadata": {},
      "source": [
        "<span class=\"theorem-title\">**Exercise 5**</span> Plot the fertility\n",
        "rates (`\"fertility\"`) across time (`\"year\"`) for the United States\n",
        "(`df_usa`) and add a `marker`."
      ]
    },
    {
      "cell_type": "code",
      "execution_count": null,
      "id": "47a3b05f",
      "metadata": {},
      "outputs": [],
      "source": []
    },
    {
      "cell_type": "markdown",
      "id": "9517e59e-3c69-45a5-959e-aff0cee5e57d",
      "metadata": {},
      "source": [
        "<span class=\"theorem-title\">**Exercise 6**</span> Plot the same data but\n",
        "add the labels `\"Year\"` and `\"Fertility Rate\"` to the x- and y-axis."
      ]
    },
    {
      "cell_type": "code",
      "execution_count": null,
      "id": "7a50842f",
      "metadata": {},
      "outputs": [],
      "source": []
    },
    {
      "cell_type": "markdown",
      "id": "b8a57da2-30c5-4cbe-9c87-fdd21d47376d",
      "metadata": {},
      "source": [
        "<span class=\"theorem-title\">**Exercise 7**</span> Plot the fertility\n",
        "rates (`\"fertility\"`) across time (`\"year\"`) for Germany (`df_ger`) and\n",
        "the United States (`df_usa`) and label the x- and y-axis with `\"Year\"`\n",
        "and `\"Fertility Rate\"`. Add a `label` to each line and add a\n",
        "`plt.legend()`."
      ]
    },
    {
      "cell_type": "code",
      "execution_count": null,
      "id": "66891470",
      "metadata": {},
      "outputs": [],
      "source": []
    },
    {
      "cell_type": "markdown",
      "id": "728dcf42-fde6-414c-8ce4-7c6e7c63d9c8",
      "metadata": {},
      "source": [
        "## 2 Creating Multiple Subplots\n",
        "\n",
        "Often, we want to visualize different kinds of data side by side. For\n",
        "example, in our example data set, it would be interesting to plot the\n",
        "changes in fertility rate together with changes in population size. This\n",
        "can be done with the `plt.subplot()` function. `plt.subplot` takes three\n",
        "integer numbers as arguments. The first two numbers determine rows and\n",
        "columns in the grid of subplots. The third number determines the\n",
        "position of the current subplot in that grid, counting from left to\n",
        "right and from top to bottom. To create multiple subplots, we call\n",
        "`plt.subplot()` once, call the Matplotlib commands we want to execute\n",
        "(e.g. `plt.plot()` or `plt.xlabel()`) and then call `plt.subplot()`\n",
        "again to create the next one. Once we are done, we can save our result\n",
        "to an image using the `plt.savefig()` function.\n",
        "\n",
        "| Code | Description |\n",
        "|------------------------------------|------------------------------------|\n",
        "| `plt.subplots(2, 2, 1)` | Draw the first (i.e. upper left) subplot in a 2-by-2 grid |\n",
        "| `plt.subplots(2, 2, 4)` | Draw the fourth (i.e. lower right) subplot in a 2-by-2 grid |\n",
        "| `plt.tight_layout()` | Adjust the layout so that the subplots don’t overlap |\n",
        "| `plt.savefig(\"myfig.png\", dpi=300)` | Store the current figure as `\"myfig.png\"` with a resolution of 300 `dpi` (dots per inch) |\n",
        "\n",
        "------------------------------------------------------------------------\n",
        "\n",
        "<span class=\"theorem-title\">**Example 2**</span> Create a 2-by-2 grid of\n",
        "(empty) subplots"
      ]
    },
    {
      "cell_type": "code",
      "execution_count": 15,
      "id": "f5d8def3",
      "metadata": {},
      "outputs": [
        {
          "data": {
            "text/plain": [
              "<Axes: >"
            ]
          },
          "execution_count": 15,
          "metadata": {},
          "output_type": "execute_result"
        },
        {
          "data": {
            "image/png": "[encoded data removed]",
            "text/plain": [
              "<Figure size 640x480 with 4 Axes>"
            ]
          },
          "metadata": {},
          "output_type": "display_data"
        }
      ],
      "source": [
        "plt.subplot(2,2,1)\n",
        "plt.subplot(2,2,2)\n",
        "plt.subplot(2,2,3)\n",
        "plt.subplot(2,2,4)"
      ]
    },
    {
      "cell_type": "markdown",
      "id": "e351c2a6-90af-480e-b25f-b6fa2bd9586c",
      "metadata": {},
      "source": [
        "<span class=\"theorem-title\">**Example 3**</span> Create a 2-by-1 grid of\n",
        "(empty) subplots and label their x-axes as `\"x1\"` and `\"x2\"`."
      ]
    },
    {
      "cell_type": "code",
      "execution_count": 16,
      "id": "b9ee968e",
      "metadata": {},
      "outputs": [
        {
          "data": {
            "text/plain": [
              "Text(0.5, 0, 'x2')"
            ]
          },
          "execution_count": 16,
          "metadata": {},
          "output_type": "execute_result"
        },
        {
          "data": {
            "image/png": "[encoded data removed]",
            "text/plain": [
              "<Figure size 640x480 with 2 Axes>"
            ]
          },
          "metadata": {},
          "output_type": "display_data"
        }
      ],
      "source": [
        "plt.subplot(2,1,1)\n",
        "plt.xlabel(\"x1\")\n",
        "plt.subplot(2,1,2)\n",
        "plt.xlabel(\"x2\")"
      ]
    },
    {
      "cell_type": "markdown",
      "id": "d4fcb206-f809-41cb-b7e1-3bb2b2524e18",
      "metadata": {},
      "source": [
        "<span class=\"theorem-title\">**Exercise 8**</span> Create a 1-by-2 grid\n",
        "of (empty) subplots"
      ]
    },
    {
      "cell_type": "code",
      "execution_count": null,
      "id": "ccd19954",
      "metadata": {},
      "outputs": [],
      "source": []
    },
    {
      "cell_type": "markdown",
      "id": "1e7c6c55-1592-44c0-9059-142f73c8cccd",
      "metadata": {},
      "source": [
        "<span class=\"theorem-title\">**Exercise 9**</span> Create a 1-by-2 grid\n",
        "of subplots. On the first one, plot the `\"fertility\"` rate and, one the\n",
        "second one, the population size (`\"pop\"`) over time (`\"year\"`) for\n",
        "Germany (`df_ger`). Label the y-axes `\"Fertility Rate\"` and\n",
        "`\"Population Size\"` and the x-axes `\"Year\"`"
      ]
    },
    {
      "cell_type": "code",
      "execution_count": null,
      "id": "0366e4ca",
      "metadata": {},
      "outputs": [],
      "source": [
        "\n"
      ]
    },
    {
      "cell_type": "markdown",
      "id": "68aaf92d-762b-4216-9588-04497f2950cd",
      "metadata": {},
      "source": [
        "<span class=\"theorem-title\">**Exercise 10**</span> Re-create the plot\n",
        "from <a href=\"#exr-subplots\" class=\"quarto-xref\">Exercise 9</a> but call\n",
        "`plt.tight_layout()`."
      ]
    },
    {
      "cell_type": "code",
      "execution_count": null,
      "id": "b12a816b",
      "metadata": {},
      "outputs": [],
      "source": []
    },
    {
      "cell_type": "markdown",
      "id": "80338eec-dfc4-4342-9139-85fdc20e5d95",
      "metadata": {},
      "source": [
        "<span class=\"theorem-title\">**Exercise 11**</span> Create a 3-by-1 grid\n",
        "of subplots. On the first one, plot the `\"fertility\"` rate and, on the\n",
        "second one, the population size (`\"pop\"`) and on the third one the life\n",
        "expectancy (`\"life_expect\"`) over time (`\"year\"`) for the United States\n",
        "(`df_usa`). Label the x-axes with `\"Fertility Rate\"`,\n",
        "`\"Population Size\"` and `\"Life Expectancy\"`. Label the x-axis with\n",
        "`\"Year\"`, only for the last subplot."
      ]
    },
    {
      "cell_type": "code",
      "execution_count": null,
      "id": "f5bc3e72",
      "metadata": {},
      "outputs": [],
      "source": []
    },
    {
      "cell_type": "markdown",
      "id": "7d7a5e4c-00ee-4910-a12e-e6c1d6426a3c",
      "metadata": {},
      "source": [
        "<span class=\"theorem-title\">**Exercise 12**</span> Re-create the figure\n",
        "from <a href=\"#exr-us\" class=\"quarto-xref\">Exercise 11</a> and save it\n",
        "to a file called `gapminder_us.png` with 300 `dpi`. Then, open the image\n",
        "with your file browser to verify that the image was saved correctly."
      ]
    },
    {
      "cell_type": "code",
      "execution_count": null,
      "id": "f2eb891c",
      "metadata": {},
      "outputs": [],
      "source": []
    },
    {
      "cell_type": "markdown",
      "id": "4039add3-041a-4598-ba59-6c3f35af5ebb",
      "metadata": {},
      "source": [
        "## 3 Plotting and Quantifying the Relationship between Variables\n",
        "\n",
        "Visualizations are great for understanding the relationship between\n",
        "variables. However, we also may want to quantify that relationship\n",
        "statistically. A simple way to do this is to fit a linear model to the\n",
        "data. The linear model describes the relationship between a dependent\n",
        "variable `x` and an independent variable `y` as a line. That line has\n",
        "two parameters: the intercept `a` and the slope `b`. `a` is the value of\n",
        "`y` when `x==0` and `b` is the change in `y` that corresponds to a unit\n",
        "change in `x`. In this section, we will use the `linregress()` function\n",
        "from the `scipy.stats` module to model the relationship between life\n",
        "expectancy and fertility in the Gapminder data set. Finally, we will\n",
        "plot the estimated linear model together with the data.\n",
        "\n",
        "| Code | Description |\n",
        "|------------------------------------|------------------------------------|\n",
        "| `plt.scatter(x, y)` | Create a scatter plot with points at the coordinates `x` and `y` |\n",
        "| `from scipy.stats import linregress` | Import the `linregress` function from the `scipy` package |\n",
        "| `results = linregress(x, y)` | Compute the linear regression between the variables x and y and assign the returned value to a variable `results` |\n",
        "\n",
        "------------------------------------------------------------------------\n",
        "\n",
        "<span class=\"theorem-title\">**Example 4**</span> Create a `scatter`\n",
        "plot to visualize the relationship between life expectancy\n",
        "(`\"life_expect\"`) and fertility rates (`\"fertility\"`) for the whole\n",
        "Gapminder data set (`df`) and label the axes with\n",
        "`\"Life Expectancy in Years\"` and `\"Fertility Rate\"`."
      ]
    },
    {
      "cell_type": "code",
      "execution_count": null,
      "id": "31bcdd79",
      "metadata": {},
      "outputs": [],
      "source": [
        "plt.scatter(df['life_expect'], df['fertility'])\n",
        "plt.xlabel('Life Expectancy in Years')\n",
        "plt.ylabel('Fertility Rate')"
      ]
    },
    {
      "cell_type": "markdown",
      "id": "c7c59b10",
      "metadata": {},
      "source": [
        "Run the cell below to get the data for Asia and North America, respectively, and put them in separate data frames `df_asia` and `df_noram`."
      ]
    },
    {
      "cell_type": "code",
      "execution_count": null,
      "id": "5fe12a4e",
      "metadata": {},
      "outputs": [],
      "source": [
        "df_asia = df[df['continent'] == 'Asia']\n",
        "df_noram = df[df['continent'] == 'North America']"
      ]
    },
    {
      "cell_type": "markdown",
      "id": "c6b6fb7a",
      "metadata": {},
      "source": [
        "<span class=\"theorem-title\">**Exercise 14**</span> Create a `scatter`\n",
        "plot to visualize the relationship between life expectancy\n",
        "(`\"life_expect\"`) and fertility rates (`\"fertility\"`) for Asia (`df_asia`) and label the axes with\n",
        "`\"Life Expectancy in Years\"` and `\"Fertility Rate\"`."
      ]
    },
    {
      "cell_type": "code",
      "execution_count": null,
      "id": "69cca05d",
      "metadata": {},
      "outputs": [],
      "source": []
    },
    {
      "cell_type": "markdown",
      "id": "1a23de45",
      "metadata": {},
      "source": [
        "<span class=\"theorem-title\">**Exercise 15**</span> Create a `scatter`\n",
        "plot to visualize the relationship between life expectancy\n",
        "(`\"life_expect\"`) and fertility rates (`\"fertility\"`) for **both** Asia (`df_asia`) and North America (`df_noram`) together in the same plot. Label the axes with\n",
        "`\"Life Expectancy in Years\"` and `\"Fertility Rate\"`."
      ]
    },
    {
      "cell_type": "code",
      "execution_count": null,
      "id": "c9f121f7",
      "metadata": {},
      "outputs": [],
      "source": []
    },
    {
      "cell_type": "markdown",
      "id": "8b368041-dbf5-4b99-a9d0-4aacdbc9b10e",
      "metadata": {},
      "source": [
        "<span class=\"theorem-title\">**Exercise 13**</span> Import the\n",
        "`linregress` function from the `scipy.stats` module."
      ]
    },
    {
      "cell_type": "code",
      "execution_count": null,
      "id": "2140e85f",
      "metadata": {},
      "outputs": [],
      "source": []
    },
    {
      "cell_type": "markdown",
      "id": "37402e36-b237-45f2-9813-af45a52932b2",
      "metadata": {},
      "source": [
        "<span class=\"theorem-title\">**Example 5**</span> Compute the linear\n",
        "regression between life expectancy (`\"life_expect\"`) and population size\n",
        "(`\"pop\"`) and store the returned value in a variable called `results`.\n",
        "Then, extract the p-value which is stored in the 4th element of\n",
        "`results`, assign it to a variable `p` and print that variable."
      ]
    },
    {
      "cell_type": "code",
      "execution_count": 27,
      "id": "3403c750",
      "metadata": {},
      "outputs": [
        {
          "name": "stdout",
          "output_type": "stream",
          "text": [
            "0.10897571814366508\n"
          ]
        }
      ],
      "source": [
        "results = linregress(df[\"life_expect\"], df[\"pop\"])\n",
        "p = results[3]\n",
        "print(p)"
      ]
    },
    {
      "cell_type": "markdown",
      "id": "0b1349d1-8927-4f80-b683-87ca4096eb82",
      "metadata": {},
      "source": [
        "<span class=\"theorem-title\">**Exercise 14**</span> Compute the linear\n",
        "regression between life expectancy (`\"life_expect\"`) and fertility rate\n",
        "(`\"fertility\"`) and store the returned value in a variable called `results`.\n",
        "Then, extract the slope and intercept which are stored in the 1st and\n",
        "2nd element of `results`, assign them to variables `slope` and `intercept` print\n",
        "those variable."
      ]
    },
    {
      "cell_type": "code",
      "execution_count": null,
      "id": "185f20f8",
      "metadata": {},
      "outputs": [],
      "source": []
    },
    {
      "cell_type": "markdown",
      "id": "8a4db05c-c199-478c-bcd0-c82e6bb124d0",
      "metadata": {},
      "source": [
        "<span class=\"theorem-title\">**Exercise 15**</span> Execute the cell\n",
        "below to create the `line()` function which takes in `x` values, the\n",
        "``intercept``, and the ``slope``, and returns the corresponding y-values.\n",
        "Then call `line()` and pass the life expectancy values in\n",
        "`df[\"life_expect\"]`, the ``intercept`` and the ``slope`` to obtain the\n",
        "fertility rates predicted by the model. Store those in a new variable\n",
        "called `fertility_pred`."
      ]
    },
    {
      "cell_type": "code",
      "execution_count": 29,
      "id": "08b3a857",
      "metadata": {},
      "outputs": [],
      "source": [
        "def line(x, slope, intercept):\n",
        "    \"\"\"\n",
        "    Return points on a line for the given x coordinates.\n",
        "    Arguments:\n",
        "        x: x-coordinates of the data points.\n",
        "        a: intercept of the line.\n",
        "        b: slope of the line.\n",
        "    Returns:\n",
        "        y: y-coordinates of the data point.\n",
        "    \"\"\"\n",
        "    y = intercept + slope * x\n",
        "    return y"
      ]
    },
    {
      "cell_type": "code",
      "execution_count": 30,
      "id": "6d4222d8",
      "metadata": {},
      "outputs": [],
      "source": [
        "fertility_pred = line(df['life_expect'], slope, intercept)"
      ]
    },
    {
      "cell_type": "markdown",
      "id": "0c5f16d4",
      "metadata": {},
      "source": [
        "**Exercise 16** Plot the predicted fertility (`fertility_pred`) against the life expectance (`df['life_expect]`) in a standard line plot (`plt.plot()`). Label the x- and y-axis `\"Life Expectancy in Years\"` and `\"Fertility Rate of the Population\"`, respectively."
      ]
    },
    {
      "cell_type": "code",
      "execution_count": null,
      "id": "4bff83fa",
      "metadata": {},
      "outputs": [],
      "source": []
    },
    {
      "cell_type": "markdown",
      "id": "5b5df8e6-82fa-456a-9f00-e02ae3444bfa",
      "metadata": {},
      "source": [
        "<span class=\"theorem-title\">**Exercise 18**</span> Create a `scatter`\n",
        "plot to visualize the relationship between life expectancy\n",
        "(`\"life_expect\"`) and fertility rates (`\"fertility\"`). Then,\n",
        "`plt.plot()` the predicted fertility rates against the life expectancy\n",
        "in the same plot. Finally, label the axes with\n",
        "`\"Life Expectancy in Years\"` and `\"Fertility Rate\"`.\n",
        "\n",
        "*Hint*: Change the color of the predicted fertility line if it's hard to see."
      ]
    },
    {
      "cell_type": "code",
      "execution_count": null,
      "id": "e6bf3c49",
      "metadata": {},
      "outputs": [],
      "source": []
    },
    {
      "cell_type": "markdown",
      "id": "5b482b07-69d6-49c6-a85c-52a98b4789ff",
      "metadata": {},
      "source": [
        "## 4 Combining Matplotlib with Seaborn\n",
        "\n",
        "Matplotlib takes an **imperative** approach to visualization where we\n",
        "specify exactly what we want to draw. This provides fine-grained control\n",
        "but also requires you to write more code. In contrast, Seaborn takes a\n",
        "more **declarative** approach where we specify what data we want to\n",
        "visualize. This allows us to create detailed visualizations without\n",
        "having to worry about the low level implementation. Finally, we can\n",
        "combine the advantages both approaches and use Seaborn to create and\n",
        "Matplotlib to customize our visualizations. In this section, we will use\n",
        "Seaborn to create detailed visualizations of the Gapminder data. Then,\n",
        "we’ll plot these visualizations to subplots created with Matplotlib and\n",
        "customize them.\n",
        "\n",
        "| Code | Description |\n",
        "|------------------------------------|------------------------------------|\n",
        "| `sns.kdeplot(data=df, x=\"var1\", hue=\"var2\")` | Plot the kernel density estimate (kde) for variable `\"var1\"` from `df` and add a `hue` to encode `\"var2\"` |\n",
        "| `sns.scatterplot(data=df, x=\"var1\", y=\"var2\", hue=\"var3\")` | Plot `\"var1\"` against `\"var2\"` in a `scatterplot` and add a `hue` to encode `\"var3\"` |\n",
        "| `ax1 = plt.subplot(1,2,1)` | Create the first `subplot` in a 1-by-2 grid and assign the returned object to a variable `ax1` |\n",
        "| `sns.scatterplot(data=df, x=\"var1\", y=\"var2\", ax=ax1)` | Plot `\"var1\"` against `\"var2\"` in a `scatterplot` on subplot `ax1` |\n",
        "| `ax1.annotate(\"X\", xy=(0.5,0.5), xycoords=\"axes fraction\", fontsize = 18)` | Plot the letter `\"X\"` on subplot `ax1` at `xy` coordinates `(0.5,0.5)` defined in fractions of an axis (i.e. in the middle of the plot). Fontsize is an optional argument. |\n",
        "\n",
        "------------------------------------------------------------------------\n",
        "\n",
        "<span class=\"theorem-title\">**Exercise 19**</span> Import the `seaborn`\n",
        "library under the alias `sns`"
      ]
    },
    {
      "cell_type": "code",
      "execution_count": null,
      "id": "854f9b76",
      "metadata": {},
      "outputs": [],
      "source": []
    },
    {
      "cell_type": "markdown",
      "id": "6f786f05-c91f-40b8-9002-bb5f5187835c",
      "metadata": {},
      "source": [
        "<span class=\"theorem-title\">**Exercise 20**</span> Create a\n",
        "`sns.scatterplot()` to visualize the relationship between life\n",
        "expectancy (`\"life_expect\"`) and `\"fertility\"` rates for the Gapminder\n",
        "data and add `hue` to encode the `\"continent\"`."
      ]
    },
    {
      "cell_type": "code",
      "execution_count": null,
      "id": "1e53aeb8",
      "metadata": {},
      "outputs": [],
      "source": []
    },
    {
      "cell_type": "markdown",
      "id": "9ba9a97e-dabb-465f-a1a3-1e5ad6141bf1",
      "metadata": {},
      "source": [
        "<span class=\"theorem-title\">**Exercise 21**</span> Create a\n",
        "`sns.kdeplot()` (kernel density estimate) to visualize the global\n",
        "distribution for `\"fertility\"` rates and add `hue` to encode the\n",
        "`\"year\"`."
      ]
    },
    {
      "cell_type": "code",
      "execution_count": null,
      "id": "840cb0e3",
      "metadata": {},
      "outputs": [],
      "source": []
    },
    {
      "cell_type": "markdown",
      "id": "6c273f4c-99f7-4f34-89e4-971b91611ba9",
      "metadata": {},
      "source": [
        "<span class=\"theorem-title\">**Example 6**</span> Create the first\n",
        "subplot in a 1-by-2 grid and assign the returned axes object to a\n",
        "variable called `ax1`. Then, create the scatter plot from\n",
        "<a href=\"#exr-sns_scatter\" class=\"quarto-xref\">Exercise 20</a> and draw\n",
        "it to the subplot by using the `ax` argument of `sns.scatterplot()`."
      ]
    },
    {
      "cell_type": "code",
      "execution_count": null,
      "id": "c2fd7313",
      "metadata": {},
      "outputs": [],
      "source": [
        "ax1 = plt.subplot(1,2,1)\n",
        "sns.scatterplot(x=df[\"life_expect\"], y=df[\"fertility\"], hue=df[\"continent\"], ax=ax1)"
      ]
    },
    {
      "cell_type": "markdown",
      "id": "763042a5-c3c2-43c9-8685-e8d909c7b3ba",
      "metadata": {},
      "source": [
        "<span class=\"theorem-title\">**Exercise 22**</span> Create two subplots\n",
        "in a 1-by-2 grid and assign the returned axes to two variables `ax1` and\n",
        "`ax2`. Then, create the scatter plot from\n",
        "<a href=\"#exr-sns_scatter\" class=\"quarto-xref\">Exercise 20</a> and the\n",
        "kde plot from <a href=\"#exr-sns_kde\" class=\"quarto-xref\">Exercise 21</a>\n",
        "and draw them to the subplots `ax1` and `ax2` by using the `ax` argument\n",
        "of `sns.scatterplot()` and `sns.kdeplot()`. Use `plt.tight_layout()` if\n",
        "necessary."
      ]
    },
    {
      "cell_type": "code",
      "execution_count": null,
      "id": "5d02c7a3",
      "metadata": {},
      "outputs": [],
      "source": []
    },
    {
      "cell_type": "markdown",
      "id": "0c02a0ff-b9ae-441d-ab55-01a8932f9c80",
      "metadata": {},
      "source": [
        "<span class=\"theorem-title\">**Exercise 23**</span> Re-create the figure\n",
        "from <a href=\"#exr-sns_subplots\" class=\"quarto-xref\">Exercise 22</a> and\n",
        "use the `.set()` method to set the `xlabel` and `ylabel` of the scatter\n",
        "plot to `\"Life Expectancy in Years\"` and `\"Fertility Rate\"` and set the\n",
        "`xlabel` of the kde plot to `\"Fertility Rate\"`."
      ]
    },
    {
      "cell_type": "code",
      "execution_count": null,
      "id": "ee7be676",
      "metadata": {},
      "outputs": [],
      "source": []
    },
    {
      "cell_type": "markdown",
      "id": "9c920cf8-73ba-4e99-a517-7225f36cdc00",
      "metadata": {},
      "source": [
        "<span class=\"theorem-title\">**Exercise 24**</span> Re-create the plot\n",
        "from <a href=\"#exr-sns_labels\" class=\"quarto-xref\">Exercise 23</a> and\n",
        "use the `.annotate()` method to draw the letters `\"A\"` and `\"B\"` in the\n",
        "top left corner of the subplots."
      ]
    },
    {
      "cell_type": "code",
      "execution_count": null,
      "id": "da49ceef",
      "metadata": {},
      "outputs": [],
      "source": []
    },
    {
      "cell_type": "code",
      "execution_count": null,
      "id": "c3cab4d4",
      "metadata": {},
      "outputs": [],
      "source": []
    },
    {
      "cell_type": "code",
      "execution_count": null,
      "id": "fcb77115",
      "metadata": {},
      "outputs": [],
      "source": []
    }
  ],
  "metadata": {
    "kernelspec": {
      "display_name": "intro_to_python3",
      "language": "python",
      "name": "python3"
    },
    "language_info": {
      "codemirror_mode": {
        "name": "ipython",
        "version": 3
      },
      "file_extension": ".py",
      "mimetype": "text/x-python",
      "name": "python",
      "nbconvert_exporter": "python",
      "pygments_lexer": "ipython3",
      "version": "3.12.10"
    }
  },
  "nbformat": 4,
  "nbformat_minor": 5
}
